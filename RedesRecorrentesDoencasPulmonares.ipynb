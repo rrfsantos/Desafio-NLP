{
  "nbformat": 4,
  "nbformat_minor": 0,
  "metadata": {
    "colab": {
      "name": "RedesRecorrentesDoencasPulmonares.ipynb",
      "provenance": [],
      "collapsed_sections": [],
      "include_colab_link": true
    },
    "kernelspec": {
      "name": "python3",
      "display_name": "Python 3",
      "language": "python"
    },
    "accelerator": "TPU"
  },
  "cells": [
    {
      "cell_type": "markdown",
      "metadata": {
        "id": "view-in-github",
        "colab_type": "text"
      },
      "source": [
        "<a href=\"https://colab.research.google.com/github/rrfsantos/Desafios-NLP/blob/main/RedesRecorrentesDoencasPulmonares.ipynb\" target=\"_parent\"><img src=\"https://colab.research.google.com/assets/colab-badge.svg\" alt=\"Open In Colab\"/></a>"
      ]
    },
    {
      "cell_type": "markdown",
      "metadata": {
        "id": "bgc8yb4c2W0g"
      },
      "source": [
        "# Recurrent Neural Network - LSTM\n"
      ]
    },
    {
      "cell_type": "markdown",
      "metadata": {
        "id": "aew2N81e35Uc"
      },
      "source": [
        "## Parte 1 - Preprocessamento de Dados"
      ]
    },
    {
      "cell_type": "markdown",
      "metadata": {
        "id": "Z0vulSxH2hHu"
      },
      "source": [
        "### Importar as bibliotecas"
      ]
    },
    {
      "cell_type": "code",
      "metadata": {
        "id": "p2SjiqlE2O08",
        "colab": {
          "base_uri": "https://localhost:8080/"
        },
        "outputId": "0f02b1f1-06df-4359-a250-4c9a3e95751f"
      },
      "source": [
        "%tensorflow_version 1.x\n",
        "import numpy as np\n",
        "import matplotlib.pyplot as plt\n",
        "import pandas as pd\n",
        "import os"
      ],
      "execution_count": null,
      "outputs": [
        {
          "output_type": "stream",
          "text": [
            "TensorFlow 1.x selected.\n"
          ],
          "name": "stdout"
        }
      ]
    },
    {
      "cell_type": "markdown",
      "metadata": {
        "id": "36Q16Udt2l3W"
      },
      "source": [
        "### Importar a base de dados"
      ]
    },
    {
      "cell_type": "code",
      "metadata": {
        "id": "1ivhnWxD2eEG"
      },
      "source": [
        "dataset_train = pd.read_csv('/content/train.csv')\n",
        "training_set = dataset_train.iloc[:, 1:2].values #só coluna da série em si"
      ],
      "execution_count": null,
      "outputs": []
    },
    {
      "cell_type": "markdown",
      "metadata": {
        "id": "kd39T1zK2ql1"
      },
      "source": [
        "### gráfico da série temporal"
      ]
    },
    {
      "cell_type": "code",
      "metadata": {
        "id": "vMsAFuya2rhr",
        "colab": {
          "base_uri": "https://localhost:8080/",
          "height": 295
        },
        "outputId": "ad6f68f9-8aa4-4e39-a4a5-28c9378f693b"
      },
      "source": [
        "plt.plot(training_set)\n",
        "plt.xlabel(\"Tempo\")\n",
        "plt.ylabel(\"Mortes\")\n",
        "plt.title(\"Doenças pulmonares\")\n",
        "plt.show()"
      ],
      "execution_count": null,
      "outputs": [
        {
          "output_type": "display_data",
          "data": {
            "image/png": "[encoded data removed]",
            "text/plain": [
              "<Figure size 432x288 with 1 Axes>"
            ]
          },
          "metadata": {
            "tags": [],
            "needs_background": "light"
          }
        }
      ]
    },
    {
      "cell_type": "markdown",
      "metadata": {
        "id": "7p1F7HdB2uJU"
      },
      "source": [
        "### Normalização para input no modelo"
      ]
    },
    {
      "cell_type": "code",
      "metadata": {
        "id": "foeHRZr-2u-L"
      },
      "source": [
        "from sklearn.preprocessing import MinMaxScaler\n",
        "sc = MinMaxScaler(feature_range = (0, 1))\n",
        "training_set_scaled = sc.fit_transform(training_set)"
      ],
      "execution_count": null,
      "outputs": []
    },
    {
      "cell_type": "markdown",
      "metadata": {
        "id": "uQP8Q7MI21Y9"
      },
      "source": [
        "### Criar a estrutura de dados com janela 10 e output 1"
      ]
    },
    {
      "cell_type": "code",
      "metadata": {
        "id": "C6Ge9ql922cb"
      },
      "source": [
        "window = 10\n",
        "trainSize = len(training_set_scaled)\n",
        "X_train = []\n",
        "y_train = []\n",
        "for i in range(window, trainSize):\n",
        "    X_train.append(training_set_scaled[i-window:i, 0])\n",
        "    y_train.append(training_set_scaled[i, 0])\n",
        "X_train, y_train = np.array(X_train), np.array(y_train)"
      ],
      "execution_count": null,
      "outputs": []
    },
    {
      "cell_type": "markdown",
      "metadata": {
        "id": "LPBC2LoG24dU"
      },
      "source": [
        "### Reshaping"
      ]
    },
    {
      "cell_type": "code",
      "metadata": {
        "id": "oGwgQUDbdmnS",
        "colab": {
          "base_uri": "https://localhost:8080/"
        },
        "outputId": "db32b6a4-fadd-45f9-c80d-7c302f7b6cf0"
      },
      "source": [
        "X_train.shape"
      ],
      "execution_count": null,
      "outputs": [
        {
          "output_type": "execute_result",
          "data": {
            "text/plain": [
              "(50, 10)"
            ]
          },
          "metadata": {
            "tags": []
          },
          "execution_count": 6
        }
      ]
    },
    {
      "cell_type": "code",
      "metadata": {
        "id": "b9ZfLlGH25fr"
      },
      "source": [
        "X_train = np.reshape(X_train, (X_train.shape[0], X_train.shape[1], 1))"
      ],
      "execution_count": null,
      "outputs": []
    },
    {
      "cell_type": "code",
      "metadata": {
        "id": "RxU0axM9diHO",
        "colab": {
          "base_uri": "https://localhost:8080/"
        },
        "outputId": "dd6b4b29-545a-4097-e4cf-0b7e2a67cede"
      },
      "source": [
        "X_train.shape"
      ],
      "execution_count": null,
      "outputs": [
        {
          "output_type": "execute_result",
          "data": {
            "text/plain": [
              "(50, 10, 1)"
            ]
          },
          "metadata": {
            "tags": []
          },
          "execution_count": 8
        }
      ]
    },
    {
      "cell_type": "markdown",
      "metadata": {
        "id": "fZhjp7Tf282b"
      },
      "source": [
        "## Parte 2 - Construção da RNN"
      ]
    },
    {
      "cell_type": "markdown",
      "metadata": {
        "id": "RDkAxmMl3EXr"
      },
      "source": [
        "### Bibliotecas necessárias"
      ]
    },
    {
      "cell_type": "code",
      "metadata": {
        "id": "Ifhh9yUo3DpT",
        "colab": {
          "base_uri": "https://localhost:8080/"
        },
        "outputId": "dc911f9e-808b-4f2d-ef32-ee3cca1979d3"
      },
      "source": [
        "from keras.models import Sequential\n",
        "from keras.layers import Dense\n",
        "from keras.layers import LSTM\n",
        "from keras.layers import Dropout"
      ],
      "execution_count": null,
      "outputs": [
        {
          "output_type": "stream",
          "text": [
            "Using TensorFlow backend.\n"
          ],
          "name": "stderr"
        }
      ]
    },
    {
      "cell_type": "markdown",
      "metadata": {
        "id": "kordpD0_3H7b"
      },
      "source": [
        "### Construção da Rede completa"
      ]
    },
    {
      "cell_type": "code",
      "metadata": {
        "id": "EskB17uo3Iso",
        "colab": {
          "base_uri": "https://localhost:8080/"
        },
        "outputId": "4526ea83-88f4-4527-baeb-466184dcfd71"
      },
      "source": [
        "# Inicializar a RNN\n",
        "regressor = Sequential()\n",
        "\n",
        "# Adicionar a primeira camada LSTM e Dropout \n",
        "regressor.add(LSTM(units = 48, return_sequences = True, input_shape = (X_train.shape[1], 1)))\n",
        "regressor.add(Dropout(0.2))\n",
        " \n",
        "# Adicionar a segunda camada LSTM e Dropout\n",
        "regressor.add(LSTM(units = 80, return_sequences = False))\n",
        "regressor.add(Dropout(0.2))\n",
        " \n",
        "# Adicionar a terceira camada LSTM e Dropout\n",
        "#regressor.add(LSTM(units = 50))\n",
        "#regressor.add(Dropout(0.2))\n",
        "\n",
        "# camada de saída\n",
        "regressor.add(Dense(units = 1))\n",
        " \n",
        "# Compilar a rede\n",
        "regressor.compile(optimizer = 'adam', loss = 'mean_squared_error')\n",
        "\n",
        "# Visualizar a rede\n",
        "regressor.summary()"
      ],
      "execution_count": null,
      "outputs": [
        {
          "output_type": "stream",
          "text": [
            "WARNING:tensorflow:From /tensorflow-1.15.2/python3.7/tensorflow_core/python/ops/resource_variable_ops.py:1630: calling BaseResourceVariable.__init__ (from tensorflow.python.ops.resource_variable_ops) with constraint is deprecated and will be removed in a future version.\n",
            "Instructions for updating:\n",
            "If using Keras pass *_constraint arguments to layers.\n",
            "Model: \"sequential_1\"\n",
            "_________________________________________________________________\n",
            "Layer (type)                 Output Shape              Param #   \n",
            "=================================================================\n",
            "lstm_1 (LSTM)                (None, 10, 48)            9600      \n",
            "_________________________________________________________________\n",
            "dropout_1 (Dropout)          (None, 10, 48)            0         \n",
            "_________________________________________________________________\n",
            "lstm_2 (LSTM)                (None, 80)                41280     \n",
            "_________________________________________________________________\n",
            "dropout_2 (Dropout)          (None, 80)                0         \n",
            "_________________________________________________________________\n",
            "dense_1 (Dense)              (None, 1)                 81        \n",
            "=================================================================\n",
            "Total params: 50,961\n",
            "Trainable params: 50,961\n",
            "Non-trainable params: 0\n",
            "_________________________________________________________________\n"
          ],
          "name": "stdout"
        }
      ]
    },
    {
      "cell_type": "markdown",
      "metadata": {
        "id": "5j1w28g83iSR"
      },
      "source": [
        "### Treinamento"
      ]
    },
    {
      "cell_type": "code",
      "metadata": {
        "id": "xWKAuKyp3jXv",
        "colab": {
          "base_uri": "https://localhost:8080/"
        },
        "outputId": "ba1ff9de-50cc-4546-dd71-550a9e5fd6a2"
      },
      "source": [
        "regressor.fit(X_train, y_train, epochs = 200, batch_size = 32)"
      ],
      "execution_count": null,
      "outputs": [
        {
          "output_type": "stream",
          "text": [
            "WARNING:tensorflow:From /tensorflow-1.15.2/python3.7/keras/backend/tensorflow_backend.py:422: The name tf.global_variables is deprecated. Please use tf.compat.v1.global_variables instead.\n",
            "\n",
            "Epoch 1/200\n",
            "50/50 [==============================] - 1s 14ms/step - loss: 0.1444\n",
            "Epoch 2/200\n",
            "50/50 [==============================] - 0s 655us/step - loss: 0.1141\n",
            "Epoch 3/200\n",
            "50/50 [==============================] - 0s 658us/step - loss: 0.0891\n",
            "Epoch 4/200\n",
            "50/50 [==============================] - 0s 706us/step - loss: 0.0810\n",
            "Epoch 5/200\n",
            "50/50 [==============================] - 0s 658us/step - loss: 0.0838\n",
            "Epoch 6/200\n",
            "50/50 [==============================] - 0s 642us/step - loss: 0.0835\n",
            "Epoch 7/200\n",
            "50/50 [==============================] - 0s 683us/step - loss: 0.0766\n",
            "Epoch 8/200\n",
            "50/50 [==============================] - 0s 660us/step - loss: 0.0722\n",
            "Epoch 9/200\n",
            "50/50 [==============================] - 0s 683us/step - loss: 0.0741\n",
            "Epoch 10/200\n",
            "50/50 [==============================] - 0s 748us/step - loss: 0.0722\n",
            "Epoch 11/200\n",
            "50/50 [==============================] - 0s 677us/step - loss: 0.0707\n",
            "Epoch 12/200\n",
            "50/50 [==============================] - 0s 706us/step - loss: 0.0705\n",
            "Epoch 13/200\n",
            "50/50 [==============================] - 0s 716us/step - loss: 0.0714\n",
            "Epoch 14/200\n",
            "50/50 [==============================] - 0s 697us/step - loss: 0.0701\n",
            "Epoch 15/200\n",
            "50/50 [==============================] - 0s 756us/step - loss: 0.0664\n",
            "Epoch 16/200\n",
            "50/50 [==============================] - 0s 736us/step - loss: 0.0663\n",
            "Epoch 17/200\n",
            "50/50 [==============================] - 0s 733us/step - loss: 0.0652\n",
            "Epoch 18/200\n",
            "50/50 [==============================] - 0s 719us/step - loss: 0.0647\n",
            "Epoch 19/200\n",
            "50/50 [==============================] - 0s 734us/step - loss: 0.0651\n",
            "Epoch 20/200\n",
            "50/50 [==============================] - 0s 757us/step - loss: 0.0654\n",
            "Epoch 21/200\n",
            "50/50 [==============================] - 0s 759us/step - loss: 0.0623\n",
            "Epoch 22/200\n",
            "50/50 [==============================] - 0s 866us/step - loss: 0.0607\n",
            "Epoch 23/200\n",
            "50/50 [==============================] - 0s 841us/step - loss: 0.0595\n",
            "Epoch 24/200\n",
            "50/50 [==============================] - 0s 697us/step - loss: 0.0610\n",
            "Epoch 25/200\n",
            "50/50 [==============================] - 0s 728us/step - loss: 0.0618\n",
            "Epoch 26/200\n",
            "50/50 [==============================] - 0s 776us/step - loss: 0.0587\n",
            "Epoch 27/200\n",
            "50/50 [==============================] - 0s 920us/step - loss: 0.0570\n",
            "Epoch 28/200\n",
            "50/50 [==============================] - 0s 733us/step - loss: 0.0541\n",
            "Epoch 29/200\n",
            "50/50 [==============================] - 0s 808us/step - loss: 0.0561\n",
            "Epoch 30/200\n",
            "50/50 [==============================] - 0s 773us/step - loss: 0.0550\n",
            "Epoch 31/200\n",
            "50/50 [==============================] - 0s 768us/step - loss: 0.0551\n",
            "Epoch 32/200\n",
            "50/50 [==============================] - 0s 715us/step - loss: 0.0529\n",
            "Epoch 33/200\n",
            "50/50 [==============================] - 0s 851us/step - loss: 0.0473\n",
            "Epoch 34/200\n",
            "50/50 [==============================] - 0s 714us/step - loss: 0.0481\n",
            "Epoch 35/200\n",
            "50/50 [==============================] - 0s 674us/step - loss: 0.0463\n",
            "Epoch 36/200\n",
            "50/50 [==============================] - 0s 731us/step - loss: 0.0447\n",
            "Epoch 37/200\n",
            "50/50 [==============================] - 0s 747us/step - loss: 0.0404\n",
            "Epoch 38/200\n",
            "50/50 [==============================] - 0s 748us/step - loss: 0.0383\n",
            "Epoch 39/200\n",
            "50/50 [==============================] - 0s 756us/step - loss: 0.0377\n",
            "Epoch 40/200\n",
            "50/50 [==============================] - 0s 789us/step - loss: 0.0414\n",
            "Epoch 41/200\n",
            "50/50 [==============================] - 0s 754us/step - loss: 0.0331\n",
            "Epoch 42/200\n",
            "50/50 [==============================] - 0s 737us/step - loss: 0.0345\n",
            "Epoch 43/200\n",
            "50/50 [==============================] - 0s 735us/step - loss: 0.0326\n",
            "Epoch 44/200\n",
            "50/50 [==============================] - 0s 1ms/step - loss: 0.0296\n",
            "Epoch 45/200\n",
            "50/50 [==============================] - 0s 726us/step - loss: 0.0311\n",
            "Epoch 46/200\n",
            "50/50 [==============================] - 0s 891us/step - loss: 0.0292\n",
            "Epoch 47/200\n",
            "50/50 [==============================] - 0s 747us/step - loss: 0.0266\n",
            "Epoch 48/200\n",
            "50/50 [==============================] - 0s 724us/step - loss: 0.0260\n",
            "Epoch 49/200\n",
            "50/50 [==============================] - 0s 1ms/step - loss: 0.0259\n",
            "Epoch 50/200\n",
            "50/50 [==============================] - 0s 969us/step - loss: 0.0237\n",
            "Epoch 51/200\n",
            "50/50 [==============================] - 0s 803us/step - loss: 0.0224\n",
            "Epoch 52/200\n",
            "50/50 [==============================] - 0s 693us/step - loss: 0.0216\n",
            "Epoch 53/200\n",
            "50/50 [==============================] - 0s 715us/step - loss: 0.0213\n",
            "Epoch 54/200\n",
            "50/50 [==============================] - 0s 836us/step - loss: 0.0278\n",
            "Epoch 55/200\n",
            "50/50 [==============================] - 0s 738us/step - loss: 0.0224\n",
            "Epoch 56/200\n",
            "50/50 [==============================] - 0s 680us/step - loss: 0.0233\n",
            "Epoch 57/200\n",
            "50/50 [==============================] - 0s 900us/step - loss: 0.0222\n",
            "Epoch 58/200\n",
            "50/50 [==============================] - 0s 744us/step - loss: 0.0216\n",
            "Epoch 59/200\n",
            "50/50 [==============================] - 0s 663us/step - loss: 0.0217\n",
            "Epoch 60/200\n",
            "50/50 [==============================] - 0s 725us/step - loss: 0.0214\n",
            "Epoch 61/200\n",
            "50/50 [==============================] - 0s 774us/step - loss: 0.0228\n",
            "Epoch 62/200\n",
            "50/50 [==============================] - 0s 751us/step - loss: 0.0237\n",
            "Epoch 63/200\n",
            "50/50 [==============================] - 0s 752us/step - loss: 0.0203\n",
            "Epoch 64/200\n",
            "50/50 [==============================] - 0s 771us/step - loss: 0.0233\n",
            "Epoch 65/200\n",
            "50/50 [==============================] - 0s 734us/step - loss: 0.0202\n",
            "Epoch 66/200\n",
            "50/50 [==============================] - 0s 771us/step - loss: 0.0192\n",
            "Epoch 67/200\n",
            "50/50 [==============================] - 0s 766us/step - loss: 0.0201\n",
            "Epoch 68/200\n",
            "50/50 [==============================] - 0s 721us/step - loss: 0.0216\n",
            "Epoch 69/200\n",
            "50/50 [==============================] - 0s 836us/step - loss: 0.0210\n",
            "Epoch 70/200\n",
            "50/50 [==============================] - 0s 742us/step - loss: 0.0219\n",
            "Epoch 71/200\n",
            "50/50 [==============================] - 0s 954us/step - loss: 0.0201\n",
            "Epoch 72/200\n",
            "50/50 [==============================] - 0s 719us/step - loss: 0.0217\n",
            "Epoch 73/200\n",
            "50/50 [==============================] - 0s 875us/step - loss: 0.0188\n",
            "Epoch 74/200\n",
            "50/50 [==============================] - 0s 736us/step - loss: 0.0212\n",
            "Epoch 75/200\n",
            "50/50 [==============================] - 0s 740us/step - loss: 0.0189\n",
            "Epoch 76/200\n",
            "50/50 [==============================] - 0s 625us/step - loss: 0.0227\n",
            "Epoch 77/200\n",
            "50/50 [==============================] - 0s 734us/step - loss: 0.0188\n",
            "Epoch 78/200\n",
            "50/50 [==============================] - 0s 696us/step - loss: 0.0193\n",
            "Epoch 79/200\n",
            "50/50 [==============================] - 0s 907us/step - loss: 0.0180\n",
            "Epoch 80/200\n",
            "50/50 [==============================] - 0s 830us/step - loss: 0.0173\n",
            "Epoch 81/200\n",
            "50/50 [==============================] - 0s 754us/step - loss: 0.0196\n",
            "Epoch 82/200\n",
            "50/50 [==============================] - 0s 774us/step - loss: 0.0174\n",
            "Epoch 83/200\n",
            "50/50 [==============================] - 0s 778us/step - loss: 0.0183\n",
            "Epoch 84/200\n",
            "50/50 [==============================] - 0s 809us/step - loss: 0.0207\n",
            "Epoch 85/200\n",
            "50/50 [==============================] - 0s 760us/step - loss: 0.0196\n",
            "Epoch 86/200\n",
            "50/50 [==============================] - 0s 724us/step - loss: 0.0201\n",
            "Epoch 87/200\n",
            "50/50 [==============================] - 0s 782us/step - loss: 0.0199\n",
            "Epoch 88/200\n",
            "50/50 [==============================] - 0s 738us/step - loss: 0.0185\n",
            "Epoch 89/200\n",
            "50/50 [==============================] - 0s 728us/step - loss: 0.0178\n",
            "Epoch 90/200\n",
            "50/50 [==============================] - 0s 790us/step - loss: 0.0210\n",
            "Epoch 91/200\n",
            "50/50 [==============================] - 0s 722us/step - loss: 0.0176\n",
            "Epoch 92/200\n",
            "50/50 [==============================] - 0s 930us/step - loss: 0.0181\n",
            "Epoch 93/200\n",
            "50/50 [==============================] - 0s 691us/step - loss: 0.0183\n",
            "Epoch 94/200\n",
            "50/50 [==============================] - 0s 897us/step - loss: 0.0178\n",
            "Epoch 95/200\n",
            "50/50 [==============================] - 0s 970us/step - loss: 0.0161\n",
            "Epoch 96/200\n",
            "50/50 [==============================] - 0s 828us/step - loss: 0.0185\n",
            "Epoch 97/200\n",
            "50/50 [==============================] - 0s 833us/step - loss: 0.0149\n",
            "Epoch 98/200\n",
            "50/50 [==============================] - 0s 737us/step - loss: 0.0174\n",
            "Epoch 99/200\n",
            "50/50 [==============================] - 0s 835us/step - loss: 0.0163\n",
            "Epoch 100/200\n",
            "50/50 [==============================] - 0s 888us/step - loss: 0.0170\n",
            "Epoch 101/200\n",
            "50/50 [==============================] - 0s 833us/step - loss: 0.0164\n",
            "Epoch 102/200\n",
            "50/50 [==============================] - 0s 837us/step - loss: 0.0146\n",
            "Epoch 103/200\n",
            "50/50 [==============================] - 0s 865us/step - loss: 0.0149\n",
            "Epoch 104/200\n",
            "50/50 [==============================] - 0s 866us/step - loss: 0.0165\n",
            "Epoch 105/200\n",
            "50/50 [==============================] - 0s 705us/step - loss: 0.0140\n",
            "Epoch 106/200\n",
            "50/50 [==============================] - 0s 784us/step - loss: 0.0151\n",
            "Epoch 107/200\n",
            "50/50 [==============================] - 0s 789us/step - loss: 0.0157\n",
            "Epoch 108/200\n",
            "50/50 [==============================] - 0s 875us/step - loss: 0.0161\n",
            "Epoch 109/200\n",
            "50/50 [==============================] - 0s 828us/step - loss: 0.0170\n",
            "Epoch 110/200\n",
            "50/50 [==============================] - 0s 691us/step - loss: 0.0146\n",
            "Epoch 111/200\n",
            "50/50 [==============================] - 0s 768us/step - loss: 0.0146\n",
            "Epoch 112/200\n",
            "50/50 [==============================] - 0s 851us/step - loss: 0.0133\n",
            "Epoch 113/200\n",
            "50/50 [==============================] - 0s 732us/step - loss: 0.0174\n",
            "Epoch 114/200\n",
            "50/50 [==============================] - 0s 834us/step - loss: 0.0179\n",
            "Epoch 115/200\n",
            "50/50 [==============================] - 0s 838us/step - loss: 0.0186\n",
            "Epoch 116/200\n",
            "50/50 [==============================] - 0s 782us/step - loss: 0.0171\n",
            "Epoch 117/200\n",
            "50/50 [==============================] - 0s 805us/step - loss: 0.0151\n",
            "Epoch 118/200\n",
            "50/50 [==============================] - 0s 945us/step - loss: 0.0164\n",
            "Epoch 119/200\n",
            "50/50 [==============================] - 0s 1ms/step - loss: 0.0146\n",
            "Epoch 120/200\n",
            "50/50 [==============================] - 0s 821us/step - loss: 0.0161\n",
            "Epoch 121/200\n",
            "50/50 [==============================] - 0s 814us/step - loss: 0.0131\n",
            "Epoch 122/200\n",
            "50/50 [==============================] - 0s 1ms/step - loss: 0.0142\n",
            "Epoch 123/200\n",
            "50/50 [==============================] - 0s 1ms/step - loss: 0.0146\n",
            "Epoch 124/200\n",
            "50/50 [==============================] - 0s 791us/step - loss: 0.0133\n",
            "Epoch 125/200\n",
            "50/50 [==============================] - 0s 782us/step - loss: 0.0128\n",
            "Epoch 126/200\n",
            "50/50 [==============================] - 0s 804us/step - loss: 0.0127\n",
            "Epoch 127/200\n",
            "50/50 [==============================] - 0s 732us/step - loss: 0.0152\n",
            "Epoch 128/200\n",
            "50/50 [==============================] - 0s 696us/step - loss: 0.0118\n",
            "Epoch 129/200\n",
            "50/50 [==============================] - 0s 842us/step - loss: 0.0134\n",
            "Epoch 130/200\n",
            "50/50 [==============================] - 0s 854us/step - loss: 0.0114\n",
            "Epoch 131/200\n",
            "50/50 [==============================] - 0s 882us/step - loss: 0.0151\n",
            "Epoch 132/200\n",
            "50/50 [==============================] - 0s 789us/step - loss: 0.0162\n",
            "Epoch 133/200\n",
            "50/50 [==============================] - 0s 936us/step - loss: 0.0113\n",
            "Epoch 134/200\n",
            "50/50 [==============================] - 0s 832us/step - loss: 0.0150\n",
            "Epoch 135/200\n",
            "50/50 [==============================] - 0s 804us/step - loss: 0.0119\n",
            "Epoch 136/200\n",
            "50/50 [==============================] - 0s 918us/step - loss: 0.0133\n",
            "Epoch 137/200\n",
            "50/50 [==============================] - 0s 823us/step - loss: 0.0130\n",
            "Epoch 138/200\n",
            "50/50 [==============================] - 0s 793us/step - loss: 0.0155\n",
            "Epoch 139/200\n",
            "50/50 [==============================] - 0s 863us/step - loss: 0.0126\n",
            "Epoch 140/200\n",
            "50/50 [==============================] - 0s 853us/step - loss: 0.0116\n",
            "Epoch 141/200\n",
            "50/50 [==============================] - 0s 1ms/step - loss: 0.0145\n",
            "Epoch 142/200\n",
            "50/50 [==============================] - 0s 806us/step - loss: 0.0141\n",
            "Epoch 143/200\n",
            "50/50 [==============================] - 0s 873us/step - loss: 0.0138\n",
            "Epoch 144/200\n",
            "50/50 [==============================] - 0s 914us/step - loss: 0.0129\n",
            "Epoch 145/200\n",
            "50/50 [==============================] - 0s 914us/step - loss: 0.0116\n",
            "Epoch 146/200\n",
            "50/50 [==============================] - 0s 816us/step - loss: 0.0135\n",
            "Epoch 147/200\n",
            "50/50 [==============================] - 0s 814us/step - loss: 0.0153\n",
            "Epoch 148/200\n",
            "50/50 [==============================] - 0s 710us/step - loss: 0.0121\n",
            "Epoch 149/200\n",
            "50/50 [==============================] - 0s 730us/step - loss: 0.0119\n",
            "Epoch 150/200\n",
            "50/50 [==============================] - 0s 683us/step - loss: 0.0129\n",
            "Epoch 151/200\n",
            "50/50 [==============================] - 0s 806us/step - loss: 0.0127\n",
            "Epoch 152/200\n",
            "50/50 [==============================] - 0s 894us/step - loss: 0.0118\n",
            "Epoch 153/200\n",
            "50/50 [==============================] - 0s 941us/step - loss: 0.0134\n",
            "Epoch 154/200\n",
            "50/50 [==============================] - 0s 876us/step - loss: 0.0140\n",
            "Epoch 155/200\n",
            "50/50 [==============================] - 0s 857us/step - loss: 0.0115\n",
            "Epoch 156/200\n",
            "50/50 [==============================] - 0s 800us/step - loss: 0.0110\n",
            "Epoch 157/200\n",
            "50/50 [==============================] - 0s 690us/step - loss: 0.0111\n",
            "Epoch 158/200\n",
            "50/50 [==============================] - 0s 980us/step - loss: 0.0118\n",
            "Epoch 159/200\n",
            "50/50 [==============================] - 0s 831us/step - loss: 0.0119\n",
            "Epoch 160/200\n",
            "50/50 [==============================] - 0s 847us/step - loss: 0.0126\n",
            "Epoch 161/200\n",
            "50/50 [==============================] - 0s 804us/step - loss: 0.0121\n",
            "Epoch 162/200\n",
            "50/50 [==============================] - 0s 807us/step - loss: 0.0128\n",
            "Epoch 163/200\n",
            "50/50 [==============================] - 0s 827us/step - loss: 0.0100\n",
            "Epoch 164/200\n",
            "50/50 [==============================] - 0s 901us/step - loss: 0.0128\n",
            "Epoch 165/200\n",
            "50/50 [==============================] - 0s 1ms/step - loss: 0.0146\n",
            "Epoch 166/200\n",
            "50/50 [==============================] - 0s 925us/step - loss: 0.0126\n",
            "Epoch 167/200\n",
            "50/50 [==============================] - 0s 801us/step - loss: 0.0130\n",
            "Epoch 168/200\n",
            "50/50 [==============================] - 0s 861us/step - loss: 0.0114\n",
            "Epoch 169/200\n",
            "50/50 [==============================] - 0s 821us/step - loss: 0.0145\n",
            "Epoch 170/200\n",
            "50/50 [==============================] - 0s 807us/step - loss: 0.0131\n",
            "Epoch 171/200\n",
            "50/50 [==============================] - 0s 784us/step - loss: 0.0118\n",
            "Epoch 172/200\n",
            "50/50 [==============================] - 0s 882us/step - loss: 0.0135\n",
            "Epoch 173/200\n",
            "50/50 [==============================] - 0s 786us/step - loss: 0.0113\n",
            "Epoch 174/200\n",
            "50/50 [==============================] - 0s 942us/step - loss: 0.0113\n",
            "Epoch 175/200\n",
            "50/50 [==============================] - 0s 772us/step - loss: 0.0110\n",
            "Epoch 176/200\n",
            "50/50 [==============================] - 0s 791us/step - loss: 0.0118\n",
            "Epoch 177/200\n",
            "50/50 [==============================] - 0s 788us/step - loss: 0.0104\n",
            "Epoch 178/200\n",
            "50/50 [==============================] - 0s 834us/step - loss: 0.0146\n",
            "Epoch 179/200\n",
            "50/50 [==============================] - 0s 854us/step - loss: 0.0110\n",
            "Epoch 180/200\n",
            "50/50 [==============================] - 0s 830us/step - loss: 0.0118\n",
            "Epoch 181/200\n",
            "50/50 [==============================] - 0s 753us/step - loss: 0.0086\n",
            "Epoch 182/200\n",
            "50/50 [==============================] - 0s 739us/step - loss: 0.0117\n",
            "Epoch 183/200\n",
            "50/50 [==============================] - 0s 855us/step - loss: 0.0120\n",
            "Epoch 184/200\n",
            "50/50 [==============================] - 0s 753us/step - loss: 0.0127\n",
            "Epoch 185/200\n",
            "50/50 [==============================] - 0s 781us/step - loss: 0.0092\n",
            "Epoch 186/200\n",
            "50/50 [==============================] - 0s 933us/step - loss: 0.0098\n",
            "Epoch 187/200\n",
            "50/50 [==============================] - 0s 751us/step - loss: 0.0142\n",
            "Epoch 188/200\n",
            "50/50 [==============================] - 0s 914us/step - loss: 0.0111\n",
            "Epoch 189/200\n",
            "50/50 [==============================] - 0s 761us/step - loss: 0.0131\n",
            "Epoch 190/200\n",
            "50/50 [==============================] - 0s 845us/step - loss: 0.0130\n",
            "Epoch 191/200\n",
            "50/50 [==============================] - 0s 768us/step - loss: 0.0133\n",
            "Epoch 192/200\n",
            "50/50 [==============================] - 0s 821us/step - loss: 0.0115\n",
            "Epoch 193/200\n",
            "50/50 [==============================] - 0s 795us/step - loss: 0.0096\n",
            "Epoch 194/200\n",
            "50/50 [==============================] - 0s 731us/step - loss: 0.0143\n",
            "Epoch 195/200\n",
            "50/50 [==============================] - 0s 760us/step - loss: 0.0109\n",
            "Epoch 196/200\n",
            "50/50 [==============================] - 0s 874us/step - loss: 0.0123\n",
            "Epoch 197/200\n",
            "50/50 [==============================] - 0s 908us/step - loss: 0.0147\n",
            "Epoch 198/200\n",
            "50/50 [==============================] - 0s 879us/step - loss: 0.0089\n",
            "Epoch 199/200\n",
            "50/50 [==============================] - 0s 836us/step - loss: 0.0119\n",
            "Epoch 200/200\n",
            "50/50 [==============================] - 0s 875us/step - loss: 0.0116\n"
          ],
          "name": "stdout"
        },
        {
          "output_type": "execute_result",
          "data": {
            "text/plain": [
              "<keras.callbacks.callbacks.History at 0x7f2e3de28e90>"
            ]
          },
          "metadata": {
            "tags": []
          },
          "execution_count": 11
        }
      ]
    },
    {
      "cell_type": "markdown",
      "metadata": {
        "id": "gwpyImwA3yon"
      },
      "source": [
        "## Parte 3 - Fazer as previsões e analisar os resultados"
      ]
    },
    {
      "cell_type": "markdown",
      "metadata": {
        "id": "wkXRvDjT4V-B"
      },
      "source": [
        "### Base de teste"
      ]
    },
    {
      "cell_type": "code",
      "metadata": {
        "id": "Bn_n72dh30K-"
      },
      "source": [
        "dataset_test = pd.read_csv('test.csv')\n",
        "test_pul = dataset_test.iloc[:, 1:2].values"
      ],
      "execution_count": null,
      "outputs": []
    },
    {
      "cell_type": "markdown",
      "metadata": {
        "id": "EOo84exH4bfs"
      },
      "source": [
        "### Construir a estrutura para teste"
      ]
    },
    {
      "cell_type": "code",
      "metadata": {
        "id": "ob_-mGA_B5px"
      },
      "source": [
        "dataset_total = pd.concat((dataset_train.iloc[:,1], dataset_test.iloc[:,1]), axis = 0)\n",
        "testLength = len(dataset_test)\n",
        "inputs = dataset_total[len(dataset_total) - testLength - window:].values\n",
        "inputs = inputs.reshape(inputs.shape[0],1)\n",
        "\n",
        "inputs = sc.transform(inputs)\n",
        "X_test = []\n",
        "for i in range(window, inputs.shape[0]): \n",
        "    X_test.append(inputs[i-window:i, 0])\n",
        "X_test = np.array(X_test)\n",
        "\n",
        "X_test = np.reshape(X_test, (X_test.shape[0], X_test.shape[1], 1))"
      ],
      "execution_count": null,
      "outputs": []
    },
    {
      "cell_type": "markdown",
      "metadata": {
        "id": "rtkB4NA74e1B"
      },
      "source": [
        "### Fazer as previsões"
      ]
    },
    {
      "cell_type": "code",
      "metadata": {
        "id": "nKIq1h-E4g9Z"
      },
      "source": [
        "predicted = regressor.predict(X_test)\n",
        "predicted = sc.inverse_transform(predicted)"
      ],
      "execution_count": null,
      "outputs": []
    },
    {
      "cell_type": "markdown",
      "metadata": {
        "id": "guvk7yXr4o0g"
      },
      "source": [
        "### Visualizar os resultados de treino e teste"
      ]
    },
    {
      "cell_type": "code",
      "metadata": {
        "id": "tstXl2oS4rIo",
        "colab": {
          "base_uri": "https://localhost:8080/",
          "height": 295
        },
        "outputId": "652c23e0-0167-4a9b-e5e6-34741e69216e"
      },
      "source": [
        "allTargetData = np.vstack((training_set, test_pul))\n",
        "training_predicted = regressor.predict(X_train)\n",
        "training_predicted = sc.inverse_transform(training_predicted)\n",
        "allForecastedData = np.vstack((training_set[0:window], training_predicted, predicted))\n",
        "plt.plot(allTargetData, color = 'red', label = 'Real')\n",
        "plt.plot(allForecastedData, color = 'blue', label = 'Previsto')\n",
        "plt.title('Previsão de série temporal')\n",
        "plt.xlabel('Tempo')\n",
        "plt.ylabel('Mortes')\n",
        "plt.legend()\n",
        "plt.savefig('predictions_training_test.svg')\n",
        "plt.show()"
      ],
      "execution_count": null,
      "outputs": [
        {
          "output_type": "display_data",
          "data": {
            "image/png": "[encoded data removed]",
            "text/plain": [
              "<Figure size 432x288 with 1 Axes>"
            ]
          },
          "metadata": {
            "tags": [],
            "needs_background": "light"
          }
        }
      ]
    },
    {
      "cell_type": "markdown",
      "metadata": {
        "id": "ytEVhQht4we3"
      },
      "source": [
        "## Parte 4 - Métricas de avaliação"
      ]
    },
    {
      "cell_type": "code",
      "metadata": {
        "id": "rqOonVj64ydu",
        "colab": {
          "base_uri": "https://localhost:8080/"
        },
        "outputId": "5a376adf-cb24-4ddf-cba7-1f80c9c2d51f"
      },
      "source": [
        "import math\n",
        "from sklearn.metrics import mean_squared_error\n",
        "rmse = math.sqrt(mean_squared_error(test_pul, predicted))\n",
        "print('RMSE: ', rmse)"
      ],
      "execution_count": null,
      "outputs": [
        {
          "output_type": "stream",
          "text": [
            "RMSE:  259.5260067158582\n"
          ],
          "name": "stdout"
        }
      ]
    },
    {
      "cell_type": "code",
      "metadata": {
        "id": "ODeley1K42WW",
        "colab": {
          "base_uri": "https://localhost:8080/"
        },
        "outputId": "e8a52f0f-46c0-4214-8bbd-3adcc4575391"
      },
      "source": [
        "mse = mean_squared_error(test_pul, predicted)\n",
        "print('MSE: ',mse)"
      ],
      "execution_count": null,
      "outputs": [
        {
          "output_type": "stream",
          "text": [
            "MSE:  67353.74816187967\n"
          ],
          "name": "stdout"
        }
      ]
    },
    {
      "cell_type": "code",
      "metadata": {
        "id": "L7_uU_8T44QA",
        "colab": {
          "base_uri": "https://localhost:8080/"
        },
        "outputId": "8b9197be-197e-43a6-823b-742927d18ccc"
      },
      "source": [
        "mape = np.mean(np.abs((test_pul - predicted) / test_pul)) * 100\n",
        "print('MAPE: ',mape, '%')"
      ],
      "execution_count": null,
      "outputs": [
        {
          "output_type": "stream",
          "text": [
            "MAPE:  10.787926678252218 %\n"
          ],
          "name": "stdout"
        }
      ]
    },
    {
      "cell_type": "code",
      "metadata": {
        "id": "mgmtdSOq7rG0",
        "colab": {
          "base_uri": "https://localhost:8080/"
        },
        "outputId": "f3d8ab33-9b5e-4f59-a372-97b5c85c37df"
      },
      "source": [
        "from sklearn.metrics import mean_absolute_error\r\n",
        "\r\n",
        "mae = mean_absolute_error(test_pul, predicted)\r\n",
        "print('MAE: ',mae)"
      ],
      "execution_count": null,
      "outputs": [
        {
          "output_type": "stream",
          "text": [
            "MAE:  204.87699381510416\n"
          ],
          "name": "stdout"
        }
      ]
    }
  ]
}