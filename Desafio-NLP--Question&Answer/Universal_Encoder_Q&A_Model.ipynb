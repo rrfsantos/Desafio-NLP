{
  "nbformat": 4,
  "nbformat_minor": 0,
  "metadata": {
    "colab": {
      "name": "Universal Encoder Q&A Model.ipynb",
      "provenance": [],
      "collapsed_sections": [],
      "machine_shape": "hm",
      "authorship_tag": "ABX9TyM3I0OF6LOZCXpSZ6b7IU3X",
      "include_colab_link": true
    },
    "kernelspec": {
      "display_name": "Python 3",
      "name": "python3"
    },
    "language_info": {
      "name": "python"
    },
    "widgets": {
      "application/vnd.jupyter.widget-state+json": {
        "ec0fe1f6704b47eb97de2f288ea02fb9": {
          "model_module": "@jupyter-widgets/controls",
          "model_name": "HBoxModel",
          "state": {
            "_view_name": "HBoxView",
            "_dom_classes": [],
            "_model_name": "HBoxModel",
            "_view_module": "@jupyter-widgets/controls",
            "_model_module_version": "1.5.0",
            "_view_count": null,
            "_view_module_version": "1.5.0",
            "box_style": "",
            "layout": "IPY_MODEL_eb574633ec904f47bbebc71673f3da21",
            "_model_module": "@jupyter-widgets/controls",
            "children": [
              "IPY_MODEL_f86239a1d649446287b1a5ead0b0a11f",
              "IPY_MODEL_d70e310cde964a99a074534f6898826f"
            ]
          }
        },
        "eb574633ec904f47bbebc71673f3da21": {
          "model_module": "@jupyter-widgets/base",
          "model_name": "LayoutModel",
          "state": {
            "_view_name": "LayoutView",
            "grid_template_rows": null,
            "right": null,
            "justify_content": null,
            "_view_module": "@jupyter-widgets/base",
            "overflow": null,
            "_model_module_version": "1.2.0",
            "_view_count": null,
            "flex_flow": null,
            "width": null,
            "min_width": null,
            "border": null,
            "align_items": null,
            "bottom": null,
            "_model_module": "@jupyter-widgets/base",
            "top": null,
            "grid_column": null,
            "overflow_y": null,
            "overflow_x": null,
            "grid_auto_flow": null,
            "grid_area": null,
            "grid_template_columns": null,
            "flex": null,
            "_model_name": "LayoutModel",
            "justify_items": null,
            "grid_row": null,
            "max_height": null,
            "align_content": null,
            "visibility": null,
            "align_self": null,
            "height": null,
            "min_height": null,
            "padding": null,
            "grid_auto_rows": null,
            "grid_gap": null,
            "max_width": null,
            "order": null,
            "_view_module_version": "1.2.0",
            "grid_template_areas": null,
            "object_position": null,
            "object_fit": null,
            "grid_auto_columns": null,
            "margin": null,
            "display": null,
            "left": null
          }
        },
        "f86239a1d649446287b1a5ead0b0a11f": {
          "model_module": "@jupyter-widgets/controls",
          "model_name": "FloatProgressModel",
          "state": {
            "_view_name": "ProgressView",
            "style": "IPY_MODEL_a8a2b8da7d87407db81728e13c9ddad4",
            "_dom_classes": [],
            "description": "100%",
            "_model_name": "FloatProgressModel",
            "bar_style": "success",
            "max": 11,
            "_view_module": "@jupyter-widgets/controls",
            "_model_module_version": "1.5.0",
            "value": 11,
            "_view_count": null,
            "_view_module_version": "1.5.0",
            "orientation": "horizontal",
            "min": 0,
            "description_tooltip": null,
            "_model_module": "@jupyter-widgets/controls",
            "layout": "IPY_MODEL_c548329365864a9c877bc4a2fd69b476"
          }
        },
        "d70e310cde964a99a074534f6898826f": {
          "model_module": "@jupyter-widgets/controls",
          "model_name": "HTMLModel",
          "state": {
            "_view_name": "HTMLView",
            "style": "IPY_MODEL_09da96982f2a4a1c9e0c670131b770f3",
            "_dom_classes": [],
            "description": "",
            "_model_name": "HTMLModel",
            "placeholder": "​",
            "_view_module": "@jupyter-widgets/controls",
            "_model_module_version": "1.5.0",
            "value": " 11/11 [01:39&lt;00:00,  9.09s/it]",
            "_view_count": null,
            "_view_module_version": "1.5.0",
            "description_tooltip": null,
            "_model_module": "@jupyter-widgets/controls",
            "layout": "IPY_MODEL_442bade89f2a4e50afbd4c3e0ac7bf5f"
          }
        },
        "a8a2b8da7d87407db81728e13c9ddad4": {
          "model_module": "@jupyter-widgets/controls",
          "model_name": "ProgressStyleModel",
          "state": {
            "_view_name": "StyleView",
            "_model_name": "ProgressStyleModel",
            "description_width": "initial",
            "_view_module": "@jupyter-widgets/base",
            "_model_module_version": "1.5.0",
            "_view_count": null,
            "_view_module_version": "1.2.0",
            "bar_color": null,
            "_model_module": "@jupyter-widgets/controls"
          }
        },
        "c548329365864a9c877bc4a2fd69b476": {
          "model_module": "@jupyter-widgets/base",
          "model_name": "LayoutModel",
          "state": {
            "_view_name": "LayoutView",
            "grid_template_rows": null,
            "right": null,
            "justify_content": null,
            "_view_module": "@jupyter-widgets/base",
            "overflow": null,
            "_model_module_version": "1.2.0",
            "_view_count": null,
            "flex_flow": null,
            "width": null,
            "min_width": null,
            "border": null,
            "align_items": null,
            "bottom": null,
            "_model_module": "@jupyter-widgets/base",
            "top": null,
            "grid_column": null,
            "overflow_y": null,
            "overflow_x": null,
            "grid_auto_flow": null,
            "grid_area": null,
            "grid_template_columns": null,
            "flex": null,
            "_model_name": "LayoutModel",
            "justify_items": null,
            "grid_row": null,
            "max_height": null,
            "align_content": null,
            "visibility": null,
            "align_self": null,
            "height": null,
            "min_height": null,
            "padding": null,
            "grid_auto_rows": null,
            "grid_gap": null,
            "max_width": null,
            "order": null,
            "_view_module_version": "1.2.0",
            "grid_template_areas": null,
            "object_position": null,
            "object_fit": null,
            "grid_auto_columns": null,
            "margin": null,
            "display": null,
            "left": null
          }
        },
        "09da96982f2a4a1c9e0c670131b770f3": {
          "model_module": "@jupyter-widgets/controls",
          "model_name": "DescriptionStyleModel",
          "state": {
            "_view_name": "StyleView",
            "_model_name": "DescriptionStyleModel",
            "description_width": "",
            "_view_module": "@jupyter-widgets/base",
            "_model_module_version": "1.5.0",
            "_view_count": null,
            "_view_module_version": "1.2.0",
            "_model_module": "@jupyter-widgets/controls"
          }
        },
        "442bade89f2a4e50afbd4c3e0ac7bf5f": {
          "model_module": "@jupyter-widgets/base",
          "model_name": "LayoutModel",
          "state": {
            "_view_name": "LayoutView",
            "grid_template_rows": null,
            "right": null,
            "justify_content": null,
            "_view_module": "@jupyter-widgets/base",
            "overflow": null,
            "_model_module_version": "1.2.0",
            "_view_count": null,
            "flex_flow": null,
            "width": null,
            "min_width": null,
            "border": null,
            "align_items": null,
            "bottom": null,
            "_model_module": "@jupyter-widgets/base",
            "top": null,
            "grid_column": null,
            "overflow_y": null,
            "overflow_x": null,
            "grid_auto_flow": null,
            "grid_area": null,
            "grid_template_columns": null,
            "flex": null,
            "_model_name": "LayoutModel",
            "justify_items": null,
            "grid_row": null,
            "max_height": null,
            "align_content": null,
            "visibility": null,
            "align_self": null,
            "height": null,
            "min_height": null,
            "padding": null,
            "grid_auto_rows": null,
            "grid_gap": null,
            "max_width": null,
            "order": null,
            "_view_module_version": "1.2.0",
            "grid_template_areas": null,
            "object_position": null,
            "object_fit": null,
            "grid_auto_columns": null,
            "margin": null,
            "display": null,
            "left": null
          }
        },
        "b25c524c3cd54842aa1ab8bb3a04ba55": {
          "model_module": "@jupyter-widgets/controls",
          "model_name": "HBoxModel",
          "state": {
            "_view_name": "HBoxView",
            "_dom_classes": [],
            "_model_name": "HBoxModel",
            "_view_module": "@jupyter-widgets/controls",
            "_model_module_version": "1.5.0",
            "_view_count": null,
            "_view_module_version": "1.5.0",
            "box_style": "",
            "layout": "IPY_MODEL_eb932f058dc64d4084994b8b040f773c",
            "_model_module": "@jupyter-widgets/controls",
            "children": [
              "IPY_MODEL_0db7de789b504a26b7654ca259f90f74",
              "IPY_MODEL_50194087373741ab93113c23b5fcb5b6"
            ]
          }
        },
        "eb932f058dc64d4084994b8b040f773c": {
          "model_module": "@jupyter-widgets/base",
          "model_name": "LayoutModel",
          "state": {
            "_view_name": "LayoutView",
            "grid_template_rows": null,
            "right": null,
            "justify_content": null,
            "_view_module": "@jupyter-widgets/base",
            "overflow": null,
            "_model_module_version": "1.2.0",
            "_view_count": null,
            "flex_flow": null,
            "width": null,
            "min_width": null,
            "border": null,
            "align_items": null,
            "bottom": null,
            "_model_module": "@jupyter-widgets/base",
            "top": null,
            "grid_column": null,
            "overflow_y": null,
            "overflow_x": null,
            "grid_auto_flow": null,
            "grid_area": null,
            "grid_template_columns": null,
            "flex": null,
            "_model_name": "LayoutModel",
            "justify_items": null,
            "grid_row": null,
            "max_height": null,
            "align_content": null,
            "visibility": null,
            "align_self": null,
            "height": null,
            "min_height": null,
            "padding": null,
            "grid_auto_rows": null,
            "grid_gap": null,
            "max_width": null,
            "order": null,
            "_view_module_version": "1.2.0",
            "grid_template_areas": null,
            "object_position": null,
            "object_fit": null,
            "grid_auto_columns": null,
            "margin": null,
            "display": null,
            "left": null
          }
        },
        "0db7de789b504a26b7654ca259f90f74": {
          "model_module": "@jupyter-widgets/controls",
          "model_name": "FloatProgressModel",
          "state": {
            "_view_name": "ProgressView",
            "style": "IPY_MODEL_d9137156df274914b4747db9c845324c",
            "_dom_classes": [],
            "description": "100%",
            "_model_name": "FloatProgressModel",
            "bar_style": "success",
            "max": 5,
            "_view_module": "@jupyter-widgets/controls",
            "_model_module_version": "1.5.0",
            "value": 5,
            "_view_count": null,
            "_view_module_version": "1.5.0",
            "orientation": "horizontal",
            "min": 0,
            "description_tooltip": null,
            "_model_module": "@jupyter-widgets/controls",
            "layout": "IPY_MODEL_95be9a9a478643109fa5958eb29e4ded"
          }
        },
        "50194087373741ab93113c23b5fcb5b6": {
          "model_module": "@jupyter-widgets/controls",
          "model_name": "HTMLModel",
          "state": {
            "_view_name": "HTMLView",
            "style": "IPY_MODEL_94846252070c4e2092c3f7b242dbaebf",
            "_dom_classes": [],
            "description": "",
            "_model_name": "HTMLModel",
            "placeholder": "​",
            "_view_module": "@jupyter-widgets/controls",
            "_model_module_version": "1.5.0",
            "value": " 5/5 [00:43&lt;00:00,  8.70s/it]",
            "_view_count": null,
            "_view_module_version": "1.5.0",
            "description_tooltip": null,
            "_model_module": "@jupyter-widgets/controls",
            "layout": "IPY_MODEL_b921e005d2f945b9aff49ef7431375bc"
          }
        },
        "d9137156df274914b4747db9c845324c": {
          "model_module": "@jupyter-widgets/controls",
          "model_name": "ProgressStyleModel",
          "state": {
            "_view_name": "StyleView",
            "_model_name": "ProgressStyleModel",
            "description_width": "initial",
            "_view_module": "@jupyter-widgets/base",
            "_model_module_version": "1.5.0",
            "_view_count": null,
            "_view_module_version": "1.2.0",
            "bar_color": null,
            "_model_module": "@jupyter-widgets/controls"
          }
        },
        "95be9a9a478643109fa5958eb29e4ded": {
          "model_module": "@jupyter-widgets/base",
          "model_name": "LayoutModel",
          "state": {
            "_view_name": "LayoutView",
            "grid_template_rows": null,
            "right": null,
            "justify_content": null,
            "_view_module": "@jupyter-widgets/base",
            "overflow": null,
            "_model_module_version": "1.2.0",
            "_view_count": null,
            "flex_flow": null,
            "width": null,
            "min_width": null,
            "border": null,
            "align_items": null,
            "bottom": null,
            "_model_module": "@jupyter-widgets/base",
            "top": null,
            "grid_column": null,
            "overflow_y": null,
            "overflow_x": null,
            "grid_auto_flow": null,
            "grid_area": null,
            "grid_template_columns": null,
            "flex": null,
            "_model_name": "LayoutModel",
            "justify_items": null,
            "grid_row": null,
            "max_height": null,
            "align_content": null,
            "visibility": null,
            "align_self": null,
            "height": null,
            "min_height": null,
            "padding": null,
            "grid_auto_rows": null,
            "grid_gap": null,
            "max_width": null,
            "order": null,
            "_view_module_version": "1.2.0",
            "grid_template_areas": null,
            "object_position": null,
            "object_fit": null,
            "grid_auto_columns": null,
            "margin": null,
            "display": null,
            "left": null
          }
        },
        "94846252070c4e2092c3f7b242dbaebf": {
          "model_module": "@jupyter-widgets/controls",
          "model_name": "DescriptionStyleModel",
          "state": {
            "_view_name": "StyleView",
            "_model_name": "DescriptionStyleModel",
            "description_width": "",
            "_view_module": "@jupyter-widgets/base",
            "_model_module_version": "1.5.0",
            "_view_count": null,
            "_view_module_version": "1.2.0",
            "_model_module": "@jupyter-widgets/controls"
          }
        },
        "b921e005d2f945b9aff49ef7431375bc": {
          "model_module": "@jupyter-widgets/base",
          "model_name": "LayoutModel",
          "state": {
            "_view_name": "LayoutView",
            "grid_template_rows": null,
            "right": null,
            "justify_content": null,
            "_view_module": "@jupyter-widgets/base",
            "overflow": null,
            "_model_module_version": "1.2.0",
            "_view_count": null,
            "flex_flow": null,
            "width": null,
            "min_width": null,
            "border": null,
            "align_items": null,
            "bottom": null,
            "_model_module": "@jupyter-widgets/base",
            "top": null,
            "grid_column": null,
            "overflow_y": null,
            "overflow_x": null,
            "grid_auto_flow": null,
            "grid_area": null,
            "grid_template_columns": null,
            "flex": null,
            "_model_name": "LayoutModel",
            "justify_items": null,
            "grid_row": null,
            "max_height": null,
            "align_content": null,
            "visibility": null,
            "align_self": null,
            "height": null,
            "min_height": null,
            "padding": null,
            "grid_auto_rows": null,
            "grid_gap": null,
            "max_width": null,
            "order": null,
            "_view_module_version": "1.2.0",
            "grid_template_areas": null,
            "object_position": null,
            "object_fit": null,
            "grid_auto_columns": null,
            "margin": null,
            "display": null,
            "left": null
          }
        },
        "ede65a4789ee4d58a101eb81a04c9a22": {
          "model_module": "@jupyter-widgets/controls",
          "model_name": "HBoxModel",
          "state": {
            "_view_name": "HBoxView",
            "_dom_classes": [],
            "_model_name": "HBoxModel",
            "_view_module": "@jupyter-widgets/controls",
            "_model_module_version": "1.5.0",
            "_view_count": null,
            "_view_module_version": "1.5.0",
            "box_style": "",
            "layout": "IPY_MODEL_e067d611d0f14dde99e769fe44b654ca",
            "_model_module": "@jupyter-widgets/controls",
            "children": [
              "IPY_MODEL_ca980712074d4717b6f41357d5292efd",
              "IPY_MODEL_b1530fafb9854616aa7941b3cddeabd5"
            ]
          }
        },
        "e067d611d0f14dde99e769fe44b654ca": {
          "model_module": "@jupyter-widgets/base",
          "model_name": "LayoutModel",
          "state": {
            "_view_name": "LayoutView",
            "grid_template_rows": null,
            "right": null,
            "justify_content": null,
            "_view_module": "@jupyter-widgets/base",
            "overflow": null,
            "_model_module_version": "1.2.0",
            "_view_count": null,
            "flex_flow": null,
            "width": null,
            "min_width": null,
            "border": null,
            "align_items": null,
            "bottom": null,
            "_model_module": "@jupyter-widgets/base",
            "top": null,
            "grid_column": null,
            "overflow_y": null,
            "overflow_x": null,
            "grid_auto_flow": null,
            "grid_area": null,
            "grid_template_columns": null,
            "flex": null,
            "_model_name": "LayoutModel",
            "justify_items": null,
            "grid_row": null,
            "max_height": null,
            "align_content": null,
            "visibility": null,
            "align_self": null,
            "height": null,
            "min_height": null,
            "padding": null,
            "grid_auto_rows": null,
            "grid_gap": null,
            "max_width": null,
            "order": null,
            "_view_module_version": "1.2.0",
            "grid_template_areas": null,
            "object_position": null,
            "object_fit": null,
            "grid_auto_columns": null,
            "margin": null,
            "display": null,
            "left": null
          }
        },
        "ca980712074d4717b6f41357d5292efd": {
          "model_module": "@jupyter-widgets/controls",
          "model_name": "FloatProgressModel",
          "state": {
            "_view_name": "ProgressView",
            "style": "IPY_MODEL_f0a0580154d84b8c9907e83e1afbe9d3",
            "_dom_classes": [],
            "description": "100%",
            "_model_name": "FloatProgressModel",
            "bar_style": "success",
            "max": 10,
            "_view_module": "@jupyter-widgets/controls",
            "_model_module_version": "1.5.0",
            "value": 10,
            "_view_count": null,
            "_view_module_version": "1.5.0",
            "orientation": "horizontal",
            "min": 0,
            "description_tooltip": null,
            "_model_module": "@jupyter-widgets/controls",
            "layout": "IPY_MODEL_b72db47479ea416f89edc9b95df99b5c"
          }
        },
        "b1530fafb9854616aa7941b3cddeabd5": {
          "model_module": "@jupyter-widgets/controls",
          "model_name": "HTMLModel",
          "state": {
            "_view_name": "HTMLView",
            "style": "IPY_MODEL_70ab44710262452b86ae20ed8810b92e",
            "_dom_classes": [],
            "description": "",
            "_model_name": "HTMLModel",
            "placeholder": "​",
            "_view_module": "@jupyter-widgets/controls",
            "_model_module_version": "1.5.0",
            "value": " 10/10 [05:27&lt;00:00, 32.74s/it]",
            "_view_count": null,
            "_view_module_version": "1.5.0",
            "description_tooltip": null,
            "_model_module": "@jupyter-widgets/controls",
            "layout": "IPY_MODEL_a4dd7bcaba4d4d9289561ee372e067a9"
          }
        },
        "f0a0580154d84b8c9907e83e1afbe9d3": {
          "model_module": "@jupyter-widgets/controls",
          "model_name": "ProgressStyleModel",
          "state": {
            "_view_name": "StyleView",
            "_model_name": "ProgressStyleModel",
            "description_width": "initial",
            "_view_module": "@jupyter-widgets/base",
            "_model_module_version": "1.5.0",
            "_view_count": null,
            "_view_module_version": "1.2.0",
            "bar_color": null,
            "_model_module": "@jupyter-widgets/controls"
          }
        },
        "b72db47479ea416f89edc9b95df99b5c": {
          "model_module": "@jupyter-widgets/base",
          "model_name": "LayoutModel",
          "state": {
            "_view_name": "LayoutView",
            "grid_template_rows": null,
            "right": null,
            "justify_content": null,
            "_view_module": "@jupyter-widgets/base",
            "overflow": null,
            "_model_module_version": "1.2.0",
            "_view_count": null,
            "flex_flow": null,
            "width": null,
            "min_width": null,
            "border": null,
            "align_items": null,
            "bottom": null,
            "_model_module": "@jupyter-widgets/base",
            "top": null,
            "grid_column": null,
            "overflow_y": null,
            "overflow_x": null,
            "grid_auto_flow": null,
            "grid_area": null,
            "grid_template_columns": null,
            "flex": null,
            "_model_name": "LayoutModel",
            "justify_items": null,
            "grid_row": null,
            "max_height": null,
            "align_content": null,
            "visibility": null,
            "align_self": null,
            "height": null,
            "min_height": null,
            "padding": null,
            "grid_auto_rows": null,
            "grid_gap": null,
            "max_width": null,
            "order": null,
            "_view_module_version": "1.2.0",
            "grid_template_areas": null,
            "object_position": null,
            "object_fit": null,
            "grid_auto_columns": null,
            "margin": null,
            "display": null,
            "left": null
          }
        },
        "70ab44710262452b86ae20ed8810b92e": {
          "model_module": "@jupyter-widgets/controls",
          "model_name": "DescriptionStyleModel",
          "state": {
            "_view_name": "StyleView",
            "_model_name": "DescriptionStyleModel",
            "description_width": "",
            "_view_module": "@jupyter-widgets/base",
            "_model_module_version": "1.5.0",
            "_view_count": null,
            "_view_module_version": "1.2.0",
            "_model_module": "@jupyter-widgets/controls"
          }
        },
        "a4dd7bcaba4d4d9289561ee372e067a9": {
          "model_module": "@jupyter-widgets/base",
          "model_name": "LayoutModel",
          "state": {
            "_view_name": "LayoutView",
            "grid_template_rows": null,
            "right": null,
            "justify_content": null,
            "_view_module": "@jupyter-widgets/base",
            "overflow": null,
            "_model_module_version": "1.2.0",
            "_view_count": null,
            "flex_flow": null,
            "width": null,
            "min_width": null,
            "border": null,
            "align_items": null,
            "bottom": null,
            "_model_module": "@jupyter-widgets/base",
            "top": null,
            "grid_column": null,
            "overflow_y": null,
            "overflow_x": null,
            "grid_auto_flow": null,
            "grid_area": null,
            "grid_template_columns": null,
            "flex": null,
            "_model_name": "LayoutModel",
            "justify_items": null,
            "grid_row": null,
            "max_height": null,
            "align_content": null,
            "visibility": null,
            "align_self": null,
            "height": null,
            "min_height": null,
            "padding": null,
            "grid_auto_rows": null,
            "grid_gap": null,
            "max_width": null,
            "order": null,
            "_view_module_version": "1.2.0",
            "grid_template_areas": null,
            "object_position": null,
            "object_fit": null,
            "grid_auto_columns": null,
            "margin": null,
            "display": null,
            "left": null
          }
        }
      }
    }
  },
  "cells": [
    {
      "cell_type": "markdown",
      "metadata": {
        "id": "view-in-github",
        "colab_type": "text"
      },
      "source": [
        "<a href=\"https://colab.research.google.com/github/rrfsantos/Desafios-NLP/blob/main/Desafio-NLP--Question%26Answer/Universal_Encoder_Q%26A_Model.ipynb\" target=\"_parent\"><img src=\"https://colab.research.google.com/assets/colab-badge.svg\" alt=\"Open In Colab\"/></a>"
      ]
    },
    {
      "cell_type": "markdown",
      "metadata": {
        "id": "0up_CL3u5rkX"
      },
      "source": [
        "### Recuperação de perguntas e respostas utilizando codificador universal de frases multilíngue"
      ]
    },
    {
      "cell_type": "markdown",
      "metadata": {
        "id": "gzQvdksl682Z"
      },
      "source": [
        "##### https://www.tensorflow.org/hub/tutorials/retrieval_with_tf_hub_universal_encoder_qa"
      ]
    },
    {
      "cell_type": "markdown",
      "metadata": {
        "id": "haHGBIVt6gS5"
      },
      "source": [
        "Being able to automatically answer questions accurately remains a difficult problem in natural language processing. This dataset has everything you need to try your own hand at this task. Can you correctly generate the answer to questions given the Wikipedia article text the question was originally generated from?\n",
        "\n",
        "Content:\n",
        "There are three question files, one for each year of students: S08, S09, and S10, as well as 690,000 words worth of cleaned text from Wikipedia that was used to generate the questions.\n",
        "\n",
        "The \"questionanswerpairs.txt\" files contain both the questions and answers. The columns in this file are as follows:\n",
        "\n",
        "ArticleTitle is the name of the Wikipedia article from which questions and answers initially came.\n",
        "Question is the question.\n",
        "Answer is the answer.\n",
        "DifficultyFromQuestioner is the prescribed difficulty rating for the question as given to the question-writer.\n",
        "DifficultyFromAnswerer is a difficulty rating assigned by the individual who evaluated and answered the question, which may differ from the difficulty in field 4.\n",
        "ArticleFile is the name of the file with the relevant article\n",
        "\n",
        "Questions that were judged to be poor were discarded from this data set.\n",
        "There are frequently multiple lines with the same question, which appear if those questions were answered by multiple individuals. https://www.kaggle.com/rtatman/questionanswer-dataset"
      ]
    },
    {
      "cell_type": "markdown",
      "metadata": {
        "id": "B76aWJCFWgy4"
      },
      "source": [
        "### Solução"
      ]
    },
    {
      "cell_type": "markdown",
      "metadata": {
        "id": "6HTvivU22083"
      },
      "source": [
        "##### Cada resposta no dataset QA (Sxx_question_answer_pairs.txt) e seu contexto (o texto em torno da frase) em seu artigo correspondente (Sxx_setx_ax.txt.clean), são codificados em embeddings de alta dimensão com o response_encoder. Esses embeddings são armazenados em um índice construído usando a biblioteca simpleneighbors para recuperação de perguntas e respostas."
      ]
    },
    {
      "cell_type": "code",
      "metadata": {
        "colab": {
          "base_uri": "https://localhost:8080/"
        },
        "id": "FyV5VRd78HPI",
        "outputId": "4a094d91-42ae-47d7-cde7-e6289961f567"
      },
      "source": [
        "!python -m pip uninstall -y spacy"
      ],
      "execution_count": 1,
      "outputs": [
        {
          "output_type": "stream",
          "text": [
            "Found existing installation: spacy 3.0.6\n",
            "Uninstalling spacy-3.0.6:\n",
            "  Successfully uninstalled spacy-3.0.6\n",
            "\u001b[33mWARNING: Running pip as root will break packages and permissions. You should install packages reliably by using venv: https://pip.pypa.io/warnings/venv\u001b[0m\n"
          ],
          "name": "stdout"
        }
      ]
    },
    {
      "cell_type": "code",
      "metadata": {
        "id": "W_9jjAKk8uum",
        "colab": {
          "base_uri": "https://localhost:8080/"
        },
        "outputId": "e5a2a4a3-6e0e-4a90-9020-dd2ac59514be"
      },
      "source": [
        "!python -m pip install -q tensorflow_text\n",
        "!python -m pip install -q simpleneighbors[annoy]\n",
        "!python -m pip install -U pip setuptools wheel\n",
        "!python -m pip install -U spacy[cuda102]\n",
        "!python -m spacy download en_core_web_lg"
      ],
      "execution_count": 2,
      "outputs": [
        {
          "output_type": "stream",
          "text": [
            "\u001b[33mWARNING: Running pip as root will break packages and permissions. You should install packages reliably by using venv: https://pip.pypa.io/warnings/venv\u001b[0m\n",
            "\u001b[33mWARNING: Running pip as root will break packages and permissions. You should install packages reliably by using venv: https://pip.pypa.io/warnings/venv\u001b[0m\n",
            "Requirement already satisfied: pip in /usr/local/lib/python3.7/dist-packages (21.1.2)\n",
            "Requirement already satisfied: setuptools in /usr/local/lib/python3.7/dist-packages (57.0.0)\n",
            "Requirement already satisfied: wheel in /usr/local/lib/python3.7/dist-packages (0.36.2)\n",
            "\u001b[33mWARNING: Running pip as root will break packages and permissions. You should install packages reliably by using venv: https://pip.pypa.io/warnings/venv\u001b[0m\n",
            "Collecting spacy[cuda102]\n",
            "  Using cached spacy-3.0.6-cp37-cp37m-manylinux2014_x86_64.whl (12.8 MB)\n",
            "Requirement already satisfied: tqdm<5.0.0,>=4.38.0 in /usr/local/lib/python3.7/dist-packages (from spacy[cuda102]) (4.41.1)\n",
            "Requirement already satisfied: thinc<8.1.0,>=8.0.3 in /usr/local/lib/python3.7/dist-packages (from spacy[cuda102]) (8.0.3)\n",
            "Requirement already satisfied: setuptools in /usr/local/lib/python3.7/dist-packages (from spacy[cuda102]) (57.0.0)\n",
            "Requirement already satisfied: pydantic<1.8.0,>=1.7.1 in /usr/local/lib/python3.7/dist-packages (from spacy[cuda102]) (1.7.4)\n",
            "Requirement already satisfied: typing-extensions<4.0.0.0,>=3.7.4 in /usr/local/lib/python3.7/dist-packages (from spacy[cuda102]) (3.7.4.3)\n",
            "Requirement already satisfied: jinja2 in /usr/local/lib/python3.7/dist-packages (from spacy[cuda102]) (2.11.3)\n",
            "Requirement already satisfied: catalogue<2.1.0,>=2.0.3 in /usr/local/lib/python3.7/dist-packages (from spacy[cuda102]) (2.0.4)\n",
            "Requirement already satisfied: typer<0.4.0,>=0.3.0 in /usr/local/lib/python3.7/dist-packages (from spacy[cuda102]) (0.3.2)\n",
            "Requirement already satisfied: numpy>=1.15.0 in /usr/local/lib/python3.7/dist-packages (from spacy[cuda102]) (1.19.5)\n",
            "Requirement already satisfied: srsly<3.0.0,>=2.4.1 in /usr/local/lib/python3.7/dist-packages (from spacy[cuda102]) (2.4.1)\n",
            "Requirement already satisfied: packaging>=20.0 in /usr/local/lib/python3.7/dist-packages (from spacy[cuda102]) (20.9)\n",
            "Requirement already satisfied: requests<3.0.0,>=2.13.0 in /usr/local/lib/python3.7/dist-packages (from spacy[cuda102]) (2.23.0)\n",
            "Requirement already satisfied: blis<0.8.0,>=0.4.0 in /usr/local/lib/python3.7/dist-packages (from spacy[cuda102]) (0.4.1)\n",
            "Requirement already satisfied: murmurhash<1.1.0,>=0.28.0 in /usr/local/lib/python3.7/dist-packages (from spacy[cuda102]) (1.0.5)\n",
            "Requirement already satisfied: wasabi<1.1.0,>=0.8.1 in /usr/local/lib/python3.7/dist-packages (from spacy[cuda102]) (0.8.2)\n",
            "Requirement already satisfied: preshed<3.1.0,>=3.0.2 in /usr/local/lib/python3.7/dist-packages (from spacy[cuda102]) (3.0.5)\n",
            "Requirement already satisfied: cymem<2.1.0,>=2.0.2 in /usr/local/lib/python3.7/dist-packages (from spacy[cuda102]) (2.0.5)\n",
            "Requirement already satisfied: pathy>=0.3.5 in /usr/local/lib/python3.7/dist-packages (from spacy[cuda102]) (0.5.2)\n",
            "Requirement already satisfied: spacy-legacy<3.1.0,>=3.0.4 in /usr/local/lib/python3.7/dist-packages (from spacy[cuda102]) (3.0.5)\n",
            "Requirement already satisfied: cupy-cuda102<9.0.0,>=5.0.0b4 in /usr/local/lib/python3.7/dist-packages (from spacy[cuda102]) (8.6.0)\n",
            "Requirement already satisfied: zipp>=0.5 in /usr/local/lib/python3.7/dist-packages (from catalogue<2.1.0,>=2.0.3->spacy[cuda102]) (3.4.1)\n",
            "Requirement already satisfied: fastrlock>=0.3 in /usr/local/lib/python3.7/dist-packages (from cupy-cuda102<9.0.0,>=5.0.0b4->spacy[cuda102]) (0.6)\n",
            "Requirement already satisfied: pyparsing>=2.0.2 in /usr/local/lib/python3.7/dist-packages (from packaging>=20.0->spacy[cuda102]) (2.4.7)\n",
            "Requirement already satisfied: smart-open<4.0.0,>=2.2.0 in /usr/local/lib/python3.7/dist-packages (from pathy>=0.3.5->spacy[cuda102]) (3.0.0)\n",
            "Requirement already satisfied: urllib3!=1.25.0,!=1.25.1,<1.26,>=1.21.1 in /usr/local/lib/python3.7/dist-packages (from requests<3.0.0,>=2.13.0->spacy[cuda102]) (1.24.3)\n",
            "Requirement already satisfied: chardet<4,>=3.0.2 in /usr/local/lib/python3.7/dist-packages (from requests<3.0.0,>=2.13.0->spacy[cuda102]) (3.0.4)\n",
            "Requirement already satisfied: idna<3,>=2.5 in /usr/local/lib/python3.7/dist-packages (from requests<3.0.0,>=2.13.0->spacy[cuda102]) (2.10)\n",
            "Requirement already satisfied: certifi>=2017.4.17 in /usr/local/lib/python3.7/dist-packages (from requests<3.0.0,>=2.13.0->spacy[cuda102]) (2020.12.5)\n",
            "Requirement already satisfied: click<7.2.0,>=7.1.1 in /usr/local/lib/python3.7/dist-packages (from typer<0.4.0,>=0.3.0->spacy[cuda102]) (7.1.2)\n",
            "Requirement already satisfied: MarkupSafe>=0.23 in /usr/local/lib/python3.7/dist-packages (from jinja2->spacy[cuda102]) (2.0.1)\n",
            "Installing collected packages: spacy\n",
            "Successfully installed spacy-3.0.6\n",
            "\u001b[33mWARNING: Running pip as root will break packages and permissions. You should install packages reliably by using venv: https://pip.pypa.io/warnings/venv\u001b[0m\n",
            "2021-06-08 21:20:08.496740: I tensorflow/stream_executor/platform/default/dso_loader.cc:53] Successfully opened dynamic library libcudart.so.11.0\n",
            "Collecting en-core-web-lg==3.0.0\n",
            "  Downloading https://github.com/explosion/spacy-models/releases/download/en_core_web_lg-3.0.0/en_core_web_lg-3.0.0-py3-none-any.whl (778.8 MB)\n",
            "\u001b[K     |████████████████████████████████| 778.8 MB 12 kB/s \n",
            "\u001b[?25hRequirement already satisfied: spacy<3.1.0,>=3.0.0 in /usr/local/lib/python3.7/dist-packages (from en-core-web-lg==3.0.0) (3.0.6)\n",
            "Requirement already satisfied: pydantic<1.8.0,>=1.7.1 in /usr/local/lib/python3.7/dist-packages (from spacy<3.1.0,>=3.0.0->en-core-web-lg==3.0.0) (1.7.4)\n",
            "Requirement already satisfied: tqdm<5.0.0,>=4.38.0 in /usr/local/lib/python3.7/dist-packages (from spacy<3.1.0,>=3.0.0->en-core-web-lg==3.0.0) (4.41.1)\n",
            "Requirement already satisfied: setuptools in /usr/local/lib/python3.7/dist-packages (from spacy<3.1.0,>=3.0.0->en-core-web-lg==3.0.0) (57.0.0)\n",
            "Requirement already satisfied: blis<0.8.0,>=0.4.0 in /usr/local/lib/python3.7/dist-packages (from spacy<3.1.0,>=3.0.0->en-core-web-lg==3.0.0) (0.4.1)\n",
            "Requirement already satisfied: packaging>=20.0 in /usr/local/lib/python3.7/dist-packages (from spacy<3.1.0,>=3.0.0->en-core-web-lg==3.0.0) (20.9)\n",
            "Requirement already satisfied: pathy>=0.3.5 in /usr/local/lib/python3.7/dist-packages (from spacy<3.1.0,>=3.0.0->en-core-web-lg==3.0.0) (0.5.2)\n",
            "Requirement already satisfied: srsly<3.0.0,>=2.4.1 in /usr/local/lib/python3.7/dist-packages (from spacy<3.1.0,>=3.0.0->en-core-web-lg==3.0.0) (2.4.1)\n",
            "Requirement already satisfied: jinja2 in /usr/local/lib/python3.7/dist-packages (from spacy<3.1.0,>=3.0.0->en-core-web-lg==3.0.0) (2.11.3)\n",
            "Requirement already satisfied: spacy-legacy<3.1.0,>=3.0.4 in /usr/local/lib/python3.7/dist-packages (from spacy<3.1.0,>=3.0.0->en-core-web-lg==3.0.0) (3.0.5)\n",
            "Requirement already satisfied: thinc<8.1.0,>=8.0.3 in /usr/local/lib/python3.7/dist-packages (from spacy<3.1.0,>=3.0.0->en-core-web-lg==3.0.0) (8.0.3)\n",
            "Requirement already satisfied: wasabi<1.1.0,>=0.8.1 in /usr/local/lib/python3.7/dist-packages (from spacy<3.1.0,>=3.0.0->en-core-web-lg==3.0.0) (0.8.2)\n",
            "Requirement already satisfied: murmurhash<1.1.0,>=0.28.0 in /usr/local/lib/python3.7/dist-packages (from spacy<3.1.0,>=3.0.0->en-core-web-lg==3.0.0) (1.0.5)\n",
            "Requirement already satisfied: cymem<2.1.0,>=2.0.2 in /usr/local/lib/python3.7/dist-packages (from spacy<3.1.0,>=3.0.0->en-core-web-lg==3.0.0) (2.0.5)\n",
            "Requirement already satisfied: typing-extensions<4.0.0.0,>=3.7.4 in /usr/local/lib/python3.7/dist-packages (from spacy<3.1.0,>=3.0.0->en-core-web-lg==3.0.0) (3.7.4.3)\n",
            "Requirement already satisfied: numpy>=1.15.0 in /usr/local/lib/python3.7/dist-packages (from spacy<3.1.0,>=3.0.0->en-core-web-lg==3.0.0) (1.19.5)\n",
            "Requirement already satisfied: requests<3.0.0,>=2.13.0 in /usr/local/lib/python3.7/dist-packages (from spacy<3.1.0,>=3.0.0->en-core-web-lg==3.0.0) (2.23.0)\n",
            "Requirement already satisfied: catalogue<2.1.0,>=2.0.3 in /usr/local/lib/python3.7/dist-packages (from spacy<3.1.0,>=3.0.0->en-core-web-lg==3.0.0) (2.0.4)\n",
            "Requirement already satisfied: preshed<3.1.0,>=3.0.2 in /usr/local/lib/python3.7/dist-packages (from spacy<3.1.0,>=3.0.0->en-core-web-lg==3.0.0) (3.0.5)\n",
            "Requirement already satisfied: typer<0.4.0,>=0.3.0 in /usr/local/lib/python3.7/dist-packages (from spacy<3.1.0,>=3.0.0->en-core-web-lg==3.0.0) (0.3.2)\n",
            "Requirement already satisfied: zipp>=0.5 in /usr/local/lib/python3.7/dist-packages (from catalogue<2.1.0,>=2.0.3->spacy<3.1.0,>=3.0.0->en-core-web-lg==3.0.0) (3.4.1)\n",
            "Requirement already satisfied: pyparsing>=2.0.2 in /usr/local/lib/python3.7/dist-packages (from packaging>=20.0->spacy<3.1.0,>=3.0.0->en-core-web-lg==3.0.0) (2.4.7)\n",
            "Requirement already satisfied: smart-open<4.0.0,>=2.2.0 in /usr/local/lib/python3.7/dist-packages (from pathy>=0.3.5->spacy<3.1.0,>=3.0.0->en-core-web-lg==3.0.0) (3.0.0)\n",
            "Requirement already satisfied: chardet<4,>=3.0.2 in /usr/local/lib/python3.7/dist-packages (from requests<3.0.0,>=2.13.0->spacy<3.1.0,>=3.0.0->en-core-web-lg==3.0.0) (3.0.4)\n",
            "Requirement already satisfied: certifi>=2017.4.17 in /usr/local/lib/python3.7/dist-packages (from requests<3.0.0,>=2.13.0->spacy<3.1.0,>=3.0.0->en-core-web-lg==3.0.0) (2020.12.5)\n",
            "Requirement already satisfied: idna<3,>=2.5 in /usr/local/lib/python3.7/dist-packages (from requests<3.0.0,>=2.13.0->spacy<3.1.0,>=3.0.0->en-core-web-lg==3.0.0) (2.10)\n",
            "Requirement already satisfied: urllib3!=1.25.0,!=1.25.1,<1.26,>=1.21.1 in /usr/local/lib/python3.7/dist-packages (from requests<3.0.0,>=2.13.0->spacy<3.1.0,>=3.0.0->en-core-web-lg==3.0.0) (1.24.3)\n",
            "Requirement already satisfied: click<7.2.0,>=7.1.1 in /usr/local/lib/python3.7/dist-packages (from typer<0.4.0,>=0.3.0->spacy<3.1.0,>=3.0.0->en-core-web-lg==3.0.0) (7.1.2)\n",
            "Requirement already satisfied: MarkupSafe>=0.23 in /usr/local/lib/python3.7/dist-packages (from jinja2->spacy<3.1.0,>=3.0.0->en-core-web-lg==3.0.0) (2.0.1)\n",
            "\u001b[33mWARNING: Running pip as root will break packages and permissions. You should install packages reliably by using venv: https://pip.pypa.io/warnings/venv\u001b[0m\n",
            "\u001b[38;5;2m✔ Download and installation successful\u001b[0m\n",
            "You can now load the package via spacy.load('en_core_web_lg')\n"
          ],
          "name": "stdout"
        }
      ]
    },
    {
      "cell_type": "code",
      "metadata": {
        "colab": {
          "base_uri": "https://localhost:8080/"
        },
        "id": "C2VNBU748SzM",
        "outputId": "fa3f04d9-03c2-4d95-dcbb-9d776aa4dbe8"
      },
      "source": [
        "import spacy\n",
        "print(spacy.__version__)\n",
        "nlp = spacy.load('en_core_web_lg')"
      ],
      "execution_count": 3,
      "outputs": [
        {
          "output_type": "stream",
          "text": [
            "3.0.6\n"
          ],
          "name": "stdout"
        }
      ]
    },
    {
      "cell_type": "code",
      "metadata": {
        "id": "oxKtBdysta4_"
      },
      "source": [
        "import pandas as pd\n",
        "import glob\n",
        "import re\n",
        "import string\n",
        "import os\n",
        "import tqdm.notebook as tq\n",
        "import tensorflow as tf\n",
        "import tensorflow_hub as hub\n",
        "from tensorflow_text import SentencepieceTokenizer\n",
        "from simpleneighbors import SimpleNeighbors\n",
        "import random\n",
        "import pprint\n",
        "from IPython.display import HTML, display"
      ],
      "execution_count": 4,
      "outputs": []
    },
    {
      "cell_type": "code",
      "metadata": {
        "colab": {
          "base_uri": "https://localhost:8080/"
        },
        "id": "Ipfc2SSrsJzy",
        "outputId": "ee7c4800-e179-45f2-ed16-bb93c32a8af2"
      },
      "source": [
        "from google.colab import drive\n",
        "drive.mount('/content/drive')\n",
        "\n",
        "import os\n",
        "workdir_path = '/content/drive/My Drive/desafio 3/'  # Inserir o local da pasta onde estão os arquivos de entrada (treino e teste)\n",
        "os.chdir(workdir_path)"
      ],
      "execution_count": 5,
      "outputs": [
        {
          "output_type": "stream",
          "text": [
            "Drive already mounted at /content/drive; to attempt to forcibly remount, call drive.mount(\"/content/drive\", force_remount=True).\n"
          ],
          "name": "stdout"
        }
      ]
    },
    {
      "cell_type": "markdown",
      "metadata": {
        "id": "hK5La8lw4ITt"
      },
      "source": [
        "#### Extrair o **contexto** dos artigos Sxx_setx_ax.txt.clean"
      ]
    },
    {
      "cell_type": "code",
      "metadata": {
        "id": "MRMdggmHErwT"
      },
      "source": [
        "files = glob.glob('/content/drive/My Drive/desafio 3/text_data/*.clean')\n",
        "\n",
        "list_text = []\n",
        "list_file = []\n",
        "\n",
        "for file in files:\n",
        "  with open(file, 'r', encoding = 'utf-8', errors='ignore') as f:\n",
        "    text = f.read()\n",
        "  list_text.append(re.sub(r'\\n+', ' ', text).strip())\n",
        "  list_file.append((os.path.basename(file)).split('.')[0])\n",
        "df_context = pd.DataFrame({'Context': list_text, 'ArticleFile': list_file})"
      ],
      "execution_count": 6,
      "outputs": []
    },
    {
      "cell_type": "code",
      "metadata": {
        "id": "kZ-YpvbBPs5X"
      },
      "source": [
        "#df_context['context_doc'] = [nlp(text) for text in df_context.Context]"
      ],
      "execution_count": 7,
      "outputs": []
    },
    {
      "cell_type": "markdown",
      "metadata": {
        "id": "GMPARX6a4p9a"
      },
      "source": [
        "#### Criar dataframes de QA Sxx_question_answer_pairs.txt"
      ]
    },
    {
      "cell_type": "code",
      "metadata": {
        "colab": {
          "base_uri": "https://localhost:8080/"
        },
        "id": "5c0hlpqFagq3",
        "outputId": "ad1c24a4-3e69-4fd4-bbba-35549dbf0efd"
      },
      "source": [
        "df_08 = pd.read_table('S08_question_answer_pairs.txt')\n",
        "df_09 = pd.read_table('S09_question_answer_pairs.txt')\n",
        "df_10 = pd.read_table('S10_question_answer_pairs.txt', engine = 'python', error_bad_lines = False)\n",
        "\n",
        "#df_qa = pd.concat([df_08, df_09, df_10], axis=0, ignore_index=True)"
      ],
      "execution_count": 8,
      "outputs": [
        {
          "output_type": "stream",
          "text": [
            "Skipping line 765: '\t' expected after '\"'\n",
            "Skipping line 876: '\t' expected after '\"'\n",
            "Skipping line 1219: '\t' expected after '\"'\n"
          ],
          "name": "stderr"
        }
      ]
    },
    {
      "cell_type": "code",
      "metadata": {
        "id": "HJ03H85y12_4"
      },
      "source": [
        "df_08.drop(['DifficultyFromQuestioner', 'DifficultyFromAnswerer', 'ArticleTitle'], axis = 1, inplace=True)\n",
        "df_09.drop(['DifficultyFromQuestioner', 'DifficultyFromAnswerer', 'ArticleTitle'], axis = 1, inplace=True)\n",
        "df_10.drop(['DifficultyFromQuestioner', 'DifficultyFromAnswerer', 'ArticleTitle'], axis = 1, inplace=True)"
      ],
      "execution_count": 9,
      "outputs": []
    },
    {
      "cell_type": "code",
      "metadata": {
        "colab": {
          "base_uri": "https://localhost:8080/"
        },
        "id": "Jff3WZ7jJBgD",
        "outputId": "55eae1e1-279f-4c01-f354-284a658fa4cb"
      },
      "source": [
        "df_08.dropna(inplace=True)\n",
        "df_09.dropna(inplace=True)\n",
        "df_10.dropna(inplace=True)\n",
        "print('-' * 15, df_08.isna().sum(), sep='\\n')\n",
        "print('-' * 15, df_09.isna().sum(), sep='\\n')\n",
        "print('-' * 15, df_10.isna().sum(), sep='\\n')"
      ],
      "execution_count": 10,
      "outputs": [
        {
          "output_type": "stream",
          "text": [
            "---------------\n",
            "Question       0\n",
            "Answer         0\n",
            "ArticleFile    0\n",
            "dtype: int64\n",
            "---------------\n",
            "Question       0\n",
            "Answer         0\n",
            "ArticleFile    0\n",
            "dtype: int64\n",
            "---------------\n",
            "Question       0\n",
            "Answer         0\n",
            "ArticleFile    0\n",
            "dtype: int64\n"
          ],
          "name": "stdout"
        }
      ]
    },
    {
      "cell_type": "code",
      "metadata": {
        "colab": {
          "base_uri": "https://localhost:8080/"
        },
        "id": "lk55X4GmINJa",
        "outputId": "8c0a57f0-7e3c-4bb8-feda-69bfe4e78904"
      },
      "source": [
        "# Limpar coluna \"Answer\"\n",
        "def strip_last_punctuation(s):\n",
        "  if s and s[-1] in string.punctuation:\n",
        "    return s[:-1].strip()\n",
        "  else:\n",
        "    return s.strip()\n",
        "\n",
        "\n",
        "df_08['answer_clean'] = df_08['Answer'].str.lower().map(strip_last_punctuation)\n",
        "df_09['answer_clean'] = df_09['Answer'].str.lower().map(strip_last_punctuation)\n",
        "df_10['answer_clean'] = df_10['Answer'].str.lower().map(strip_last_punctuation)\n",
        "\n",
        "# Remove os dados faltantes da base de treino\n",
        "df_08.dropna(inplace=True)\n",
        "df_09.dropna(inplace=True)\n",
        "df_10.dropna(inplace=True)\n",
        "print('-' * 15, df_08.isna().sum(), sep='\\n')\n",
        "print('-' * 15, df_09.isna().sum(), sep='\\n')\n",
        "print('-' * 15, df_10.isna().sum(), sep='\\n')"
      ],
      "execution_count": 11,
      "outputs": [
        {
          "output_type": "stream",
          "text": [
            "---------------\n",
            "Question        0\n",
            "Answer          0\n",
            "ArticleFile     0\n",
            "answer_clean    0\n",
            "dtype: int64\n",
            "---------------\n",
            "Question        0\n",
            "Answer          0\n",
            "ArticleFile     0\n",
            "answer_clean    0\n",
            "dtype: int64\n",
            "---------------\n",
            "Question        0\n",
            "Answer          0\n",
            "ArticleFile     0\n",
            "answer_clean    0\n",
            "dtype: int64\n"
          ],
          "name": "stdout"
        }
      ]
    },
    {
      "cell_type": "code",
      "metadata": {
        "id": "OnME4pBOBkx_"
      },
      "source": [
        "df_USE08 = df_08.merge(df_context, on='ArticleFile')\n",
        "df_USE09 = df_09.merge(df_context, on='ArticleFile')\n",
        "df_USE10 = df_10.merge(df_context, on='ArticleFile')"
      ],
      "execution_count": 12,
      "outputs": []
    },
    {
      "cell_type": "code",
      "metadata": {
        "colab": {
          "base_uri": "https://localhost:8080/"
        },
        "id": "ILFD5BjT4eCh",
        "outputId": "d4a9f23b-b68c-40d9-8c84-029aceac8160"
      },
      "source": [
        "print('-' * 15, df_USE08.shape, sep='\\n')\n",
        "print('-' * 15, df_USE09.shape, sep='\\n')\n",
        "print('-' * 15, df_USE10.shape, sep='\\n')"
      ],
      "execution_count": 13,
      "outputs": [
        {
          "output_type": "stream",
          "text": [
            "---------------\n",
            "(1473, 5)\n",
            "---------------\n",
            "(725, 5)\n",
            "---------------\n",
            "(1219, 5)\n"
          ],
          "name": "stdout"
        }
      ]
    },
    {
      "cell_type": "code",
      "metadata": {
        "colab": {
          "base_uri": "https://localhost:8080/"
        },
        "id": "0tj4x1KccKh8",
        "outputId": "2a5360a4-5e71-4322-8343-9201e44462fb"
      },
      "source": [
        "df_USE08.drop_duplicates(subset=['answer_clean', 'Question'], keep='last', inplace = True)\n",
        "df_USE09.drop_duplicates(subset=['answer_clean', 'Question'], keep='last', inplace = True)\n",
        "df_USE10.drop_duplicates(subset=['answer_clean', 'Question'], keep='last', inplace = True)\n",
        "\n",
        "print('-' * 15, df_USE08.shape, sep='\\n')\n",
        "print('-' * 15, df_USE09.shape, sep='\\n')\n",
        "print('-' * 15, df_USE10.shape, sep='\\n')"
      ],
      "execution_count": 16,
      "outputs": [
        {
          "output_type": "stream",
          "text": [
            "---------------\n",
            "(1148, 5)\n",
            "---------------\n",
            "(590, 5)\n",
            "---------------\n",
            "(1045, 5)\n"
          ],
          "name": "stdout"
        }
      ]
    },
    {
      "cell_type": "markdown",
      "metadata": {
        "id": "CmD0QsyFxvrl"
      },
      "source": [
        "### Carregar modelo **Universal Encoder Q&A Model** do tensorflow hub"
      ]
    },
    {
      "cell_type": "code",
      "metadata": {
        "id": "WLBifqk_PFIu",
        "colab": {
          "base_uri": "https://localhost:8080/"
        },
        "outputId": "099ca86b-d5e9-4d15-dd70-2b44a2267ec0"
      },
      "source": [
        "module_url = \"https://tfhub.dev/google/universal-sentence-encoder-multilingual-qa/3\"\n",
        "model = hub.load(module_url)"
      ],
      "execution_count": 15,
      "outputs": [
        {
          "output_type": "stream",
          "text": [
            "INFO:absl:Using /tmp/tfhub_modules to cache modules.\n"
          ],
          "name": "stderr"
        }
      ]
    },
    {
      "cell_type": "markdown",
      "metadata": {
        "id": "5CBZGEI51Ygs"
      },
      "source": [
        "### Funções para testar o modelo - > decodificar a questão usando question_encoder e o embedding da questão é usado para consultar o índice simpleneighbors."
      ]
    },
    {
      "cell_type": "code",
      "metadata": {
        "id": "2_8gjta9v_Vv"
      },
      "source": [
        "def output_with_highlight(text, highlight):\n",
        "  output = \"<li> \"\n",
        "  i = text.find(highlight)\n",
        "  while True:\n",
        "    if i == -1:\n",
        "      output += text\n",
        "      break\n",
        "    output += text[0:i]\n",
        "    output += '<b>'+text[i:i+len(highlight)]+'</b>'\n",
        "    text = text[i+len(highlight):]\n",
        "    i = text.find(highlight)\n",
        "  return output + \"</li>\\n\"\n",
        "\n",
        "def display_nearest_neighbors(query_text, answer_text=None):\n",
        "    query_embedding = model.signatures['question_encoder'](tf.constant([query_text]))['outputs'][0]\n",
        "    search_results = index.nearest(query_embedding, n=num_results)\n",
        "\n",
        "    if answer_text:\n",
        "      result_md = '''\n",
        "      <p>Random Question:</p>\n",
        "      <p>&nbsp;&nbsp;<b>%s</b></p>\n",
        "      <p>Answer:</p>\n",
        "      <p>&nbsp;&nbsp;<b>%s</b></p>\n",
        "      ''' % (query_text , answer_text)\n",
        "    else:\n",
        "      result_md = '''\n",
        "      <p>Question:</p>\n",
        "      <p>&nbsp;&nbsp;<b>%s</b></p>\n",
        "      ''' % query_text\n",
        "\n",
        "    result_md += '''\n",
        "      <p>Retrieved sentences :\n",
        "      <ol>\n",
        "    '''\n",
        "\n",
        "    if answer_text:\n",
        "      for s in search_results:\n",
        "        result_md += output_with_highlight(s, answer_text)\n",
        "    else:\n",
        "      for s in search_results:\n",
        "        result_md += '<li>' + s + '</li>\\n'\n",
        "\n",
        "    result_md += \"</ol>\"\n",
        "    display(HTML(result_md))"
      ],
      "execution_count": 21,
      "outputs": []
    },
    {
      "cell_type": "markdown",
      "metadata": {
        "id": "PUnkwItruBPo"
      },
      "source": [
        "### S08_question_answer_pairs.txt"
      ]
    },
    {
      "cell_type": "markdown",
      "metadata": {
        "id": "06afi62juzk1"
      },
      "source": [
        "#### Tranformar o dataframe em listas answer_context_S08 e question_S08"
      ]
    },
    {
      "cell_type": "code",
      "metadata": {
        "id": "tTHu61ENuIuE"
      },
      "source": [
        "answer_context_S08 = []\n",
        "question_S08 = []\n",
        "\n",
        "for index, r in df_USE08.iterrows():\n",
        "  answer_context_S08.append([r['answer_clean'],r['Context']])\n",
        "  question_S08.append(r['Question'])"
      ],
      "execution_count": 17,
      "outputs": []
    },
    {
      "cell_type": "code",
      "metadata": {
        "colab": {
          "base_uri": "https://localhost:8080/"
        },
        "id": "Td-o_GnAU_14",
        "outputId": "3f0af4b1-ea6e-4820-c668-34d66857ae3d"
      },
      "source": [
        "answer_context_S08[100]"
      ],
      "execution_count": 18,
      "outputs": [
        {
          "output_type": "execute_result",
          "data": {
            "text/plain": [
              "['yes',\n",
              " 'Calvin Coolidge   John Calvin Coolidge, Jr. (July 4 1872   January 5 1933), more commonly known as Calvin Coolidge, was the thirtieth President of the United States (1923–1929).  A lawyer from Vermont, Coolidge worked his way up the ladder of Massachusetts state politics, eventually becoming governor of that state. His actions during the Boston Police Strike of 1919 thrust him into the national spotlight. Soon after, he was elected as the twenty-ninth Vice President in 1920 and succeeded to the Presidency upon the death of Warren G. Harding. Elected in his own right in 1924, he gained a reputation as a small-government conservative. In many ways Coolidge\\'s style of governance was a throwback to the passive presidency of the nineteenth century. Sobel, 14  He restored public confidence in the White House after the scandals of his predecessor\\'s administration, and left office with considerable popularity. McCoy, 420–421; Greenberg, 49–53  As his biographer later put it, \"he embodied the spirit and hopes of the middle class, could interpret their longings and express their opinions. That he did represent the genius of the average is the most convincing proof of his strength.\" Fuess, 500 Many later criticized Coolidge as part of a general criticism of laissez-faire government. McCoy, 418; Greenberg, 146–150; Ferrell, 66–72  His reputation underwent a renaissance during the Reagan administration, Sobel, 12–13; Greenberg, 2–3  but the ultimate assessment of his presidency is still divided between those who approve of his reduction of the size of government and those who believe the federal government should be more involved in regulating the economy. Greenberg, 1–7 John Calvin Coolidge Jr. was born in Plymouth, Windsor County, Vermont, on July 4 1872, the only U.S. President to be born on the fourth of July. He was the elder of two children of John Calvin Sr. and Victoria Coolidge. The Coolidge family had deep roots in New England. His earliest American ancestor, John Coolidge, emigrated from Cambridge, England, around 1630 and settled in Watertown, Massachusetts. Fuess, 12  Coolidge\\'s great-great-grandfather, also named John Coolidge, was an American army officer in the American Revolution, and was one of the first selectmen of the town of Plymouth Notch. Fuess, 7  Most of Coolidge\\'s ancestors were farmers. The more well-known Coolidges, such as architect Charles Allerton Coolidge, and diplomat Archibald Cary Coolidge, were descended from other branches of the family that had stayed in Massachusetts.  Coolidge\\'s grandmother Sarah Almeda Brewer had two famous first cousins: Arthur Brown, a United States Senator, and Olympia Brown, a women\\'s suffragist. Coolidge as an Amherst undergraduate Coolidge\\'s grandfather, Calvin Coolidge, held some local government offices in Plymouth and was best remembered as a man with \"a fondness for practical jokes\". Fuess, 14  His grandmother, Sarah Brewer, was also of New England. It is through this ancestor that Coolidge claimed to be descended in part from American Indians. McCoy, 5  Coolidge\\'s father was also a farmer, but spent some time as a schoolteacher and justice of the peace. Fuess, 16  His mother, Victoria Josephine Moor Coolidge, was the daughter of another Plymouth Notch farmer. Fuess, 17  Coolidge\\'s mother was chronically ill, possibly suffering from tuberculosis, and died young in 1884, but Coolidge\\'s father lived to see him become President. McCoy, 5; White, 11 Coolidge graduated from Black River Academy, Vermont, but failed his initial entrance exam to Amherst College.  Vermont Historical Society biography of Calvin Coolidge accessed December 6 2007  He spent one term at St. Johnsbury Academy, Vermont before entering Amherst.  Accomplished alumni. Amherst College, where he was a member of the Fraternity of Phi Gamma Delta. Retrieved on May 18, 2007  He dropped John from his name upon graduating from college. At Amherst, Coolidge became a member of the Fraternity of Phi Gamma Delta and joined the College Republicans in 1892. White, 35  While there, Coolidge met Dwight Morrow, who would become a life-long friend. Sobel, 36  Coolidge would later credit Charles E. Garman, a professor of philosophy and ethics, with having a significant influence on his education. Autobiography, 63–70  He graduated cum laude in 1895. Sobel, 41  At graduation, Coolidge was selected by his classmates to compose and read the Grove Oration, a humorous speech traditionally given during the graduation ceremony. After graduating from Amherst, at his father\\'s urging, Coolidge moved to Northampton, Massachusetts to take up the practice of law. Avoiding the costly alternative of attending a law school, Coolidge followed the more common practice at the time of apprenticing with a local firm, Hammond & Field. John C. Hammond and Henry P. Field, both Amherst graduates themselves, introduced Coolidge to the law practice in the county seat of Hampshire County. In 1897, Coolidge was admitted to the bar. With his savings and a small inheritance from his grandfather, Coolidge was able to open his own law office in Northampton in 1898, where he practiced transactional law, believing that he served his clients best by staying out of court. As his reputation as a hard-working and diligent attorney grew, local banks and other businesses began to retain his services. Fuess, 74–81; McCoy 22–26 In 1905 Coolidge met and married Grace Anna Goodhue, a local schoolteacher and fellow Vermonter. They were opposites in personality: she was talkative and fun-loving, while Coolidge was quiet and serious. Greenberg, 58–59  Not long after their marriage, Coolidge handed her a bag with fifty-two pairs of socks in it, all of them full of holes. Grace\\'s reply was \"Did you marry me to darn your socks?\" Without cracking a smile and with his usual seriousness, Calvin answered, \"No, but I find it mighty handy.\" Telleen, Maurice.  The Days Before Yesterday: 75 years ago. The Draft Horse Journal, Autumn, 2001. Retrieved from Internet Archive on May 18, 2007.  They had two sons; John Coolidge, born in 1906, and Calvin Jr., born in 1908. White, 65–66  The marriage was, by most accounts, a happy one. Fuess, 89–92; Sobel, 57–58. Some biographers disagree with this rosy portrait, see Ferrell, 21–23  As Coolidge wrote in his Autobiography, \"We thought we were made for each other. For almost a quarter of a century she has borne with my infirmities, and I have rejoiced in her graces.\" Autobiography, 93 The Republican Party was dominant in New England in Coolidge\\'s time, and he followed Hammond\\'s and Field\\'s example by becoming active in local politics. Sobel, 49–51  Coolidge campaigned locally for Republican presidential candidate William McKinley in 1896, and the next year he was selected to be a member of the Republican City Committee. Sobel, 51  In 1898, he won election to the City Council of Northampton, placing second in a ward where the top three candidates were elected.  The position offered no salary, but gave Coolidge experience in the political world. Fuess, 83  In 1899, he declined renomination, running instead for City Solicitor, a position elected by the City Council. He was elected for a one-year term in 1900, and reelected in 1901. Fuess, 84–85  This position gave Coolidge more experience as a lawyer, and paid a salary of $600.  In 1902, the city council selected a Democrat for city solicitor, and Coolidge returned to an exclusively private practice. McCoy, 29  Soon thereafter, however, the clerk of courts for the county died, and Coolidge was chosen to replace him. The position paid well, but barred him from practicing law, so he only remained at the job for one year.  The next year, 1904, Coolidge met with his only defeat before the voters, losing an election to the Northampton school board. When told that some of his neighbors voted against him because he had no children in the schools he would govern, Coolidge replied \"Might give me time!\" Calvin and Grace Coolidge, about 1918. In 1906 the local Republican committee nominated Coolidge for election to the state House of Representatives. He won a close victory over the incumbent Democrat, and reported to Boston for the 1907 session of the Massachusetts General Court. Sobel, 61  In his freshman term, Coolidge served on minor committees and, although he usually voted with the party, was known as a Progressive Republican, voting in favor of such measures as women\\'s suffrage and the direct election of Senators. Sobel, 62; Fuess, 99  Throughout his time in Boston, Coolidge found himself allied primarily with the western Winthrop Murray Crane faction of the state Republican Party, as against the Henry Cabot Lodge-dominated eastern faction. Sobel, 63–66  In 1907, he was elected to a second term. In the 1908 session, Coolidge was more outspoken, but was still not one of the leaders in the legislature. Sobel, 68–69 Instead of vying for another term in the state house, Coolidge returned home to his growing family and ran for mayor of Northampton when the incumbent Democrat retired. He was well-liked in the town, and defeated his challenger by a vote of 1,597 to 1,409. Sobel, 72  During his first term (1910 to 1911), he increased teachers\\' salaries and retired some of the city\\'s debt while still managing to effect a slight tax decrease. Fuess, 106–107; Sobel, 74  He was renominated in 1911, and defeated the same opponent by a slightly larger margin. Fuess, 108 Calvin Coolidge as a young legislator In 1911 the State Senator for the Hampshire County area retired and encouraged Coolidge to run for his seat for the 1912 session. He defeated his Democratic opponent by a large margin. Sobel, 76  At the start of that term, Coolidge was selected to be chairman of a committee to arbitrate the \"Bread and Roses\" strike by the workers of the American Woolen Company in Lawrence, Massachusetts. See also the main article, Lawrence textile strike, for a full description.  After two tense months, the company agreed to the workers\\' demands in a settlement the committee proposed. Fuess, 110–111; McCoy, 45–46  The other major issue for Republicans that year was the party split between the progressive wing, which favored Theodore Roosevelt, and the conservative wing, which favored William Howard Taft. Although he favored some progressive measures, Coolidge refused to bolt the party. Sobel, 79–80; Fuess, 111  When the new Progressive Party declined to run a candidate in his state senate district, Coolidge won reelection against his Democratic opponent by an increased margin. The 1913 session was less eventful, and Coolidge\\'s time was mostly spent on the railroad committee, of which he was the chairman. Fuess, 111–113  Coolidge intended to retire after the 1913 session, as two terms were the norm, but when the President of the State Senate, Levi H. Greenwood, considered running for Lieutenant Governor, Coolidge decided to run again for the Senate in the hopes of being elected as its presiding officer. Fuess, 114–115  Although Greenwood later decided to run for reelection to the Senate, he was defeated and Coolidge was elected, with Crane\\'s help, as the President of a closely divided Senate. Sobel, 80–82  After his election in January 1914, Coolidge delivered a speech entitled Have Faith in Massachusetts, which was later republished as a book. Have Faith in Massachusetts: A Collection of Speeches And Messages by Calvin Coolidge, 1919, ISBN 1417926082.  His speech, later much-quoted, summarized Coolidge\\'s philosophy of government. Coolidge\\'s speech was well-received and he attracted some admirers on its account. Sobel, 90–92  Towards the end of the term, many of them were proposing his name for nomination to lieutenant governor. After winning reelection to the Senate by an increased margin in the 1914 elections, Coolidge was reelected unanimously to be President of the Senate. Sobel, 90; Fuess, 124  As the 1915 session drew to a close, Coolidge\\'s supporters, led by fellow Amherst alumnus Frank Stearns, encouraged him once again to run for lieutenant governor. This time, he accepted their advice. Sobel, 92–98; Fuess, 133–136 Coolidge entered the primary election for lieutenant governor and was nominated to run alongside gubernatorial candidate Samuel W. McCall. Coolidge was the leading vote-getter in the Republican primary, and balanced the Republican ticket by adding a western presence to McCall\\'s eastern base of support. Fuess, 139–142  McCall and Coolidge won the 1915 election, with Coolidge defeating his opponent by more than 50,000 votes. Fuess, 145 Coolidge\\'s duties as lieutenant governor were few; in Massachusetts, the lieutenant governor does not preside over the state Senate, although Coolidge did become an ex officio member of the governor\\'s cabinet. Fuess, 150; Sobel, 104  As a full-time elected official, Coolidge no longer practiced law after 1916, though his family continued to live in Northampton. Fuess, 151–152  McCall and Coolidge were both reelected in 1916 and again in 1917 (both offices were one-year terms in those days). When McCall decided that he would not stand for a fourth term, Coolidge announced his own intention to run for governor. Sobel, 107–110 Coolidge was unopposed for the Republican nomination for Governor of Massachusetts in 1918. He and his running mate, Channing Cox, a Boston lawyer and Speaker of the Massachusetts House of Representatives, ran on the previous administration\\'s record: fiscal conservatism, a vague opposition to Prohibition, support for women\\'s suffrage, and support for American involvement in the First World War. Sobel, 111; McCall, 75–76  The issue of the war proved divisive, especially among Irish- and German-Americans. Sobel, 112  Coolidge was elected by a margin of 16,773 votes over his opponent, Richard H. Long, in the smallest margin of victory of any of his state-wide campaigns. Sobel, 115; McCall, 76 In 1919 in response to rumors that policemen of the Boston Police Department planned to form a trade union, Police Commissioner Edwin U. Curtis issued a statement saying that such a move would not be countenanced. In August of that year, the American Federation of Labor issued a charter to the Boston Police Union. Russell, 77–79; Sobel, 129  Curtis said the union\\'s leaders were insubordinate and planned to relieve them of duty, but said that he would suspend the sentence if the union was dissolved by September 4. Russell, 86–87  The mayor of Boston, Andrew Peters, convinced Curtis to delay his action for a few days, but Curtis ultimately suspended the union leaders after a brief delay, on September 8. Russell, 111–113; Sobel, 133–136 The following day about three-quarters of the policemen in Boston went on strike. The exact total was 1,117 out of 1,544. Russell, 113  Coolidge had observed the situation throughout the conflict, but had not yet intervened. That night and the next, there was sporadic violence and rioting in the lawless city. Russell, 131–170  Peters, concerned about sympathy strikes, had called up some units of the Massachusetts National Guard stationed in the Boston area and relieved Curtis of duty. Russell, 120  Coolidge, furious that the mayor had called out state guard units, finally acted. Sobel, 141  He called up more units of the National Guard, restored Curtis to office, and took personal control of the police force. Sobel, 142  Curtis proclaimed that none of the strikers would be allowed back to their former jobs, and Coolidge issued calls for a new police force to be recruited. Russell, 182–183 Samuel Gompers. That night Coolidge received a telegram from AFL leader Samuel Gompers. \"Whatever disorder has occurred\", Gompers wrote, \"is due to Curtis\\'s order in which the right of the policemen has been denied …\" Sobel, 143  Coolidge publicly answered Gompers\\'s telegram with the response that would launch him into the national consciousness (quoted, above left).  Newspapers across the nation picked up on Coolidge\\'s statement and he became the newest hero to defenders of American capitalism. In the midst of the First Red Scare, many Americans were terrified of the spread of communist revolution, like those that had taken place in Russia, Hungary, and Germany. While Coolidge had lost some friends among organized labor, conservatives across the nation had seen a rising star. Coolidge and Cox were renominated for their respective offices in 1919. By this time Coolidge\\'s supporters (especially Stearns) had publicized his actions in the Police Strike around the state and the nation and some of Coolidge\\'s speeches were reissued as a book.  He was faced with the same opponent as in 1918, Richard Long, but this time Coolidge defeated him by 125,101 votes, more than ten times his margin of victory from a year earlier. The tally was Coolidge 317,774, Long 192,673. Fuess, 238.  His actions in the police strike, combined with the massive electoral victory, led to suggestions that Coolidge should run for President in 1920. Fuess, 239–243; McCoy, 102–113 By the time Coolidge was inaugurated on January 1 1919 the First World War had ended, and Coolidge pushed the legislature to give a $100 bonus to Massachusetts veterans. He also signed a bill reducing the work week for women and children from fifty-four hours to forty-eight, saying \"we must humanize the industry, or the system will break down.\" Sobel, 117; Fuess, 195  He signed into law a budget that kept the tax rates the same, while trimming four million dollars from expenditures, thus allowing the state to retire some of its debt. Fuess, 186 Coolidge also wielded the veto pen as governor. His most publicized veto was of a bill that would have increased legislators\\' pay by 50%. Fuess, 187; McCall, 81  In May 1920, he vetoed a bill that would have allowed the sale of beer or wine of 2.75% alcohol or less, in contravention of the Eighteenth Amendment. Although Coolidge himself was opposed to Prohibition, he felt constrained to veto the bill. \"Opinions and instructions do not outmatch the Constitution,\" he said in his veto message, \"Against it, they are void.\" Fuess, 187–188 At the 1920 Republican Convention most of the delegates were selected by state party conventions, not primaries. As such, the field was divided among many local favorites. Sobel, 152–153  Coolidge was one such candidate, and while he placed as high as sixth in the voting, the powerful party bosses never considered him a serious candidate. After ten ballots, the delegates settled on Senator Warren G. Harding of Ohio as their nominee for President. Fuess, 259–260  When the time came to select a Vice Presidential nominee, the party bosses had also made a decision on who they would nominate: Senator Irvine Lenroot of Wisconsin. Fuess, 261  A delegate from Oregon, Wallace McCamant, having read Have Faith in Massachusetts, proposed Coolidge for Vice President instead.  The suggestion caught on quickly, and Coolidge found himself unexpectedly nominated. Fuess, 262–264 President Harding and Vice President Coolidge and their wives. The Democrats nominated another Ohioan, James M. Cox, for President and the Assistant Secretary of the Navy, Franklin D. Roosevelt, for Vice President. The question of the United States joining the League of Nations was a major issue in the campaign, as was the unfinished legacy of Progressivism. Sobel, 204–212  Harding ran a \"front-porch\" campaign from his home in Marion, Ohio, but Coolidge took to the campaign trail in the Upper South, New York, and New England. Sobel, 204–207  On November 2 1920, Harding and Coolidge were victorious in a landslide, winning every state outside the South.  ;    They also won in Tennessee, the first time a Republican ticket had won a Southern state since Reconstruction. The Vice Presidency did not carry many official duties, but Coolidge was invited by President Harding to attend cabinet meetings, making him the first Vice President to do so. Sobel, 210–211  He gave speeches around the country, but none were especially noteworthy. Sobel, 219; McCoy, 136 As Vice President, Coolidge and his vivacious wife Grace were invited to quite a few parties, where the legend of \"Silent Cal\" was born. It was from this time most of the jokes and anecdotes at his expense originate. Although Coolidge was known to be a skilled and effective public speaker, in private he was a man of few words and was therefore commonly referred to as \"Silent Cal.\" A possibly apocryphal story has it that Dorothy Parker, seated next to him at a dinner, said to him, \"Mr. Coolidge, I\\'ve made a bet against a fellow who said it was impossible to get more than two words out of you.\" His famous reply: \"You lose.\" Hannaford, 169  It was also Parker who, upon learning that Coolidge had died, reportedly remarked, \"How can they tell?\" Greenberg, 9  Coolidge often seemed uncomfortable among fashionable Washington society; when asked why he continued to attend so many of their dinner parties, he replied \"Got to eat somewhere.\" Sobel, 217 As President, Coolidge\\'s reputation as a quiet man continued. \"The words of a President have an enormous weight,\" he would later write, \"and ought not to be used indiscriminately.\" Sobel, 243  Coolidge was aware of his stiff reputation; indeed, he cultivated it. \"I think the American people want a solemn ass as a President,\" he once told Ethel Barrymore, \"and I think I will go along with them.\" Greenberg, 60 Coolidge\\'s father, John Calvin Coolidge, Sr. On August 2 1923, President Harding died while on a speaking tour in California. See the main article, Warren Harding#Death in office for a full description  Vice President Coolidge was visiting his family home, which did not have electricity or a telephone, in Vermont when he received word of Harding\\'s death. Fuess, 308–309  Coolidge dressed, said a prayer, and came downstairs to greet the reporters who had assembled.  His father, a notary public, administered the oath of office in the family\\'s parlor by the light of a kerosene lamp at 2:47 a.m. on August 3, 1923; Coolidge was re-sworn by Justice A. A. Hoehling of the Supreme Court of the District of Columbia upon his return to Washington. Fuess, 310–315 Coolidge signing the Immigration Act and some appropriation bills. General John J. Pershing looks on. The nation did not know what to make of its new President; Coolidge had not stood out in the Harding administration and many had expected him to be replaced on the ballot in 1924. Sobel, 226–228; Fuess, 303–305; Ferrell, 43–51  He chose C. Bascom Slemp, a Virginia Congressman and experienced federal politician, as his secretary (a position equivalent to the modern White House Chief of Staff). Fuess, 320–322  Although many of Harding\\'s cabinet appointees were scandal-tarred, Coolidge announced that he would not demand any of their resignations, believing that since the people had elected Harding, he should carry on Harding\\'s presidency, at least until the next election. He addressed Congress when it reconvened on December 6 1923, giving a speech that echoed many of Harding\\'s themes, including immigration restriction and the need for the government to arbitrate the coal strikes then ongoing in Pennsylvania. Fuess, 328–329; Sobel, 248–249  The Washington Naval Treaty was proclaimed just one month into Coolidge\\'s term, and was generally well received in the country.  In May 1924, the World War I veterans\\' Bonus Bill was passed over his veto. Fuess, 341  Coolidge signed the Immigration Act later that year, though he appended a signing statement expressing his unhappiness with the bill\\'s specific exclusion of Japanese immigrants. Fuess, 342; Sobel, 269  Just before the Republican Convention began, Coolidge signed into law the Revenue Act of 1924, which decreased personal income tax rates while increasing the estate tax, and creating a gift tax to reinforce the transfer tax system. Sobel, 278–279 Electoral votes by state, 1924. The Republican Convention was held from June 10 to June 12 1924 in Cleveland, Ohio; President Coolidge was nominated on the first ballot. Fuess, 345  The convention nominated Frank Lowden of Illinois for Vice President on the second ballot, but he declined via telegram. Fuess, 346  Former Brigadier General Charles G. Dawes, who would win the Nobel Peace Prize in 1925, was nominated on the third ballot; he accepted. John W. DavisThe Democrats held their convention a month later in New York City. The convention soon deadlocked, and after 103 ballots, the delegates finally agreed on a compromise candidate, John W. Davis. Charles W. Bryan was nominated for Vice President. The Democrats\\' hopes were buoyed when Robert M. La Follette, Sr., a Republican Senator from Wisconsin, split from the party to form a new Progressive Party. Many believed that the split in the Republican party, like the one in 1912, would allow a Democrat to win the Presidency. Sobel, 300 Shortly after the conventions Coolidge experienced a personal tragedy. Coolidge\\'s younger son, Calvin, Jr., developed a blister from playing tennis on the White House courts. The blister became infected, and Calvin, Jr. died. After that Coolidge became even more withdrawn. He later said that \"when he died, the power and glory of the Presidency went with him.\" Autobiography, 190  In spite of his sadness, Coolidge ran his conventional campaign; he never maligned his opponents (or even mentioned them by name) and delivered speeches on his theory of government, including several that were broadcast over radio. Sobel, 300–301  It was easily the most subdued campaign since 1896, partly because the President was grieving for his son, but partly because Coolidge\\'s style was naturally non-confrontational. Sobel, 302–303  The other candidates campaigned in a more modern fashion, but despite the split in the Republican party, the results were very similar to those of 1920. Coolidge and Dawes won every state outside the South except for Wisconsin, La Follette\\'s home state. Coolidge had a popular vote majority of 2.5 million over his opponents\\' combined total.  , Coolidge, reporters, and cameramen During Coolidge\\'s presidency the United States experienced the period of rapid economic growth known as the \"Roaring Twenties.\" His economic policy has often been misquoted as \"generally speaking, the business of the American people is business\" (full quotation below, at left). Although some commentators have criticized Coolidge as a doctrinaire laissez-faire ideologue, historian Robert Sobel offers some context based on Coolidge\\'s sense of federalism: \"As Governor of Massachusetts, Coolidge supported wages and hours legislation, opposed child labor, imposed economic controls during World War I, favored safety measures in factories, and even worker representation on corporate boards. Did he support these measures while president? No, because in the 1920s, such matters were considered the responsibilities of state and local governments.\" Sobel, Robert.  Coolidge and American Business. John F. Kennedy Library and Museum. Retrieved from March 08, 2006 version in Internet Archive on May 18, 2007. See also Greenberg, 47. Coolidge with his Vice President, Charles G. Dawes. Coolidge\\'s taxation policy, and that of his Secretary of the Treasury, Andrew Mellon, was that taxes should be lower and that fewer people should have to pay them. Sobel, 310–311; Greenberg, 127–129  The Congress concurred, and the tax burden on Americans was reduced in Coolidge\\'s term.  In addition to these tax cuts, Coolidge proposed reductions in federal expenditures and retiring some of the federal debt. Sobel, 310–311; Fuess, 382–383  To that end, Coolidge declined to sign some of the spending that Congress approved. He vetoed the proposed McNary-Haugen Farm Relief Bill of 1926, designed to allow the federal government to purchase agricultural surpluses and sell them abroad at lowered prices. Coolidge declared that agriculture must stand \"on an independent business basis,\" and said that \"government control cannot be divorced from political control.\" Fuess, 383–384  He favored Herbert Hoover\\'s proposal to modernize agriculture to create profits, instead of manipulating prices. When Congress re-passed the McNary-Haugen bill in 1927, Coolidge vetoed it again. Fuess, 388; Ferrell, 93  \"Farmers never have made much money,\" said Coolidge, the Vermont farmer\\'s son, \"I do not believe we can do much about it.\" Ferrell, 86 Coolidge has often been criticized for his actions during the Great Mississippi Flood of 1927, the worst natural disaster to hit the Gulf Coast until Hurricane Katrina in 2005. Sobel, 315; Barry, 286–287; Greenberg, 132–135  Although he did eventually name Secretary Hoover to a commission in charge of flood relief, Coolidge\\'s lack of interest in federal flood control has been much maligned.  Coolidge did not believe that personally visiting the region after the floods would accomplish anything, but would be seen only as political grandstanding, and he did not want to incur the federal spending that flood control would require. McCoy, 330–331  Congress wanted a bill that would place the federal government completely in charge of flood mitigation; Coolidge wanted the property owners to bear much of the costs. Barry, 372–374  When Congress passed a compromise measure in 1928, Coolidge declined to take credit for it and signed the bill in private on May 15. Greenberg, 135 Coolidge\\'s official White House portraitWhile he was not an isolationist, Coolidge was reluctant to enter foreign alliances. Sobel, 342  Coolidge saw the landslide Republican victory of 1920 as a rejection of the Wilsonian idea that the United States should join the League of Nations. McCoy, 184–185  While not completely opposed to the idea, Coolidge believed the League, as then constituted, did not serve American interests, and he did not advocate membership in it.  He spoke in favor of the United States joining the Permanent Court of International Justice, provided that the nation would not be bound by advisory decisions. McCoy, 360  The Senate eventually approved joining the Court (with reservations) in 1926. McCoy, 363  The League of Nations accepted the reservations, but suggested some modifications of their own. Greenberg, 114–116  The Senate failed to act; the United States never joined the World Court. Coolidge\\'s best-known initiative was the Kellogg-Briand Pact of 1928, named for Coolidge\\'s Secretary of State, Frank B. Kellogg, and French foreign minister Aristide Briand. The treaty, ratified in 1929, committed signatories including the U.S., the United Kingdom, France, Germany, Italy, and Japan to \"renounce war, as an instrument of national policy in their relations with one another.\" Fuess, 421–423  The treaty did not actually achieve its result — the outlawry of war — but did provide the founding principle for international law after World War II. McCoy, 380–381; Greenberg, 123–124 Coolidge continued the previous administration\\'s policy not to recognize the Soviet Union. McCoy, 181  He also continued the United States\\' support for the elected government of Mexico against the rebels there, lifting the arms embargo on that country. McCoy, 178–179  He sent his close friend Dwight Morrow to Mexico as the American ambassador. Sobel, 349  Coolidge represented the U.S. at the Pan American Conference in Havana, Cuba, making him the only sitting U.S. President to visit the country. The United States\\' occupation of Nicaragua and Haiti continued under his administration, but Coolidge withdrew American troops from the Dominican Republic in 1924. Fuess, 414–417; Ferrell, 122–123 President Coolidge signed a bill granting Native Americans full U.S. citizenship. Coolidge is shown above on October 22, 1924 holding a ceremonial hat. Coolidge did not seek renomination; he announced his decision to reporters, in writing, with typical terseness: \"I do not choose to run for President in 1928.\" Sobel, 370  After allowing them to take that in, Coolidge elaborated. \"If I take another term, I will be in the White House till 1933 … Ten years in Washington is longer than any other man has had it—too long!\" White, 361  In his memoirs, Coolidge explained his decision not to run: \"The Presidential office takes a heavy toll of those who occupy it and those who are dear to them. While we should not refuse to spend and be spent in the service of our country, it is hazardous to attempt what we feel is beyond our strength to accomplish.\" Autobiography, 239  After leaving office, he and Grace returned to Northampton, where he wrote his memoirs. The Republicans retained the White House in 1928 in the person of Coolidge\\'s Secretary of Commerce, Herbert Hoover. Coolidge had been lukewarm on the choice of Hoover as his successor; on one occasion he remarked that \"for six years that man has given me unsolicited advice all of it bad.\" Brandes, ___  Even so, Coolidge had no desire to split the party by publicly opposing the popular Commerce Secretary\\'s nomination. McCoy, 390–391; Wilson, 122–123  The delegates did consider nominating Vice President Charles Dawes to be Hoover\\'s running mate, but the convention selected Senator Charles Curtis instead. Wilson, 125–127 Despite his reputation as a quiet and even reclusive politician, Coolidge made use of the new medium of radio and made radio history several times while President. He made himself available to reporters, giving 529 press conferences, meeting with reporters more regularly than any President before or since. Greenberg, 7  His inauguration was the first presidential inauguration broadcast on radio. On 6 December 1923, Coolidge was the first President whose address to Congress was broadcast on radio. Sobel, 252  On February 12 1924, he became the first President of the United States to deliver a political speech on radio. On August 11 1924, Coolidge was filmed on the White House lawn by Lee De Forest in DeForest\\'s Phonofilm sound-on-film process, becoming the first President to appear in a sound film. The title of the DeForest film was President Coolidge, Taken on the White House Lawn.   Secretary of the Treasury Andrew Mellon Coolidge was the only president to have his face on a coin during his lifetime, the sesquicentennial commemorative half dollar of 1926. Chief Justice Harlan Fiske Stone Coolidge appointed one Justice to the Supreme Court of the United States, Harlan Fiske Stone in 1925. Stone was Coolidge\\'s fellow Amherst alumnus and was serving as dean of Columbia Law School when Coolidge appointed him to be Attorney General in 1924. He appointed Stone to the Supreme Court in 1925, and the Senate approved the nomination. Fuess, 364  Stone was later appointed Chief Justice by President Franklin D. Roosevelt. Coolidge addressing a crowd at Arlington National Cemetery\\'s Roman style Memorial Amphitheater in 1924. After the presidency, Coolidge served as chairman of the non-partisan Railroad Commission, as honorary president of the Foundation of the Blind, as a director of New York Life Insurance Company, as president of the American Antiquarian Society, and as a trustee of Amherst College.   Coolidge Family Papers, 1802–1932, Vermont Historical Society Library. Retrieved on May 18, 2007  Coolidge received an honorary Doctor of Laws from Bates College in Lewiston, Maine. Coolidge published his autobiography in 1929 and wrote a syndicated newspaper column, \"Calvin Coolidge Says,\" from 1930–1931. Sobel, 403; Ferrell, 201–202  Faced with looming defeat in 1932, some Republicans spoke of rejecting Herbert Hoover as their party\\'s nominee, and instead drafting Coolidge to run, but the former President made it clear that he was not interested in running again, and that he would publicly repudiate any effort to draft him, should it come about. Fuess, 457–459; Greenberg, 153  Hoover was renominated, and Coolidge made several radio addresses in support of him. Fuess, 460 He died suddenly of a heart attack at his home in Northampton, \"The Beeches,\" at 12:45 p.m., January 5 1933. Greenberg, 154–155  Shortly before his death, Coolidge confided to an old friend: \"I feel I am no longer fit in these times.\" Sobel, 410 Coolidge is buried beneath a simple headstone in Notch Cemetery, Plymouth Notch, Vermont, where the family homestead is maintained as a museum. The State of Vermont dedicated a new visitors\\' center nearby to mark Coolidge\\'s 100th birthday on July 4 1972.    Calvin Coolidge\\'s Brave Little State of Vermont speech is memorialized in the Hall of Inscriptions at the Vermont State House at Montpelier, Vermont. *  Coolidge, Calvin. The Autobiography of Calvin Coolidge (1929), ISBN 0944951031. * Barry, John M., Rising Tide: The Great Mississippi Flood of 1927 and How It Changed America (1997), ISBN 0684840022. * Ferrell, Robert H., The Presidency of Calvin Coolidge (1998), ISBN 0700608923. * Fuess, Claude M., Calvin Coolidge: The Man from Vermont (1940), ISBN 0837193206. * Greenberg, David, Calvin Coolidge, The American Presidents Series, (2006), ISBN 0805069577. * Hannaford, Peter, The Quotable Calvin Coolidge (2001), ISBN 1884592333. * McCoy, Donald, Calvin Coolidge: The Quiet President (1967), ISBN 0945707231. * Russell, Francis, A City in Terror: Calvin Coolidge and the 1919 Boston Police Strike (1975), ISBN 0807050334. * Silver, Thomas B.,  Coolidge and the Historians (1983), ISBN 0890890382. * Sobel, Robert, Coolidge: An American Enigma (1998), ISBN 0895264102. * White, William Allen,  A Puritan in Babylon: The Story of Calvin Coolidge (1938),  . * Wilson, Joan Hoff, Herbert Hoover, Forgotten Progressive (1975), ISBN 0316944165. An academic conference on Coolidge was held July 30–31, 1998, at the John F. Kennedy Library to mark the 75th anniversary of his lantern-light homestead inaugural.']"
            ]
          },
          "metadata": {
            "tags": []
          },
          "execution_count": 18
        }
      ]
    },
    {
      "cell_type": "markdown",
      "metadata": {
        "id": "4Z2AI70ZvK20"
      },
      "source": [
        "#### Computar embeddings e criar o simpleneighbors index"
      ]
    },
    {
      "cell_type": "code",
      "metadata": {
        "colab": {
          "base_uri": "https://localhost:8080/",
          "height": 100,
          "referenced_widgets": [
            "ec0fe1f6704b47eb97de2f288ea02fb9",
            "eb574633ec904f47bbebc71673f3da21",
            "f86239a1d649446287b1a5ead0b0a11f",
            "d70e310cde964a99a074534f6898826f",
            "a8a2b8da7d87407db81728e13c9ddad4",
            "c548329365864a9c877bc4a2fd69b476",
            "09da96982f2a4a1c9e0c670131b770f3",
            "442bade89f2a4e50afbd4c3e0ac7bf5f"
          ]
        },
        "id": "E1maRRL_vGdH",
        "outputId": "6dcfd16a-f05e-4b62-e674-efa7fd2fbd66"
      },
      "source": [
        "batch_size = 100\n",
        "\n",
        "encodings = model.signatures['response_encoder'](  input=tf.constant([answer_context_S08[0][0]]), context=tf.constant([answer_context_S08[0][1]]))\n",
        "index = SimpleNeighbors(len(encodings['outputs'][0]), metric='angular')\n",
        "\n",
        "print('Computing embeddings for %s sentences' % len(answer_context_S08))\n",
        "slices = zip(*(iter(answer_context_S08),) * batch_size)\n",
        "num_batches = int(len(answer_context_S08) / batch_size)\n",
        "for s in tq.tqdm_notebook(slices, total=num_batches):\n",
        "  response_batch = list([r for r, c in s])\n",
        "  context_batch = list([c for r, c in s])\n",
        "  encodings = model.signatures['response_encoder'](\n",
        "    input=tf.constant(response_batch),\n",
        "    context=tf.constant(context_batch)\n",
        "  )\n",
        "  for batch_index, batch in enumerate(response_batch):\n",
        "    index.add_one(batch, encodings['outputs'][batch_index])\n",
        "\n",
        "index.build()\n",
        "print('simpleneighbors index for %s sentences built.' % len(answer_context_S08))"
      ],
      "execution_count": 19,
      "outputs": [
        {
          "output_type": "stream",
          "text": [
            "Computing embeddings for 1148 sentences\n"
          ],
          "name": "stdout"
        },
        {
          "output_type": "display_data",
          "data": {
            "application/vnd.jupyter.widget-view+json": {
              "model_id": "ec0fe1f6704b47eb97de2f288ea02fb9",
              "version_minor": 0,
              "version_major": 2
            },
            "text/plain": [
              "HBox(children=(FloatProgress(value=0.0, max=11.0), HTML(value='')))"
            ]
          },
          "metadata": {
            "tags": []
          }
        },
        {
          "output_type": "stream",
          "text": [
            "\n",
            "simpleneighbors index for 1148 sentences built.\n"
          ],
          "name": "stdout"
        }
      ]
    },
    {
      "cell_type": "markdown",
      "metadata": {
        "id": "MUedyBGRv8bV"
      },
      "source": [
        "#### Testar o modelo"
      ]
    },
    {
      "cell_type": "code",
      "metadata": {
        "colab": {
          "base_uri": "https://localhost:8080/",
          "height": 199
        },
        "id": "M_WhMhsCwJuI",
        "outputId": "f20f6852-2d04-49c7-8207-f38571feb390"
      },
      "source": [
        "#@title ###### Acessar os \"vizinhos próximos\" **nearest neighbors** para perguntas escolhidas randomicamente\n",
        "num_results = 5 #@param {type:\"slider\", min:5, max:40, step:1}\n",
        "\n",
        "query = random.choice(question_S08)\n",
        "display_nearest_neighbors(query)"
      ],
      "execution_count": 22,
      "outputs": [
        {
          "output_type": "display_data",
          "data": {
            "text/html": [
              "\n",
              "      <p>Question:</p>\n",
              "      <p>&nbsp;&nbsp;<b>Did Roosevelt support racial integration in schools?</b></p>\n",
              "      \n",
              "      <p>Retrieved sentences :\n",
              "      <ol>\n",
              "    <li>he supported a bill allowing school desegregation in new york state</li>\n",
              "<li>mixing of the races on social occassions</li>\n",
              "<li>noting that his children had been educated with other races and there was nothing wrong with it</li>\n",
              "<li>yes</li>\n",
              "<li>yes</li>\n",
              "</ol>"
            ],
            "text/plain": [
              "<IPython.core.display.HTML object>"
            ]
          },
          "metadata": {
            "tags": []
          }
        }
      ]
    },
    {
      "cell_type": "markdown",
      "metadata": {
        "id": "3CoYYSHkzo6S"
      },
      "source": [
        "### S09_question_answer_pairs.txt"
      ]
    },
    {
      "cell_type": "markdown",
      "metadata": {
        "id": "RpIxaQIuzUbG"
      },
      "source": [
        "#### Tranformar o dataframe em listas answer_context_S09 e question_S09"
      ]
    },
    {
      "cell_type": "code",
      "metadata": {
        "id": "cSYGoMunz0BT"
      },
      "source": [
        "answer_context_S09 = []\n",
        "question_S09 = []\n",
        "\n",
        "for index, r in df_USE09.iterrows():\n",
        "  answer_context_S09.append((r['answer_clean'].lower(),r['Context'].lower()))\n",
        "  question_S09.append(r['Question'].lower())"
      ],
      "execution_count": 23,
      "outputs": []
    },
    {
      "cell_type": "markdown",
      "metadata": {
        "id": "E-Aj7pjB2qU9"
      },
      "source": [
        "#### Computar embeddings e criar o simpleneighbors index"
      ]
    },
    {
      "cell_type": "code",
      "metadata": {
        "colab": {
          "base_uri": "https://localhost:8080/",
          "height": 100,
          "referenced_widgets": [
            "b25c524c3cd54842aa1ab8bb3a04ba55",
            "eb932f058dc64d4084994b8b040f773c",
            "0db7de789b504a26b7654ca259f90f74",
            "50194087373741ab93113c23b5fcb5b6",
            "d9137156df274914b4747db9c845324c",
            "95be9a9a478643109fa5958eb29e4ded",
            "94846252070c4e2092c3f7b242dbaebf",
            "b921e005d2f945b9aff49ef7431375bc"
          ]
        },
        "id": "9YBxRFm609Uv",
        "outputId": "36a93d8b-d9f7-4d59-ce3a-0f374c0cf7df"
      },
      "source": [
        "batch_size = 100\n",
        "\n",
        "encodings = model.signatures['response_encoder'](  input=tf.constant([answer_context_S09[0][0]]), context=tf.constant([answer_context_S09[0][1]]))\n",
        "index = SimpleNeighbors(len(encodings['outputs'][0]), metric='angular')\n",
        "\n",
        "print('Computing embeddings for %s sentences' % len(answer_context_S09))\n",
        "slices = zip(*(iter(answer_context_S09),) * batch_size)\n",
        "num_batches = int(len(answer_context_S09) / batch_size)\n",
        "for s in tq.tqdm_notebook(slices, total=num_batches):\n",
        "  response_batch = list([r for r, c in s])\n",
        "  context_batch = list([c for r, c in s])\n",
        "  encodings = model.signatures['response_encoder'](\n",
        "    input=tf.constant(response_batch),\n",
        "    context=tf.constant(context_batch)\n",
        "  )\n",
        "  for batch_index, batch in enumerate(response_batch):\n",
        "    index.add_one(batch, encodings['outputs'][batch_index])\n",
        "\n",
        "index.build()\n",
        "print('simpleneighbors index for %s sentences built.' % len(answer_context_S09))"
      ],
      "execution_count": 24,
      "outputs": [
        {
          "output_type": "stream",
          "text": [
            "Computing embeddings for 590 sentences\n"
          ],
          "name": "stdout"
        },
        {
          "output_type": "display_data",
          "data": {
            "application/vnd.jupyter.widget-view+json": {
              "model_id": "b25c524c3cd54842aa1ab8bb3a04ba55",
              "version_minor": 0,
              "version_major": 2
            },
            "text/plain": [
              "HBox(children=(FloatProgress(value=0.0, max=5.0), HTML(value='')))"
            ]
          },
          "metadata": {
            "tags": []
          }
        },
        {
          "output_type": "stream",
          "text": [
            "\n",
            "simpleneighbors index for 590 sentences built.\n"
          ],
          "name": "stdout"
        }
      ]
    },
    {
      "cell_type": "code",
      "metadata": {
        "colab": {
          "base_uri": "https://localhost:8080/",
          "height": 199
        },
        "id": "uU62KISM2OZS",
        "outputId": "94173dbc-0fe3-4853-8ce0-d541f5f7c1c9"
      },
      "source": [
        "#@title ###### Acessar os \"vizinhos próximos\" **nearest neighbors** para perguntas escolhidas randomicamente\n",
        "num_results = 5 #@param {type:\"slider\", min:5, max:40, step:1}\n",
        "\n",
        "query = random.choice(question_S09)\n",
        "display_nearest_neighbors(query)"
      ],
      "execution_count": 25,
      "outputs": [
        {
          "output_type": "display_data",
          "data": {
            "text/html": [
              "\n",
              "      <p>Question:</p>\n",
              "      <p>&nbsp;&nbsp;<b>is french descendant of the latin language?</b></p>\n",
              "      \n",
              "      <p>Retrieved sentences :\n",
              "      <ol>\n",
              "    <li>french</li>\n",
              "<li>yes</li>\n",
              "<li>yes</li>\n",
              "<li>yes</li>\n",
              "<li>yes</li>\n",
              "</ol>"
            ],
            "text/plain": [
              "<IPython.core.display.HTML object>"
            ]
          },
          "metadata": {
            "tags": []
          }
        }
      ]
    },
    {
      "cell_type": "markdown",
      "metadata": {
        "id": "6ipenFyhx-pj"
      },
      "source": [
        "### S10_question_answer_pairs.txt"
      ]
    },
    {
      "cell_type": "markdown",
      "metadata": {
        "id": "t4hMXP7at9k4"
      },
      "source": [
        "#### Tranformar o dataframe em listas answer_context_S10 e question_S10"
      ]
    },
    {
      "cell_type": "code",
      "metadata": {
        "id": "_Rbzr7tKNrJG"
      },
      "source": [
        "answer_context_S10 = []\n",
        "question_S10 = []\n",
        "\n",
        "for index, r in df_USE10.iterrows():\n",
        "  answer_context_S10.append((r['Answer'].lower(),r['Context'].lower()))\n",
        "  question_S10.append(r['Question'])"
      ],
      "execution_count": 26,
      "outputs": []
    },
    {
      "cell_type": "markdown",
      "metadata": {
        "id": "1wT7dttqyEmO"
      },
      "source": [
        "#### Computar embeddings e criar o **simpleneighbors** index"
      ]
    },
    {
      "cell_type": "code",
      "metadata": {
        "id": "B21PE-ovxWDA",
        "colab": {
          "base_uri": "https://localhost:8080/",
          "height": 100,
          "referenced_widgets": [
            "ede65a4789ee4d58a101eb81a04c9a22",
            "e067d611d0f14dde99e769fe44b654ca",
            "ca980712074d4717b6f41357d5292efd",
            "b1530fafb9854616aa7941b3cddeabd5",
            "f0a0580154d84b8c9907e83e1afbe9d3",
            "b72db47479ea416f89edc9b95df99b5c",
            "70ab44710262452b86ae20ed8810b92e",
            "a4dd7bcaba4d4d9289561ee372e067a9"
          ]
        },
        "outputId": "2811340c-f8ea-407e-89e0-b4c1afc3020e"
      },
      "source": [
        "batch_size = 100\n",
        "\n",
        "encodings = model.signatures['response_encoder'](  input=tf.constant([answer_context_S10[0][0]]), context=tf.constant([answer_context_S10[0][1]]))\n",
        "index = SimpleNeighbors(len(encodings['outputs'][0]), metric='angular')\n",
        "\n",
        "print('Computing embeddings for %s sentences' % len(answer_context_S10))\n",
        "slices = zip(*(iter(answer_context_S10),) * batch_size)\n",
        "num_batches = int(len(answer_context_S10) / batch_size)\n",
        "for s in tq.tqdm_notebook(slices, total=num_batches):\n",
        "  response_batch = list([r for r, c in s])\n",
        "  context_batch = list([c for r, c in s])\n",
        "  encodings = model.signatures['response_encoder'](\n",
        "    input=tf.constant(response_batch),\n",
        "    context=tf.constant(context_batch)\n",
        "  )\n",
        "  for batch_index, batch in enumerate(response_batch):\n",
        "    index.add_one(batch, encodings['outputs'][batch_index])\n",
        "\n",
        "index.build()\n",
        "print('simpleneighbors index for %s sentences built.' % len(answer_context_S10))\n"
      ],
      "execution_count": 27,
      "outputs": [
        {
          "output_type": "stream",
          "text": [
            "Computing embeddings for 1045 sentences\n"
          ],
          "name": "stdout"
        },
        {
          "output_type": "display_data",
          "data": {
            "application/vnd.jupyter.widget-view+json": {
              "model_id": "ede65a4789ee4d58a101eb81a04c9a22",
              "version_minor": 0,
              "version_major": 2
            },
            "text/plain": [
              "HBox(children=(FloatProgress(value=0.0, max=10.0), HTML(value='')))"
            ]
          },
          "metadata": {
            "tags": []
          }
        },
        {
          "output_type": "stream",
          "text": [
            "\n",
            "simpleneighbors index for 1045 sentences built.\n"
          ],
          "name": "stdout"
        }
      ]
    },
    {
      "cell_type": "markdown",
      "metadata": {
        "id": "XPDPm7fe1TcI"
      },
      "source": [
        "#### Testar o modelo"
      ]
    },
    {
      "cell_type": "code",
      "metadata": {
        "id": "-QNcQoUZxgzB",
        "colab": {
          "base_uri": "https://localhost:8080/",
          "height": 199
        },
        "outputId": "66ad02b8-4f18-43c6-9ee9-e67cfbd4d24b"
      },
      "source": [
        "#@title ###### Acessar os \"vizinhos próximos\" **nearest neighbors** para perguntas escolhidas randomicamente\n",
        "num_results = 5 #@param {type:\"slider\", min:5, max:40, step:1}\n",
        "\n",
        "query = random.choice(question_S10)\n",
        "display_nearest_neighbors(query)"
      ],
      "execution_count": 28,
      "outputs": [
        {
          "output_type": "display_data",
          "data": {
            "text/html": [
              "\n",
              "      <p>Question:</p>\n",
              "      <p>&nbsp;&nbsp;<b>What is the official name of Jakarta?</b></p>\n",
              "      \n",
              "      <p>Retrieved sentences :\n",
              "      <ol>\n",
              "    <li>the name jakarta is derived from the sanskrit word \"jayakarta.\"</li>\n",
              "<li>the capital of indonesia is jakarta.</li>\n",
              "<li>jakarta</li>\n",
              "<li>daerah khusus ibukota jakarta</li>\n",
              "<li>jakarta lies on a plain eight meters, approximately eight meters above the sea level.</li>\n",
              "</ol>"
            ],
            "text/plain": [
              "<IPython.core.display.HTML object>"
            ]
          },
          "metadata": {
            "tags": []
          }
        }
      ]
    }
  ]
}