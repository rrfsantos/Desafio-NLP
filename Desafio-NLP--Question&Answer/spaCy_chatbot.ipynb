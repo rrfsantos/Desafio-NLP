{
  "nbformat": 4,
  "nbformat_minor": 0,
  "metadata": {
    "colab": {
      "name": "spaCy_chatbot.ipynb",
      "provenance": [],
      "collapsed_sections": [],
      "machine_shape": "hm",
      "authorship_tag": "ABX9TyMsxKaWr/O1RWi1XX+iTxs8",
      "include_colab_link": true
    },
    "kernelspec": {
      "display_name": "Python 3",
      "name": "python3"
    },
    "language_info": {
      "name": "python"
    },
    "accelerator": "GPU"
  },
  "cells": [
    {
      "cell_type": "markdown",
      "metadata": {
        "id": "view-in-github",
        "colab_type": "text"
      },
      "source": [
        "<a href=\"https://colab.research.google.com/github/rrfsantos/Desafios-NLP/blob/main/Desafio-NLP--Question%26Answer/spaCy_chatbot.ipynb\" target=\"_parent\"><img src=\"https://colab.research.google.com/assets/colab-badge.svg\" alt=\"Open In Colab\"/></a>"
      ]
    },
    {
      "cell_type": "markdown",
      "metadata": {
        "id": "0up_CL3u5rkX"
      },
      "source": [
        "## Recuperação de perguntas e respostas utilizando similaridade com spacy-sentence-bert"
      ]
    },
    {
      "cell_type": "markdown",
      "metadata": {
        "id": "ZRC078d3NoeS"
      },
      "source": [
        "https://spacy.io/universe/project/spacy-sentence-bert"
      ]
    },
    {
      "cell_type": "markdown",
      "metadata": {
        "id": "haHGBIVt6gS5"
      },
      "source": [
        "Being able to automatically answer questions accurately remains a difficult problem in natural language processing. This dataset has everything you need to try your own hand at this task. Can you correctly generate the answer to questions given the Wikipedia article text the question was originally generated from?\n",
        "\n",
        "Content:\n",
        "There are three question files, one for each year of students: S08, S09, and S10, as well as 690,000 words worth of cleaned text from Wikipedia that was used to generate the questions.\n",
        "\n",
        "The \"questionanswerpairs.txt\" files contain both the questions and answers. The columns in this file are as follows:\n",
        "\n",
        "ArticleTitle is the name of the Wikipedia article from which questions and answers initially came.\n",
        "Question is the question.\n",
        "Answer is the answer.\n",
        "DifficultyFromQuestioner is the prescribed difficulty rating for the question as given to the question-writer.\n",
        "DifficultyFromAnswerer is a difficulty rating assigned by the individual who evaluated and answered the question, which may differ from the difficulty in field 4.\n",
        "ArticleFile is the name of the file with the relevant article\n",
        "\n",
        "Questions that were judged to be poor were discarded from this data set.\n",
        "There are frequently multiple lines with the same question, which appear if those questions were answered by multiple individuals. https://www.kaggle.com/rtatman/questionanswer-dataset"
      ]
    },
    {
      "cell_type": "code",
      "metadata": {
        "colab": {
          "base_uri": "https://localhost:8080/"
        },
        "id": "BmYZ0DG8GmKa",
        "outputId": "12f8a2fa-d3a1-42e9-e15e-19502c9d6252"
      },
      "source": [
        "!python -m pip uninstall -y spacy"
      ],
      "execution_count": 1,
      "outputs": [
        {
          "output_type": "stream",
          "text": [
            "Found existing installation: spacy 3.0.6\n",
            "Uninstalling spacy-3.0.6:\n",
            "  Successfully uninstalled spacy-3.0.6\n",
            "\u001b[33mWARNING: Running pip as root will break packages and permissions. You should install packages reliably by using venv: https://pip.pypa.io/warnings/venv\u001b[0m\n"
          ],
          "name": "stdout"
        }
      ]
    },
    {
      "cell_type": "code",
      "metadata": {
        "id": "W_9jjAKk8uum",
        "colab": {
          "base_uri": "https://localhost:8080/"
        },
        "outputId": "a712a056-c598-44a6-be9a-96975f8e97b0"
      },
      "source": [
        "!python -m pip install -U pip setuptools wheel\n",
        "!python -m pip install -U spacy[cuda102]\n",
        "!python -m pip install spacy-sentence-bert"
      ],
      "execution_count": 2,
      "outputs": [
        {
          "output_type": "stream",
          "text": [
            "Requirement already satisfied: pip in /usr/local/lib/python3.7/dist-packages (21.1.2)\n",
            "Requirement already satisfied: setuptools in /usr/local/lib/python3.7/dist-packages (57.0.0)\n",
            "Requirement already satisfied: wheel in /usr/local/lib/python3.7/dist-packages (0.36.2)\n",
            "\u001b[33mWARNING: Running pip as root will break packages and permissions. You should install packages reliably by using venv: https://pip.pypa.io/warnings/venv\u001b[0m\n",
            "Collecting spacy[cuda102]\n",
            "  Using cached spacy-3.0.6-cp37-cp37m-manylinux2014_x86_64.whl (12.8 MB)\n",
            "Requirement already satisfied: setuptools in /usr/local/lib/python3.7/dist-packages (from spacy[cuda102]) (57.0.0)\n",
            "Requirement already satisfied: requests<3.0.0,>=2.13.0 in /usr/local/lib/python3.7/dist-packages (from spacy[cuda102]) (2.23.0)\n",
            "Requirement already satisfied: packaging>=20.0 in /usr/local/lib/python3.7/dist-packages (from spacy[cuda102]) (20.9)\n",
            "Requirement already satisfied: typing-extensions<4.0.0.0,>=3.7.4 in /usr/local/lib/python3.7/dist-packages (from spacy[cuda102]) (3.7.4.3)\n",
            "Requirement already satisfied: pathy>=0.3.5 in /usr/local/lib/python3.7/dist-packages (from spacy[cuda102]) (0.5.2)\n",
            "Requirement already satisfied: spacy-legacy<3.1.0,>=3.0.4 in /usr/local/lib/python3.7/dist-packages (from spacy[cuda102]) (3.0.5)\n",
            "Requirement already satisfied: catalogue<2.1.0,>=2.0.3 in /usr/local/lib/python3.7/dist-packages (from spacy[cuda102]) (2.0.4)\n",
            "Requirement already satisfied: numpy>=1.15.0 in /usr/local/lib/python3.7/dist-packages (from spacy[cuda102]) (1.19.5)\n",
            "Requirement already satisfied: murmurhash<1.1.0,>=0.28.0 in /usr/local/lib/python3.7/dist-packages (from spacy[cuda102]) (1.0.5)\n",
            "Requirement already satisfied: preshed<3.1.0,>=3.0.2 in /usr/local/lib/python3.7/dist-packages (from spacy[cuda102]) (3.0.5)\n",
            "Requirement already satisfied: blis<0.8.0,>=0.4.0 in /usr/local/lib/python3.7/dist-packages (from spacy[cuda102]) (0.4.1)\n",
            "Requirement already satisfied: jinja2 in /usr/local/lib/python3.7/dist-packages (from spacy[cuda102]) (2.11.3)\n",
            "Requirement already satisfied: thinc<8.1.0,>=8.0.3 in /usr/local/lib/python3.7/dist-packages (from spacy[cuda102]) (8.0.3)\n",
            "Requirement already satisfied: srsly<3.0.0,>=2.4.1 in /usr/local/lib/python3.7/dist-packages (from spacy[cuda102]) (2.4.1)\n",
            "Requirement already satisfied: tqdm<5.0.0,>=4.38.0 in /usr/local/lib/python3.7/dist-packages (from spacy[cuda102]) (4.41.1)\n",
            "Requirement already satisfied: wasabi<1.1.0,>=0.8.1 in /usr/local/lib/python3.7/dist-packages (from spacy[cuda102]) (0.8.2)\n",
            "Requirement already satisfied: pydantic<1.8.0,>=1.7.1 in /usr/local/lib/python3.7/dist-packages (from spacy[cuda102]) (1.7.4)\n",
            "Requirement already satisfied: cymem<2.1.0,>=2.0.2 in /usr/local/lib/python3.7/dist-packages (from spacy[cuda102]) (2.0.5)\n",
            "Requirement already satisfied: typer<0.4.0,>=0.3.0 in /usr/local/lib/python3.7/dist-packages (from spacy[cuda102]) (0.3.2)\n",
            "Requirement already satisfied: cupy-cuda102<9.0.0,>=5.0.0b4 in /usr/local/lib/python3.7/dist-packages (from spacy[cuda102]) (8.6.0)\n",
            "Requirement already satisfied: zipp>=0.5 in /usr/local/lib/python3.7/dist-packages (from catalogue<2.1.0,>=2.0.3->spacy[cuda102]) (3.4.1)\n",
            "Requirement already satisfied: fastrlock>=0.3 in /usr/local/lib/python3.7/dist-packages (from cupy-cuda102<9.0.0,>=5.0.0b4->spacy[cuda102]) (0.6)\n",
            "Requirement already satisfied: pyparsing>=2.0.2 in /usr/local/lib/python3.7/dist-packages (from packaging>=20.0->spacy[cuda102]) (2.4.7)\n",
            "Requirement already satisfied: smart-open<4.0.0,>=2.2.0 in /usr/local/lib/python3.7/dist-packages (from pathy>=0.3.5->spacy[cuda102]) (3.0.0)\n",
            "Requirement already satisfied: urllib3!=1.25.0,!=1.25.1,<1.26,>=1.21.1 in /usr/local/lib/python3.7/dist-packages (from requests<3.0.0,>=2.13.0->spacy[cuda102]) (1.24.3)\n",
            "Requirement already satisfied: idna<3,>=2.5 in /usr/local/lib/python3.7/dist-packages (from requests<3.0.0,>=2.13.0->spacy[cuda102]) (2.10)\n",
            "Requirement already satisfied: certifi>=2017.4.17 in /usr/local/lib/python3.7/dist-packages (from requests<3.0.0,>=2.13.0->spacy[cuda102]) (2020.12.5)\n",
            "Requirement already satisfied: chardet<4,>=3.0.2 in /usr/local/lib/python3.7/dist-packages (from requests<3.0.0,>=2.13.0->spacy[cuda102]) (3.0.4)\n",
            "Requirement already satisfied: click<7.2.0,>=7.1.1 in /usr/local/lib/python3.7/dist-packages (from typer<0.4.0,>=0.3.0->spacy[cuda102]) (7.1.2)\n",
            "Requirement already satisfied: MarkupSafe>=0.23 in /usr/local/lib/python3.7/dist-packages (from jinja2->spacy[cuda102]) (2.0.1)\n",
            "Installing collected packages: spacy\n",
            "Successfully installed spacy-3.0.6\n",
            "\u001b[33mWARNING: Running pip as root will break packages and permissions. You should install packages reliably by using venv: https://pip.pypa.io/warnings/venv\u001b[0m\n",
            "Requirement already satisfied: spacy-sentence-bert in /usr/local/lib/python3.7/dist-packages (0.1.2)\n",
            "Requirement already satisfied: sentence-transformers in /usr/local/lib/python3.7/dist-packages (from spacy-sentence-bert) (1.2.0)\n",
            "Requirement already satisfied: protobuf in /usr/local/lib/python3.7/dist-packages (from spacy-sentence-bert) (3.12.4)\n",
            "Requirement already satisfied: spacy<4.0.0,>=3.0.0 in /usr/local/lib/python3.7/dist-packages (from spacy-sentence-bert) (3.0.6)\n",
            "Requirement already satisfied: requests<3.0.0,>=2.13.0 in /usr/local/lib/python3.7/dist-packages (from spacy<4.0.0,>=3.0.0->spacy-sentence-bert) (2.23.0)\n",
            "Requirement already satisfied: wasabi<1.1.0,>=0.8.1 in /usr/local/lib/python3.7/dist-packages (from spacy<4.0.0,>=3.0.0->spacy-sentence-bert) (0.8.2)\n",
            "Requirement already satisfied: preshed<3.1.0,>=3.0.2 in /usr/local/lib/python3.7/dist-packages (from spacy<4.0.0,>=3.0.0->spacy-sentence-bert) (3.0.5)\n",
            "Requirement already satisfied: pydantic<1.8.0,>=1.7.1 in /usr/local/lib/python3.7/dist-packages (from spacy<4.0.0,>=3.0.0->spacy-sentence-bert) (1.7.4)\n",
            "Requirement already satisfied: typing-extensions<4.0.0.0,>=3.7.4 in /usr/local/lib/python3.7/dist-packages (from spacy<4.0.0,>=3.0.0->spacy-sentence-bert) (3.7.4.3)\n",
            "Requirement already satisfied: pathy>=0.3.5 in /usr/local/lib/python3.7/dist-packages (from spacy<4.0.0,>=3.0.0->spacy-sentence-bert) (0.5.2)\n",
            "Requirement already satisfied: typer<0.4.0,>=0.3.0 in /usr/local/lib/python3.7/dist-packages (from spacy<4.0.0,>=3.0.0->spacy-sentence-bert) (0.3.2)\n",
            "Requirement already satisfied: setuptools in /usr/local/lib/python3.7/dist-packages (from spacy<4.0.0,>=3.0.0->spacy-sentence-bert) (57.0.0)\n",
            "Requirement already satisfied: blis<0.8.0,>=0.4.0 in /usr/local/lib/python3.7/dist-packages (from spacy<4.0.0,>=3.0.0->spacy-sentence-bert) (0.4.1)\n",
            "Requirement already satisfied: numpy>=1.15.0 in /usr/local/lib/python3.7/dist-packages (from spacy<4.0.0,>=3.0.0->spacy-sentence-bert) (1.19.5)\n",
            "Requirement already satisfied: spacy-legacy<3.1.0,>=3.0.4 in /usr/local/lib/python3.7/dist-packages (from spacy<4.0.0,>=3.0.0->spacy-sentence-bert) (3.0.5)\n",
            "Requirement already satisfied: catalogue<2.1.0,>=2.0.3 in /usr/local/lib/python3.7/dist-packages (from spacy<4.0.0,>=3.0.0->spacy-sentence-bert) (2.0.4)\n",
            "Requirement already satisfied: thinc<8.1.0,>=8.0.3 in /usr/local/lib/python3.7/dist-packages (from spacy<4.0.0,>=3.0.0->spacy-sentence-bert) (8.0.3)\n",
            "Requirement already satisfied: srsly<3.0.0,>=2.4.1 in /usr/local/lib/python3.7/dist-packages (from spacy<4.0.0,>=3.0.0->spacy-sentence-bert) (2.4.1)\n",
            "Requirement already satisfied: jinja2 in /usr/local/lib/python3.7/dist-packages (from spacy<4.0.0,>=3.0.0->spacy-sentence-bert) (2.11.3)\n",
            "Requirement already satisfied: cymem<2.1.0,>=2.0.2 in /usr/local/lib/python3.7/dist-packages (from spacy<4.0.0,>=3.0.0->spacy-sentence-bert) (2.0.5)\n",
            "Requirement already satisfied: murmurhash<1.1.0,>=0.28.0 in /usr/local/lib/python3.7/dist-packages (from spacy<4.0.0,>=3.0.0->spacy-sentence-bert) (1.0.5)\n",
            "Requirement already satisfied: tqdm<5.0.0,>=4.38.0 in /usr/local/lib/python3.7/dist-packages (from spacy<4.0.0,>=3.0.0->spacy-sentence-bert) (4.41.1)\n",
            "Requirement already satisfied: packaging>=20.0 in /usr/local/lib/python3.7/dist-packages (from spacy<4.0.0,>=3.0.0->spacy-sentence-bert) (20.9)\n",
            "Requirement already satisfied: zipp>=0.5 in /usr/local/lib/python3.7/dist-packages (from catalogue<2.1.0,>=2.0.3->spacy<4.0.0,>=3.0.0->spacy-sentence-bert) (3.4.1)\n",
            "Requirement already satisfied: pyparsing>=2.0.2 in /usr/local/lib/python3.7/dist-packages (from packaging>=20.0->spacy<4.0.0,>=3.0.0->spacy-sentence-bert) (2.4.7)\n",
            "Requirement already satisfied: smart-open<4.0.0,>=2.2.0 in /usr/local/lib/python3.7/dist-packages (from pathy>=0.3.5->spacy<4.0.0,>=3.0.0->spacy-sentence-bert) (3.0.0)\n",
            "Requirement already satisfied: certifi>=2017.4.17 in /usr/local/lib/python3.7/dist-packages (from requests<3.0.0,>=2.13.0->spacy<4.0.0,>=3.0.0->spacy-sentence-bert) (2020.12.5)\n",
            "Requirement already satisfied: idna<3,>=2.5 in /usr/local/lib/python3.7/dist-packages (from requests<3.0.0,>=2.13.0->spacy<4.0.0,>=3.0.0->spacy-sentence-bert) (2.10)\n",
            "Requirement already satisfied: chardet<4,>=3.0.2 in /usr/local/lib/python3.7/dist-packages (from requests<3.0.0,>=2.13.0->spacy<4.0.0,>=3.0.0->spacy-sentence-bert) (3.0.4)\n",
            "Requirement already satisfied: urllib3!=1.25.0,!=1.25.1,<1.26,>=1.21.1 in /usr/local/lib/python3.7/dist-packages (from requests<3.0.0,>=2.13.0->spacy<4.0.0,>=3.0.0->spacy-sentence-bert) (1.24.3)\n",
            "Requirement already satisfied: click<7.2.0,>=7.1.1 in /usr/local/lib/python3.7/dist-packages (from typer<0.4.0,>=0.3.0->spacy<4.0.0,>=3.0.0->spacy-sentence-bert) (7.1.2)\n",
            "Requirement already satisfied: MarkupSafe>=0.23 in /usr/local/lib/python3.7/dist-packages (from jinja2->spacy<4.0.0,>=3.0.0->spacy-sentence-bert) (2.0.1)\n",
            "Requirement already satisfied: six>=1.9 in /usr/local/lib/python3.7/dist-packages (from protobuf->spacy-sentence-bert) (1.15.0)\n",
            "Requirement already satisfied: torchvision in /usr/local/lib/python3.7/dist-packages (from sentence-transformers->spacy-sentence-bert) (0.9.1+cu101)\n",
            "Requirement already satisfied: sentencepiece in /usr/local/lib/python3.7/dist-packages (from sentence-transformers->spacy-sentence-bert) (0.1.95)\n",
            "Requirement already satisfied: scikit-learn in /usr/local/lib/python3.7/dist-packages (from sentence-transformers->spacy-sentence-bert) (0.22.2.post1)\n",
            "Requirement already satisfied: transformers<5.0.0,>=3.1.0 in /usr/local/lib/python3.7/dist-packages (from sentence-transformers->spacy-sentence-bert) (4.6.1)\n",
            "Requirement already satisfied: scipy in /usr/local/lib/python3.7/dist-packages (from sentence-transformers->spacy-sentence-bert) (1.4.1)\n",
            "Requirement already satisfied: torch>=1.6.0 in /usr/local/lib/python3.7/dist-packages (from sentence-transformers->spacy-sentence-bert) (1.8.1+cu101)\n",
            "Requirement already satisfied: nltk in /usr/local/lib/python3.7/dist-packages (from sentence-transformers->spacy-sentence-bert) (3.2.5)\n",
            "Requirement already satisfied: regex!=2019.12.17 in /usr/local/lib/python3.7/dist-packages (from transformers<5.0.0,>=3.1.0->sentence-transformers->spacy-sentence-bert) (2019.12.20)\n",
            "Requirement already satisfied: huggingface-hub==0.0.8 in /usr/local/lib/python3.7/dist-packages (from transformers<5.0.0,>=3.1.0->sentence-transformers->spacy-sentence-bert) (0.0.8)\n",
            "Requirement already satisfied: tokenizers<0.11,>=0.10.1 in /usr/local/lib/python3.7/dist-packages (from transformers<5.0.0,>=3.1.0->sentence-transformers->spacy-sentence-bert) (0.10.3)\n",
            "Requirement already satisfied: filelock in /usr/local/lib/python3.7/dist-packages (from transformers<5.0.0,>=3.1.0->sentence-transformers->spacy-sentence-bert) (3.0.12)\n",
            "Requirement already satisfied: importlib-metadata in /usr/local/lib/python3.7/dist-packages (from transformers<5.0.0,>=3.1.0->sentence-transformers->spacy-sentence-bert) (4.0.1)\n",
            "Requirement already satisfied: sacremoses in /usr/local/lib/python3.7/dist-packages (from transformers<5.0.0,>=3.1.0->sentence-transformers->spacy-sentence-bert) (0.0.45)\n",
            "Requirement already satisfied: joblib in /usr/local/lib/python3.7/dist-packages (from sacremoses->transformers<5.0.0,>=3.1.0->sentence-transformers->spacy-sentence-bert) (1.0.1)\n",
            "Requirement already satisfied: pillow>=4.1.1 in /usr/local/lib/python3.7/dist-packages (from torchvision->sentence-transformers->spacy-sentence-bert) (7.1.2)\n",
            "\u001b[33mWARNING: Running pip as root will break packages and permissions. You should install packages reliably by using venv: https://pip.pypa.io/warnings/venv\u001b[0m\n"
          ],
          "name": "stdout"
        }
      ]
    },
    {
      "cell_type": "code",
      "metadata": {
        "id": "oxKtBdysta4_"
      },
      "source": [
        "import pandas as pd\n",
        "import re\n",
        "import random\n",
        "import string"
      ],
      "execution_count": 3,
      "outputs": []
    },
    {
      "cell_type": "code",
      "metadata": {
        "colab": {
          "base_uri": "https://localhost:8080/"
        },
        "id": "ECj5Z-rmJjf_",
        "outputId": "0a891845-d61d-4ef2-9011-1ea88df12d4c"
      },
      "source": [
        "import spacy\n",
        "print(spacy.__version__)\n",
        "import spacy_sentence_bert"
      ],
      "execution_count": 4,
      "outputs": [
        {
          "output_type": "stream",
          "text": [
            "3.0.6\n"
          ],
          "name": "stdout"
        }
      ]
    },
    {
      "cell_type": "code",
      "metadata": {
        "id": "atj19K9cv2Zq"
      },
      "source": [
        "nlp = spacy_sentence_bert.load_model('en_stsb_roberta_large')"
      ],
      "execution_count": 5,
      "outputs": []
    },
    {
      "cell_type": "code",
      "metadata": {
        "colab": {
          "base_uri": "https://localhost:8080/"
        },
        "id": "Ipfc2SSrsJzy",
        "outputId": "1b865f63-3ee0-4030-8a84-3beef2a92844"
      },
      "source": [
        "from google.colab import drive\n",
        "drive.mount('/content/drive')\n",
        "\n",
        "import os\n",
        "workdir_path = '/content/drive/My Drive/desafio 3/'  # Inserir o local da pasta onde estão os arquivos de entrada (treino e teste)\n",
        "os.chdir(workdir_path)"
      ],
      "execution_count": 6,
      "outputs": [
        {
          "output_type": "stream",
          "text": [
            "Drive already mounted at /content/drive; to attempt to forcibly remount, call drive.mount(\"/content/drive\", force_remount=True).\n"
          ],
          "name": "stdout"
        }
      ]
    },
    {
      "cell_type": "markdown",
      "metadata": {
        "id": "GMPARX6a4p9a"
      },
      "source": [
        "#### Criar dataframes de QA Sxx_question_answer_pairs.txt"
      ]
    },
    {
      "cell_type": "code",
      "metadata": {
        "colab": {
          "base_uri": "https://localhost:8080/"
        },
        "id": "5c0hlpqFagq3",
        "outputId": "d6b911b8-3f2d-4a92-aa3b-c3a8c0c25b25"
      },
      "source": [
        "# Importar dados\n",
        "df_08 = pd.read_table('S08_question_answer_pairs.txt')\n",
        "df_09 = pd.read_table('S09_question_answer_pairs.txt')\n",
        "df_10 = pd.read_table('S10_question_answer_pairs.txt', engine = 'python', error_bad_lines = False)"
      ],
      "execution_count": 7,
      "outputs": [
        {
          "output_type": "stream",
          "text": [
            "Skipping line 765: '\t' expected after '\"'\n",
            "Skipping line 876: '\t' expected after '\"'\n",
            "Skipping line 1219: '\t' expected after '\"'\n"
          ],
          "name": "stderr"
        }
      ]
    },
    {
      "cell_type": "code",
      "metadata": {
        "id": "HJ03H85y12_4"
      },
      "source": [
        "# Retirar colunas que não serão utilizadas\n",
        "df_08.drop(['DifficultyFromQuestioner', 'DifficultyFromAnswerer', 'ArticleTitle'], axis = 1, inplace=True)\n",
        "df_09.drop(['DifficultyFromQuestioner', 'DifficultyFromAnswerer', 'ArticleTitle'], axis = 1, inplace=True)\n",
        "df_10.drop(['DifficultyFromQuestioner', 'DifficultyFromAnswerer', 'ArticleTitle'], axis = 1, inplace=True)"
      ],
      "execution_count": 8,
      "outputs": []
    },
    {
      "cell_type": "code",
      "metadata": {
        "colab": {
          "base_uri": "https://localhost:8080/"
        },
        "id": "BHIjq2P71N40",
        "outputId": "76dca0ad-6105-416b-bf7d-fd8e053f2f68"
      },
      "source": [
        "# Remover dados faltantes na base\n",
        "print('-' * 15, df_08.isna().sum(), sep='\\n')\n",
        "print('-' * 15, df_09.isna().sum(), sep='\\n')\n",
        "print('-' * 15, df_10.isna().sum(), sep='\\n')"
      ],
      "execution_count": 9,
      "outputs": [
        {
          "output_type": "stream",
          "text": [
            "---------------\n",
            "Question        19\n",
            "Answer         240\n",
            "ArticleFile      2\n",
            "dtype: int64\n",
            "---------------\n",
            "Question         0\n",
            "Answer         100\n",
            "ArticleFile      0\n",
            "dtype: int64\n",
            "---------------\n",
            "Question        18\n",
            "Answer         236\n",
            "ArticleFile      0\n",
            "dtype: int64\n"
          ],
          "name": "stdout"
        }
      ]
    },
    {
      "cell_type": "code",
      "metadata": {
        "colab": {
          "base_uri": "https://localhost:8080/"
        },
        "id": "mFfUvyiM1fcL",
        "outputId": "6939e251-c367-4cea-fe72-d7b23f93f54f"
      },
      "source": [
        "df_08.dropna(inplace=True)\n",
        "df_09.dropna(inplace=True)\n",
        "df_10.dropna(inplace=True)\n",
        "print('-' * 15, df_08.isna().sum(), sep='\\n')\n",
        "print('-' * 15, df_09.isna().sum(), sep='\\n')\n",
        "print('-' * 15, df_10.isna().sum(), sep='\\n')"
      ],
      "execution_count": 10,
      "outputs": [
        {
          "output_type": "stream",
          "text": [
            "---------------\n",
            "Question       0\n",
            "Answer         0\n",
            "ArticleFile    0\n",
            "dtype: int64\n",
            "---------------\n",
            "Question       0\n",
            "Answer         0\n",
            "ArticleFile    0\n",
            "dtype: int64\n",
            "---------------\n",
            "Question       0\n",
            "Answer         0\n",
            "ArticleFile    0\n",
            "dtype: int64\n"
          ],
          "name": "stdout"
        }
      ]
    },
    {
      "cell_type": "code",
      "metadata": {
        "colab": {
          "base_uri": "https://localhost:8080/"
        },
        "id": "ILFD5BjT4eCh",
        "outputId": "cb819c1e-1238-4f85-c8fe-86826fe4f152"
      },
      "source": [
        "print('-' * 15, df_08.shape, sep='\\n')\n",
        "print('-' * 15, df_09.shape, sep='\\n')\n",
        "print('-' * 15, df_10.shape, sep='\\n')"
      ],
      "execution_count": 11,
      "outputs": [
        {
          "output_type": "stream",
          "text": [
            "---------------\n",
            "(1473, 3)\n",
            "---------------\n",
            "(725, 3)\n",
            "---------------\n",
            "(1219, 3)\n"
          ],
          "name": "stdout"
        }
      ]
    },
    {
      "cell_type": "code",
      "metadata": {
        "id": "3-bVFfzmcFWJ"
      },
      "source": [
        "# Limpar coluna \"Answer\"\n",
        "def strip_last_punctuation(s):\n",
        "  if s and s[-1] in string.punctuation:\n",
        "    return s[:-1]\n",
        "  else:\n",
        "    return s\n",
        "\n",
        "\n",
        "df_08['answer_clean'] = df_08['Answer'].str.lower().map(strip_last_punctuation)\n",
        "df_09['answer_clean'] = df_09['Answer'].str.lower().map(strip_last_punctuation)\n",
        "df_10['answer_clean'] = df_10['Answer'].str.lower().map(strip_last_punctuation)"
      ],
      "execution_count": 12,
      "outputs": []
    },
    {
      "cell_type": "code",
      "metadata": {
        "colab": {
          "base_uri": "https://localhost:8080/"
        },
        "id": "P8T4yONEXC2G",
        "outputId": "1b99e180-1a1e-4361-9b09-57f767a02ac5"
      },
      "source": [
        "# Remover perguntas e respostas duplicadas\n",
        "df_08.drop_duplicates(subset=['answer_clean', 'Question'], keep='last', inplace = True)\n",
        "df_09.drop_duplicates(subset=['answer_clean', 'Question'], keep='last', inplace = True)\n",
        "df_10.drop_duplicates(subset=['answer_clean', 'Question'], keep='last', inplace = True)\n",
        "\n",
        "print('-' * 15, df_08.shape, sep='\\n')\n",
        "print('-' * 15, df_09.shape, sep='\\n')\n",
        "print('-' * 15, df_10.shape, sep='\\n')"
      ],
      "execution_count": 13,
      "outputs": [
        {
          "output_type": "stream",
          "text": [
            "---------------\n",
            "(1148, 4)\n",
            "---------------\n",
            "(593, 4)\n",
            "---------------\n",
            "(1046, 4)\n"
          ],
          "name": "stdout"
        }
      ]
    },
    {
      "cell_type": "markdown",
      "metadata": {
        "id": "KHNROcaKqTAf"
      },
      "source": [
        "### S08_question_answer_pairs.txt"
      ]
    },
    {
      "cell_type": "code",
      "metadata": {
        "id": "lQVGyEvaqSFM"
      },
      "source": [
        "# Criar objeto tipo spacy para cada pergunta\n",
        "df_08['question_doc'] = [nlp(text) for text in df_08.Question]"
      ],
      "execution_count": 14,
      "outputs": []
    },
    {
      "cell_type": "code",
      "metadata": {
        "id": "z8HOk7CekcIf"
      },
      "source": [
        "# Escolher randomicamente pergunta no dataset S08\n",
        "query_08 = random.choice(df_08.Question)\n",
        "doc_08 = nlp(query_08)"
      ],
      "execution_count": 15,
      "outputs": []
    },
    {
      "cell_type": "code",
      "metadata": {
        "colab": {
          "base_uri": "https://localhost:8080/"
        },
        "id": "ST3Pjwcjqqaa",
        "outputId": "f1e994da-2133-4159-b36f-f70926cfd087"
      },
      "source": [
        "# Encontrar a resposta\n",
        "for index, r in df_08.iterrows():\n",
        "  if r['question_doc'].similarity(doc_08) == 1:\n",
        "    print('Question: ', r.Question, '\\n', 'Answer: ', r.Answer )"
      ],
      "execution_count": 16,
      "outputs": [
        {
          "output_type": "stream",
          "text": [
            "Question:  Is Canada bilingual? \n",
            " Answer:  Yes.\n",
            "Question:  Is Canada bilingual? \n",
            " Answer:  Yes, it is.\n"
          ],
          "name": "stdout"
        }
      ]
    },
    {
      "cell_type": "markdown",
      "metadata": {
        "id": "3X-VoTLaroAN"
      },
      "source": [
        "### S09_question_answer_pairs.txt"
      ]
    },
    {
      "cell_type": "code",
      "metadata": {
        "id": "_o8BkpMyrojh"
      },
      "source": [
        "# Criar objeto tipo spacy para cada pergunta\n",
        "df_09['question_doc'] = [nlp(text) for text in df_09.Question]"
      ],
      "execution_count": 17,
      "outputs": []
    },
    {
      "cell_type": "code",
      "metadata": {
        "id": "6ddxms_Brtlu"
      },
      "source": [
        "query_09 = random.choice(df_09.Question)\n",
        "doc_09 = nlp(query_09)"
      ],
      "execution_count": 18,
      "outputs": []
    },
    {
      "cell_type": "code",
      "metadata": {
        "colab": {
          "base_uri": "https://localhost:8080/"
        },
        "id": "LomE2nj5LOR-",
        "outputId": "86b68bd5-d8ef-4852-b86e-f1f8ae4dc9dd"
      },
      "source": [
        "# Encontrar a resposta\n",
        "for index, r in df_09.iterrows():\n",
        "  if r['question_doc'].similarity(doc_09) == 1:\n",
        "    print('Question: ', r.Question, '\\n', 'Answer: ', r.Answer )"
      ],
      "execution_count": 19,
      "outputs": [
        {
          "output_type": "stream",
          "text": [
            "Question:  What happened to Copenhagen between 1251 and 1255? \n",
            " Answer:  a bunch of things\n"
          ],
          "name": "stdout"
        }
      ]
    },
    {
      "cell_type": "markdown",
      "metadata": {
        "id": "hFioLlpcsk7U"
      },
      "source": [
        "### S10_question_answer_pairs.txt"
      ]
    },
    {
      "cell_type": "code",
      "metadata": {
        "id": "AGKdNhoVsIJj"
      },
      "source": [
        "# Criar objeto tipo spacy para cada pergunta\n",
        "df_10['question_doc'] = [nlp(text) for text in df_10.Question]"
      ],
      "execution_count": 20,
      "outputs": []
    },
    {
      "cell_type": "code",
      "metadata": {
        "id": "cGWKI-CgsOjA"
      },
      "source": [
        "# Escolher randomicamente pergunta no dataset S10\n",
        "query_10 = random.choice(df_10.Question)\n",
        "doc_10 = nlp(query_10)"
      ],
      "execution_count": 21,
      "outputs": []
    },
    {
      "cell_type": "code",
      "metadata": {
        "colab": {
          "base_uri": "https://localhost:8080/"
        },
        "id": "EJAe8mJksTND",
        "outputId": "d0cd249b-484d-4814-89b9-9ac70cc4cb35"
      },
      "source": [
        "# Encontrar resposta\n",
        "for index, r in df_10.iterrows():\n",
        "  if r['question_doc'].similarity(doc_10) == 1:\n",
        "    print('Question: ', r.Question, '\\n', 'Answer: ', r.Answer )"
      ],
      "execution_count": 22,
      "outputs": [
        {
          "output_type": "stream",
          "text": [
            "Question:  Drums are usually played by what? \n",
            " Answer:  the hands, or by one or two sticks\n",
            "Question:  Drums are usually played by what? \n",
            " Answer:  the hands\n"
          ],
          "name": "stdout"
        }
      ]
    }
  ]
}