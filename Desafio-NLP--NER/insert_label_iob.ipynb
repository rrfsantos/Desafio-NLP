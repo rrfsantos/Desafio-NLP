{
  "nbformat": 4,
  "nbformat_minor": 0,
  "metadata": {
    "language_info": {
      "codemirror_mode": {
        "name": "ipython",
        "version": 3
      },
      "file_extension": ".py",
      "mimetype": "text/x-python",
      "name": "python",
      "nbconvert_exporter": "python",
      "pygments_lexer": "ipython3",
      "version": "3.8.3"
    },
    "orig_nbformat": 2,
    "kernelspec": {
      "name": "python383jvsc74a57bd0b3ba2566441a7c06988d0923437866b63cedc61552a5af99d1f4fb67d367b25f",
      "display_name": "Python 3.8.3 64-bit ('base': conda)"
    },
    "colab": {
      "name": "insert_label_iob.ipynb",
      "provenance": [],
      "include_colab_link": true
    }
  },
  "cells": [
    {
      "cell_type": "markdown",
      "metadata": {
        "id": "view-in-github",
        "colab_type": "text"
      },
      "source": [
        "<a href=\"https://colab.research.google.com/github/rrfsantos/Desafios-NLP/blob/main/Desafio-NLP--NER/insert_label_iob.ipynb\" target=\"_parent\"><img src=\"https://colab.research.google.com/assets/colab-badge.svg\" alt=\"Open In Colab\"/></a>"
      ]
    },
    {
      "cell_type": "code",
      "metadata": {
        "colab": {
          "base_uri": "https://localhost:8080/"
        },
        "id": "G0iZG4Dewq_G",
        "outputId": "2b2deffd-b553-479c-9794-c3a866b69bef"
      },
      "source": [
        "!pip uninstall -y spacy"
      ],
      "execution_count": 1,
      "outputs": [
        {
          "output_type": "stream",
          "text": [
            "Uninstalling spacy-2.2.4:\n",
            "  Successfully uninstalled spacy-2.2.4\n"
          ],
          "name": "stdout"
        }
      ]
    },
    {
      "cell_type": "code",
      "metadata": {
        "id": "6_1p-iVITiIY",
        "colab": {
          "base_uri": "https://localhost:8080/"
        },
        "outputId": "96ef2c7d-aec1-4339-ebab-ff874ac9ffe4"
      },
      "source": [
        "!pip install --user spacy==3.0.0"
      ],
      "execution_count": 2,
      "outputs": [
        {
          "output_type": "stream",
          "text": [
            "Collecting spacy==3.0.0\n",
            "\u001b[?25l  Downloading https://files.pythonhosted.org/packages/8b/62/a98c61912ea57344816dd4886ed71e34d8aeec55b79e5bed05a7c2a1ae52/spacy-3.0.0-cp37-cp37m-manylinux2014_x86_64.whl (12.7MB)\n",
            "\u001b[K     |████████████████████████████████| 12.7MB 320kB/s \n",
            "\u001b[?25hCollecting pydantic<1.8.0,>=1.7.1\n",
            "\u001b[?25l  Downloading https://files.pythonhosted.org/packages/b3/0a/52ae1c659fc08f13dd7c0ae07b88e4f807ad83fb9954a59b0b0a3d1a8ab6/pydantic-1.7.3-cp37-cp37m-manylinux2014_x86_64.whl (9.1MB)\n",
            "\u001b[K     |████████████████████████████████| 9.1MB 51.7MB/s \n",
            "\u001b[?25hCollecting spacy-legacy<3.1.0,>=3.0.0\n",
            "  Downloading https://files.pythonhosted.org/packages/78/d8/e25bc7f99877de34def57d36769f0cce4e895b374cdc766718efc724f9ac/spacy_legacy-3.0.2-py2.py3-none-any.whl\n",
            "Requirement already satisfied: cymem<2.1.0,>=2.0.2 in /usr/local/lib/python3.7/dist-packages (from spacy==3.0.0) (2.0.5)\n",
            "Requirement already satisfied: murmurhash<1.1.0,>=0.28.0 in /usr/local/lib/python3.7/dist-packages (from spacy==3.0.0) (1.0.5)\n",
            "Requirement already satisfied: numpy>=1.15.0 in /usr/local/lib/python3.7/dist-packages (from spacy==3.0.0) (1.19.5)\n",
            "Requirement already satisfied: blis<0.8.0,>=0.4.0 in /usr/local/lib/python3.7/dist-packages (from spacy==3.0.0) (0.4.1)\n",
            "Collecting pathy\n",
            "  Downloading https://files.pythonhosted.org/packages/a2/53/97dc0197cca9357369b3b71bf300896cf2d3604fa60ffaaf5cbc277de7de/pathy-0.4.0-py3-none-any.whl\n",
            "Requirement already satisfied: requests<3.0.0,>=2.13.0 in /usr/local/lib/python3.7/dist-packages (from spacy==3.0.0) (2.23.0)\n",
            "Requirement already satisfied: importlib-metadata>=0.20; python_version < \"3.8\" in /usr/local/lib/python3.7/dist-packages (from spacy==3.0.0) (3.8.1)\n",
            "Collecting catalogue<2.1.0,>=2.0.1\n",
            "  Downloading https://files.pythonhosted.org/packages/48/5c/493a2f3bb0eac17b1d48129ecfd251f0520b6c89493e9fd0522f534a9e4a/catalogue-2.0.1-py3-none-any.whl\n",
            "Requirement already satisfied: tqdm<5.0.0,>=4.38.0 in /usr/local/lib/python3.7/dist-packages (from spacy==3.0.0) (4.41.1)\n",
            "Requirement already satisfied: packaging>=20.0 in /usr/local/lib/python3.7/dist-packages (from spacy==3.0.0) (20.9)\n",
            "Requirement already satisfied: setuptools in /usr/local/lib/python3.7/dist-packages (from spacy==3.0.0) (54.2.0)\n",
            "Collecting srsly<3.0.0,>=2.4.0\n",
            "\u001b[?25l  Downloading https://files.pythonhosted.org/packages/19/54/76982427ceb495dd19ff982c966708c624b85e03c45bf1912feaf60c7b2d/srsly-2.4.0-cp37-cp37m-manylinux2014_x86_64.whl (456kB)\n",
            "\u001b[K     |████████████████████████████████| 460kB 36.0MB/s \n",
            "\u001b[?25hRequirement already satisfied: jinja2 in /usr/local/lib/python3.7/dist-packages (from spacy==3.0.0) (2.11.3)\n",
            "Requirement already satisfied: preshed<3.1.0,>=3.0.2 in /usr/local/lib/python3.7/dist-packages (from spacy==3.0.0) (3.0.5)\n",
            "Collecting thinc<8.1.0,>=8.0.0\n",
            "\u001b[?25l  Downloading https://files.pythonhosted.org/packages/e3/08/20e707519bcded1a0caa6fd024b767ac79e4e5d0fb92266bb7dcf735e338/thinc-8.0.2-cp37-cp37m-manylinux2014_x86_64.whl (1.1MB)\n",
            "\u001b[K     |████████████████████████████████| 1.1MB 47.2MB/s \n",
            "\u001b[?25hRequirement already satisfied: typing-extensions>=3.7.4; python_version < \"3.8\" in /usr/local/lib/python3.7/dist-packages (from spacy==3.0.0) (3.7.4.3)\n",
            "Collecting typer<0.4.0,>=0.3.0\n",
            "  Downloading https://files.pythonhosted.org/packages/90/34/d138832f6945432c638f32137e6c79a3b682f06a63c488dcfaca6b166c64/typer-0.3.2-py3-none-any.whl\n",
            "Requirement already satisfied: wasabi<1.1.0,>=0.8.1 in /usr/local/lib/python3.7/dist-packages (from spacy==3.0.0) (0.8.2)\n",
            "Collecting smart-open<4.0.0,>=2.2.0\n",
            "\u001b[?25l  Downloading https://files.pythonhosted.org/packages/11/9a/ba2d5f67f25e8d5bbf2fcec7a99b1e38428e83cb715f64dd179ca43a11bb/smart_open-3.0.0.tar.gz (113kB)\n",
            "\u001b[K     |████████████████████████████████| 122kB 51.0MB/s \n",
            "\u001b[?25hRequirement already satisfied: chardet<4,>=3.0.2 in /usr/local/lib/python3.7/dist-packages (from requests<3.0.0,>=2.13.0->spacy==3.0.0) (3.0.4)\n",
            "Requirement already satisfied: idna<3,>=2.5 in /usr/local/lib/python3.7/dist-packages (from requests<3.0.0,>=2.13.0->spacy==3.0.0) (2.10)\n",
            "Requirement already satisfied: urllib3!=1.25.0,!=1.25.1,<1.26,>=1.21.1 in /usr/local/lib/python3.7/dist-packages (from requests<3.0.0,>=2.13.0->spacy==3.0.0) (1.24.3)\n",
            "Requirement already satisfied: certifi>=2017.4.17 in /usr/local/lib/python3.7/dist-packages (from requests<3.0.0,>=2.13.0->spacy==3.0.0) (2020.12.5)\n",
            "Requirement already satisfied: zipp>=0.5 in /usr/local/lib/python3.7/dist-packages (from importlib-metadata>=0.20; python_version < \"3.8\"->spacy==3.0.0) (3.4.1)\n",
            "Requirement already satisfied: pyparsing>=2.0.2 in /usr/local/lib/python3.7/dist-packages (from packaging>=20.0->spacy==3.0.0) (2.4.7)\n",
            "Requirement already satisfied: MarkupSafe>=0.23 in /usr/local/lib/python3.7/dist-packages (from jinja2->spacy==3.0.0) (1.1.1)\n",
            "Requirement already satisfied: click<7.2.0,>=7.1.1 in /usr/local/lib/python3.7/dist-packages (from typer<0.4.0,>=0.3.0->spacy==3.0.0) (7.1.2)\n",
            "Building wheels for collected packages: smart-open\n",
            "  Building wheel for smart-open (setup.py) ... \u001b[?25l\u001b[?25hdone\n",
            "  Created wheel for smart-open: filename=smart_open-3.0.0-cp37-none-any.whl size=107098 sha256=69c2507d2c6d664483b67dbb4607017fb6efcf671614928fe4d35b9922efed0a\n",
            "  Stored in directory: /root/.cache/pip/wheels/18/88/7c/f06dabd5e9cabe02d2269167bcacbbf9b47d0c0ff7d6ebcb78\n",
            "Successfully built smart-open\n",
            "Installing collected packages: pydantic, spacy-legacy, smart-open, typer, pathy, catalogue, srsly, thinc, spacy\n",
            "\u001b[33m  WARNING: The script pathy is installed in '/root/.local/bin' which is not on PATH.\n",
            "  Consider adding this directory to PATH or, if you prefer to suppress this warning, use --no-warn-script-location.\u001b[0m\n",
            "\u001b[33m  WARNING: The script spacy is installed in '/root/.local/bin' which is not on PATH.\n",
            "  Consider adding this directory to PATH or, if you prefer to suppress this warning, use --no-warn-script-location.\u001b[0m\n",
            "Successfully installed catalogue-2.0.1 pathy-0.4.0 pydantic-1.7.3 smart-open-3.0.0 spacy-3.0.0 spacy-legacy-3.0.2 srsly-2.4.0 thinc-8.0.2 typer-0.3.2\n"
          ],
          "name": "stdout"
        }
      ]
    },
    {
      "cell_type": "code",
      "metadata": {
        "id": "I49YAvjo49Qs"
      },
      "source": [
        "import os\n",
        "os._exit(00)"
      ],
      "execution_count": null,
      "outputs": []
    },
    {
      "cell_type": "code",
      "metadata": {
        "id": "rJHBgCZSTiIb",
        "colab": {
          "base_uri": "https://localhost:8080/"
        },
        "outputId": "08a98ceb-3c3c-4aa8-9299-8863a32d245c"
      },
      "source": [
        "import pandas as pd\n",
        "import warnings\n",
        "import glob\n",
        "import csv\n",
        "\n",
        "import pkg_resources\n",
        "#pkg_resources.require(\"spacy==3.0.0\")\n",
        "import spacy\n",
        "\n",
        "warnings.filterwarnings(\"ignore\")\n",
        "print(spacy.__version__)"
      ],
      "execution_count": 1,
      "outputs": [
        {
          "output_type": "stream",
          "text": [
            "3.0.0\n"
          ],
          "name": "stdout"
        }
      ]
    },
    {
      "cell_type": "code",
      "metadata": {
        "colab": {
          "base_uri": "https://localhost:8080/"
        },
        "id": "nXsvY0fLTiIc",
        "outputId": "d8e31c89-5a69-42ac-f529-3b977a9de7ab"
      },
      "source": [
        "from google.colab import drive\n",
        "drive.mount('/content/drive')\n",
        "\n",
        "import os\n",
        "workdir_path = '/content/drive/My Drive/desafio 2/'\n",
        "os.chdir(workdir_path)"
      ],
      "execution_count": null,
      "outputs": [
        {
          "output_type": "stream",
          "text": [
            "Drive already mounted at /content/drive; to attempt to forcibly remount, call drive.mount(\"/content/drive\", force_remount=True).\n"
          ],
          "name": "stdout"
        }
      ]
    },
    {
      "cell_type": "markdown",
      "metadata": {
        "id": "fheoC1OOSqSY"
      },
      "source": [
        "## Concatenar os arquivos IOB e incluir o nome da classe à tag"
      ]
    },
    {
      "cell_type": "code",
      "metadata": {
        "id": "sYx9Di2-rgOU"
      },
      "source": [
        "dirs = ['s800','linnaeus','BC5CDRdisease','NCBIdisease','BC2GM','JNLPBA','BC4CHEMD','BC5CDRchem']"
      ],
      "execution_count": null,
      "outputs": []
    },
    {
      "cell_type": "markdown",
      "metadata": {
        "id": "SyZkeIlgcHvk"
      },
      "source": [
        "#### Arquivos de treino"
      ]
    },
    {
      "cell_type": "code",
      "metadata": {
        "id": "Qad8D8uaTiIe"
      },
      "source": [
        "df_iob_train = pd.DataFrame(columns=['token','tag'])\n",
        "for dir in dirs:\n",
        "    df = pd.read_csv('NERdata/' + dir + '/train.tsv', sep='\\t', header=None, names=['token','tag'],\n",
        "                         quoting=csv.QUOTE_NONE, error_bad_lines=False, skipinitialspace = True)\n",
        "    if (dir == 's800' or dir == 'linnaeus'):\n",
        "      df['tag'] = df['tag'].replace(['B','I'],['B-SPECIES','I-SPECIES'])\n",
        "    elif (dir == 'BC5CDRdisease' or dir == 'NCBIdisease'):\n",
        "      df['tag'] = df['tag'].replace(['B','I'],['B-DISEASE','I-DISEASE'])\n",
        "    elif (dir == 'BC2GM' or dir == 'JNLPBA'):\n",
        "      df['tag'] = df['tag'].replace(['B','I'],['B-DRUG_PROTEIN','I-DRUG_PROTEIN'])\n",
        "    else:\n",
        "      df['tag'] = df['tag'].replace(['B','I'],['B-CHEMICALS','I-CHEMICALS'])\n",
        "\n",
        "    df.dropna(inplace=True)\n",
        "\n",
        "    df_iob_train = df_iob_train.append(df)\n",
        "\n",
        "df_iob_train.to_csv('IOBdata/iob_train.iob', sep='\\t', index=False, header=False)  "
      ],
      "execution_count": null,
      "outputs": []
    },
    {
      "cell_type": "code",
      "metadata": {
        "colab": {
          "base_uri": "https://localhost:8080/"
        },
        "id": "yp4ihg90cc_c",
        "outputId": "64d285a5-fc75-47da-deb3-76bf172380da"
      },
      "source": [
        "df_iob_train.tag.value_counts(dropna=False)"
      ],
      "execution_count": null,
      "outputs": [
        {
          "output_type": "execute_result",
          "data": {
            "text/plain": [
              "O                 2258884\n",
              "I-DRUG_PROTEIN      86890\n",
              "B-DRUG_PROTEIN      47375\n",
              "I-CHEMICALS         37823\n",
              "B-CHEMICALS         34681\n",
              "B-DISEASE            9316\n",
              "I-DISEASE            9033\n",
              "B-SPECIES            4676\n",
              "I-SPECIES            4450\n",
              "Name: tag, dtype: int64"
            ]
          },
          "metadata": {
            "tags": []
          },
          "execution_count": 5
        }
      ]
    },
    {
      "cell_type": "markdown",
      "metadata": {
        "id": "H2k7UIn2-BLj"
      },
      "source": [
        "#### Arquivos de teste"
      ]
    },
    {
      "cell_type": "code",
      "metadata": {
        "id": "oDMVr8ti4Xjj"
      },
      "source": [
        "df_iob_test = pd.DataFrame(columns=['token','tag'])\n",
        "for dir in dirs:\n",
        "    df = pd.read_csv('NERdata/' + dir + '/test.tsv', sep='\\t', header=None, names=['token','tag'],\n",
        "                         quoting=csv.QUOTE_NONE, error_bad_lines=False, skipinitialspace = True)\n",
        "    if (dir == 's800' or dir == 'linnaeus'):\n",
        "      df['tag'] = df['tag'].replace(['B','I'],['B-SPECIES','I-SPECIES'])\n",
        "    elif (dir == 'BC5CDRdisease' or dir == 'NCBIdisease'):\n",
        "      df['tag'] = df['tag'].replace(['B','I'],['B-DISEASE','I-DISEASE'])\n",
        "    elif (dir == 'BC2GM' or dir == 'JNLPBA'):\n",
        "      df['tag'] = df['tag'].replace(['B','I'],['B-DRUG_PROTEIN','I-DRUG_PROTEIN'])\n",
        "    else:\n",
        "      df['tag'] = df['tag'].replace(['B','I'],['B-CHEMICALS','I-CHEMICALS'])\n",
        "\n",
        "    df.dropna(inplace=True)\n",
        "\n",
        "    df_iob_test = df_iob_test.append(df)\n",
        "\n",
        "df_iob_test.to_csv('IOBdata/iob_test.iob', sep='\\t', index=False, header=False)   "
      ],
      "execution_count": null,
      "outputs": []
    },
    {
      "cell_type": "code",
      "metadata": {
        "colab": {
          "base_uri": "https://localhost:8080/"
        },
        "id": "cQpn34nOcrjS",
        "outputId": "9140df01-d819-4465-dfb6-2bda303f62b1"
      },
      "source": [
        "df_iob_test.tag.value_counts(dropna=False)"
      ],
      "execution_count": null,
      "outputs": [
        {
          "output_type": "execute_result",
          "data": {
            "text/plain": [
              "O                 1397882\n",
              "I-CHEMICALS         31270\n",
              "B-CHEMICALS         30724\n",
              "I-DRUG_PROTEIN      21429\n",
              "B-DRUG_PROTEIN      12566\n",
              "B-DISEASE            5384\n",
              "I-DISEASE            3824\n",
              "B-SPECIES            2200\n",
              "I-SPECIES            1842\n",
              "Name: tag, dtype: int64"
            ]
          },
          "metadata": {
            "tags": []
          },
          "execution_count": 7
        }
      ]
    },
    {
      "cell_type": "markdown",
      "metadata": {
        "id": "1dZL57igqO44"
      },
      "source": [
        "#### Arquivos de Validação"
      ]
    },
    {
      "cell_type": "code",
      "metadata": {
        "id": "5YUD4XhKqV4G"
      },
      "source": [
        "df_iob_devel = pd.DataFrame(columns=['token','tag'])\n",
        "for dir in dirs:\n",
        "    df = pd.read_csv('NERdata/' + dir + '/devel.tsv', sep='\\t', header=None, names=['token','tag'],\n",
        "                         quoting=csv.QUOTE_NONE, error_bad_lines=False, skipinitialspace = True)\n",
        "    if (dir == 's800' or dir == 'linnaeus'):\n",
        "      df['tag'] = df['tag'].replace(['B','I'],['B-SPECIES','I-SPECIES'])\n",
        "    elif (dir == 'BC5CDRdisease' or dir == 'NCBIdisease'):\n",
        "      df['tag'] = df['tag'].replace(['B','I'],['B-DISEASE','I-DISEASE'])\n",
        "    elif (dir == 'BC2GM' or dir == 'JNLPBA'):\n",
        "      df['tag'] = df['tag'].replace(['B','I'],['B-DRUG_PROTEIN','I-DRUG_PROTEIN'])\n",
        "    else:\n",
        "      df['tag'] = df['tag'].replace(['B','I'],['B-CHEMICALS','I-CHEMICALS'])\n",
        "\n",
        "    df.dropna(inplace=True)\n",
        "\n",
        "    df_iob_devel = df_iob_devel.append(df)\n",
        "\n",
        "df_iob_devel.to_csv('IOBdata/iob_devel.iob', sep='\\t', index=False, header=False)  "
      ],
      "execution_count": null,
      "outputs": []
    },
    {
      "cell_type": "code",
      "metadata": {
        "colab": {
          "base_uri": "https://localhost:8080/"
        },
        "id": "dT8tpIgEcuuB",
        "outputId": "19656b2c-c5c5-4a1a-f621-dd01c9bf706a"
      },
      "source": [
        "df_iob_devel.tag.value_counts(dropna=False)"
      ],
      "execution_count": null,
      "outputs": [
        {
          "output_type": "execute_result",
          "data": {
            "text/plain": [
              "O                 1335891\n",
              "I-CHEMICALS         36611\n",
              "B-CHEMICALS         34833\n",
              "I-DRUG_PROTEIN      21210\n",
              "B-DRUG_PROTEIN      11636\n",
              "B-DISEASE            5033\n",
              "I-DISEASE            3813\n",
              "B-SPECIES            1095\n",
              "I-SPECIES             838\n",
              "Name: tag, dtype: int64"
            ]
          },
          "metadata": {
            "tags": []
          },
          "execution_count": 9
        }
      ]
    }
  ]
}