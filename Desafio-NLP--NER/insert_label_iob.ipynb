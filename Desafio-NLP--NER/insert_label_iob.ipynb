{
  "nbformat": 4,
  "nbformat_minor": 0,
  "metadata": {
    "language_info": {
      "codemirror_mode": {
        "name": "ipython",
        "version": 3
      },
      "file_extension": ".py",
      "mimetype": "text/x-python",
      "name": "python",
      "nbconvert_exporter": "python",
      "pygments_lexer": "ipython3",
      "version": "3.8.3"
    },
    "orig_nbformat": 2,
    "kernelspec": {
      "name": "python383jvsc74a57bd0b3ba2566441a7c06988d0923437866b63cedc61552a5af99d1f4fb67d367b25f",
      "display_name": "Python 3.8.3 64-bit ('base': conda)"
    },
    "colab": {
      "name": "insert_label_iob.ipynb",
      "provenance": [],
      "include_colab_link": true
    }
  },
  "cells": [
    {
      "cell_type": "markdown",
      "metadata": {
        "id": "view-in-github",
        "colab_type": "text"
      },
      "source": [
        "<a href=\"https://colab.research.google.com/github/rrfsantos/Desafios-NLP/blob/main/Desafio-NLP--NER/insert_label_iob.ipynb\" target=\"_parent\"><img src=\"https://colab.research.google.com/assets/colab-badge.svg\" alt=\"Open In Colab\"/></a>"
      ]
    },
    {
      "cell_type": "code",
      "metadata": {
        "id": "6_1p-iVITiIY",
        "colab": {
          "base_uri": "https://localhost:8080/"
        },
        "outputId": "f5ef3b10-db7b-48f1-c9aa-fec4459fa794"
      },
      "source": [
        "!pip install --user spacy==3.0.0"
      ],
      "execution_count": 9,
      "outputs": [
        {
          "output_type": "stream",
          "text": [
            "Requirement already satisfied: spacy==3.0.0 in /root/.local/lib/python3.7/site-packages (3.0.0)\n",
            "Requirement already satisfied: spacy-legacy<3.1.0,>=3.0.0 in /root/.local/lib/python3.7/site-packages (from spacy==3.0.0) (3.0.2)\n",
            "Requirement already satisfied: catalogue<2.1.0,>=2.0.1 in /root/.local/lib/python3.7/site-packages (from spacy==3.0.0) (2.0.1)\n",
            "Requirement already satisfied: setuptools in /usr/local/lib/python3.7/dist-packages (from spacy==3.0.0) (54.2.0)\n",
            "Requirement already satisfied: cymem<2.1.0,>=2.0.2 in /usr/local/lib/python3.7/dist-packages (from spacy==3.0.0) (2.0.5)\n",
            "Requirement already satisfied: numpy>=1.15.0 in /usr/local/lib/python3.7/dist-packages (from spacy==3.0.0) (1.19.5)\n",
            "Requirement already satisfied: typer<0.4.0,>=0.3.0 in /root/.local/lib/python3.7/site-packages (from spacy==3.0.0) (0.3.2)\n",
            "Requirement already satisfied: preshed<3.1.0,>=3.0.2 in /usr/local/lib/python3.7/dist-packages (from spacy==3.0.0) (3.0.5)\n",
            "Requirement already satisfied: srsly<3.0.0,>=2.4.0 in /root/.local/lib/python3.7/site-packages (from spacy==3.0.0) (2.4.0)\n",
            "Requirement already satisfied: tqdm<5.0.0,>=4.38.0 in /usr/local/lib/python3.7/dist-packages (from spacy==3.0.0) (4.41.1)\n",
            "Requirement already satisfied: typing-extensions>=3.7.4; python_version < \"3.8\" in /usr/local/lib/python3.7/dist-packages (from spacy==3.0.0) (3.7.4.3)\n",
            "Requirement already satisfied: thinc<8.1.0,>=8.0.0 in /root/.local/lib/python3.7/site-packages (from spacy==3.0.0) (8.0.2)\n",
            "Requirement already satisfied: requests<3.0.0,>=2.13.0 in /usr/local/lib/python3.7/dist-packages (from spacy==3.0.0) (2.23.0)\n",
            "Requirement already satisfied: wasabi<1.1.0,>=0.8.1 in /usr/local/lib/python3.7/dist-packages (from spacy==3.0.0) (0.8.2)\n",
            "Requirement already satisfied: murmurhash<1.1.0,>=0.28.0 in /usr/local/lib/python3.7/dist-packages (from spacy==3.0.0) (1.0.5)\n",
            "Requirement already satisfied: blis<0.8.0,>=0.4.0 in /usr/local/lib/python3.7/dist-packages (from spacy==3.0.0) (0.4.1)\n",
            "Requirement already satisfied: importlib-metadata>=0.20; python_version < \"3.8\" in /usr/local/lib/python3.7/dist-packages (from spacy==3.0.0) (3.8.1)\n",
            "Requirement already satisfied: pydantic<1.8.0,>=1.7.1 in /root/.local/lib/python3.7/site-packages (from spacy==3.0.0) (1.7.3)\n",
            "Requirement already satisfied: jinja2 in /usr/local/lib/python3.7/dist-packages (from spacy==3.0.0) (2.11.3)\n",
            "Requirement already satisfied: packaging>=20.0 in /usr/local/lib/python3.7/dist-packages (from spacy==3.0.0) (20.9)\n",
            "Requirement already satisfied: pathy in /root/.local/lib/python3.7/site-packages (from spacy==3.0.0) (0.4.0)\n",
            "Requirement already satisfied: click<7.2.0,>=7.1.1 in /usr/local/lib/python3.7/dist-packages (from typer<0.4.0,>=0.3.0->spacy==3.0.0) (7.1.2)\n",
            "Requirement already satisfied: urllib3!=1.25.0,!=1.25.1,<1.26,>=1.21.1 in /usr/local/lib/python3.7/dist-packages (from requests<3.0.0,>=2.13.0->spacy==3.0.0) (1.24.3)\n",
            "Requirement already satisfied: idna<3,>=2.5 in /usr/local/lib/python3.7/dist-packages (from requests<3.0.0,>=2.13.0->spacy==3.0.0) (2.10)\n",
            "Requirement already satisfied: certifi>=2017.4.17 in /usr/local/lib/python3.7/dist-packages (from requests<3.0.0,>=2.13.0->spacy==3.0.0) (2020.12.5)\n",
            "Requirement already satisfied: chardet<4,>=3.0.2 in /usr/local/lib/python3.7/dist-packages (from requests<3.0.0,>=2.13.0->spacy==3.0.0) (3.0.4)\n",
            "Requirement already satisfied: zipp>=0.5 in /usr/local/lib/python3.7/dist-packages (from importlib-metadata>=0.20; python_version < \"3.8\"->spacy==3.0.0) (3.4.1)\n",
            "Requirement already satisfied: MarkupSafe>=0.23 in /usr/local/lib/python3.7/dist-packages (from jinja2->spacy==3.0.0) (1.1.1)\n",
            "Requirement already satisfied: pyparsing>=2.0.2 in /usr/local/lib/python3.7/dist-packages (from packaging>=20.0->spacy==3.0.0) (2.4.7)\n",
            "Requirement already satisfied: smart-open<4.0.0,>=2.2.0 in /root/.local/lib/python3.7/site-packages (from pathy->spacy==3.0.0) (3.0.0)\n"
          ],
          "name": "stdout"
        }
      ]
    },
    {
      "cell_type": "code",
      "metadata": {
        "id": "rJHBgCZSTiIb",
        "colab": {
          "base_uri": "https://localhost:8080/"
        },
        "outputId": "a3021584-e2d4-4c12-eb9d-8919c5286448"
      },
      "source": [
        "import pandas as pd\n",
        "import warnings\n",
        "import glob\n",
        "import os\n",
        "import csv\n",
        "\n",
        "import pkg_resources\n",
        "#pkg_resources.require(\"spacy==3.0.0\")\n",
        "import spacy\n",
        "\n",
        "warnings.filterwarnings(\"ignore\")\n",
        "print(spacy.__version__)"
      ],
      "execution_count": 10,
      "outputs": [
        {
          "output_type": "stream",
          "text": [
            "3.0.0\n"
          ],
          "name": "stdout"
        }
      ]
    },
    {
      "cell_type": "code",
      "metadata": {
        "colab": {
          "base_uri": "https://localhost:8080/"
        },
        "id": "nXsvY0fLTiIc",
        "outputId": "98513ee8-be51-471c-96b4-b5a0722196d1"
      },
      "source": [
        "from google.colab import drive\n",
        "drive.mount('/content/drive')\n",
        "\n",
        "import os\n",
        "workdir_path = '/content/drive/My Drive/desafio 2/'\n",
        "os.chdir(workdir_path)"
      ],
      "execution_count": 11,
      "outputs": [
        {
          "output_type": "stream",
          "text": [
            "Drive already mounted at /content/drive; to attempt to forcibly remount, call drive.mount(\"/content/drive\", force_remount=True).\n"
          ],
          "name": "stdout"
        }
      ]
    },
    {
      "cell_type": "markdown",
      "metadata": {
        "id": "fheoC1OOSqSY"
      },
      "source": [
        "## Concatenar os arquivos IOB e incluir o nome da classe à tag"
      ]
    },
    {
      "cell_type": "code",
      "metadata": {
        "id": "sYx9Di2-rgOU"
      },
      "source": [
        "dirs = ['s800','linnaeus','BC5CDRdisease','NCBIdisease','BC2GM','JNLPBA','BC4CHEMD','BC5CDRchem']"
      ],
      "execution_count": 12,
      "outputs": []
    },
    {
      "cell_type": "markdown",
      "metadata": {
        "id": "SyZkeIlgcHvk"
      },
      "source": [
        "#### Aquivos de treino"
      ]
    },
    {
      "cell_type": "code",
      "metadata": {
        "id": "Qad8D8uaTiIe"
      },
      "source": [
        "df_iob_train = pd.DataFrame(columns=['token','tag'])\n",
        "for dir in dirs:\n",
        "    df = pd.read_csv('NERdata/' + dir + '/train.tsv', sep='\\t', header=None, names=['token','tag'],\n",
        "                         quoting=csv.QUOTE_NONE, error_bad_lines=False, skipinitialspace = True)\n",
        "    if (dir == 's800' or dir == 'linnaeus'):\n",
        "      df['tag'] = df['tag'].replace(['B','I'],['B-SPECIES','I-SPECIES'])\n",
        "    elif (dir == 'BC5CDRdisease' or dir == 'NCBIdisease'):\n",
        "      df['tag'] = df['tag'].replace(['B','I'],['B-DISEASE','I-DISEASE'])\n",
        "    elif (dir == 'BC2GM' or dir == 'JNLPBA'):\n",
        "      df['tag'] = df['tag'].replace(['B','I'],['B-DRUG_PROTEIN','I-DRUG_PROTEIN'])\n",
        "    else:\n",
        "      df['tag'] = df['tag'].replace(['B','I'],['B-CHEMICALS','I-CHEMICALS'])\n",
        "\n",
        "    df.dropna(inplace=True)\n",
        "\n",
        "    df_iob_train = df_iob_train.append(df)\n",
        "\n",
        "df_iob_train.to_csv('NERdata/iob_train.tsv', sep='\\t', index=False, header=False)  "
      ],
      "execution_count": 13,
      "outputs": []
    },
    {
      "cell_type": "code",
      "metadata": {
        "colab": {
          "base_uri": "https://localhost:8080/"
        },
        "id": "yp4ihg90cc_c",
        "outputId": "4825c75f-be0f-46a7-9859-8cce47624fb4"
      },
      "source": [
        "df_iob_train.tag.value_counts(dropna=False)"
      ],
      "execution_count": 14,
      "outputs": [
        {
          "output_type": "execute_result",
          "data": {
            "text/plain": [
              "O                 2258884\n",
              "I-DRUG_PROTEIN      86890\n",
              "B-DRUG_PROTEIN      47375\n",
              "I-CHEMICALS         37823\n",
              "B-CHEMICALS         34681\n",
              "B-DISEASE            9316\n",
              "I-DISEASE            9033\n",
              "B-SPECIES            4676\n",
              "I-SPECIES            4450\n",
              "Name: tag, dtype: int64"
            ]
          },
          "metadata": {
            "tags": []
          },
          "execution_count": 14
        }
      ]
    },
    {
      "cell_type": "markdown",
      "metadata": {
        "id": "H2k7UIn2-BLj"
      },
      "source": [
        "#### Aquivos de teste"
      ]
    },
    {
      "cell_type": "code",
      "metadata": {
        "id": "oDMVr8ti4Xjj"
      },
      "source": [
        "df_iob_test = pd.DataFrame(columns=['token','tag'])\n",
        "for dir in dirs:\n",
        "    df = pd.read_csv('NERdata/' + dir + '/test.tsv', sep='\\t', header=None, names=['token','tag'],\n",
        "                         quoting=csv.QUOTE_NONE, error_bad_lines=False, skipinitialspace = True)\n",
        "    if (dir == 's800' or dir == 'linnaeus'):\n",
        "      df['tag'] = df['tag'].replace(['B','I'],['B-SPECIES','I-SPECIES'])\n",
        "    elif (dir == 'BC5CDRdisease' or dir == 'NCBIdisease'):\n",
        "      df['tag'] = df['tag'].replace(['B','I'],['B-DISEASE','I-DISEASE'])\n",
        "    elif (dir == 'BC2GM' or dir == 'JNLPBA'):\n",
        "      df['tag'] = df['tag'].replace(['B','I'],['B-DRUG_PROTEIN','I-DRUG_PROTEIN'])\n",
        "    else:\n",
        "      df['tag'] = df['tag'].replace(['B','I'],['B-CHEMICALS','I-CHEMICALS'])\n",
        "\n",
        "    df.dropna(inplace=True)\n",
        "\n",
        "    df_iob_test = df_iob_test.append(df)\n",
        "\n",
        "df_iob_test.to_csv('NERdata/iob_test.tsv', sep='\\t', index=False, header=False)   "
      ],
      "execution_count": 15,
      "outputs": []
    },
    {
      "cell_type": "code",
      "metadata": {
        "colab": {
          "base_uri": "https://localhost:8080/"
        },
        "id": "cQpn34nOcrjS",
        "outputId": "4c3e8ee4-de20-4d08-df8e-74abd8e5dc57"
      },
      "source": [
        "df_iob_test.tag.value_counts(dropna=False)"
      ],
      "execution_count": 16,
      "outputs": [
        {
          "output_type": "execute_result",
          "data": {
            "text/plain": [
              "O                 1397882\n",
              "I-CHEMICALS         31270\n",
              "B-CHEMICALS         30724\n",
              "I-DRUG_PROTEIN      21429\n",
              "B-DRUG_PROTEIN      12566\n",
              "B-DISEASE            5384\n",
              "I-DISEASE            3824\n",
              "B-SPECIES            2200\n",
              "I-SPECIES            1842\n",
              "Name: tag, dtype: int64"
            ]
          },
          "metadata": {
            "tags": []
          },
          "execution_count": 16
        }
      ]
    },
    {
      "cell_type": "markdown",
      "metadata": {
        "id": "1dZL57igqO44"
      },
      "source": [
        "#### Arquivos de Validação"
      ]
    },
    {
      "cell_type": "code",
      "metadata": {
        "id": "5YUD4XhKqV4G"
      },
      "source": [
        "df_iob_devel = pd.DataFrame(columns=['token','tag'])\n",
        "for dir in dirs:\n",
        "    df = pd.read_csv('NERdata/' + dir + '/devel.tsv', sep='\\t', header=None, names=['token','tag'],\n",
        "                         quoting=csv.QUOTE_NONE, error_bad_lines=False, skipinitialspace = True)\n",
        "    if (dir == 's800' or dir == 'linnaeus'):\n",
        "      df['tag'] = df['tag'].replace(['B','I'],['B-SPECIES','I-SPECIES'])\n",
        "    elif (dir == 'BC5CDRdisease' or dir == 'NCBIdisease'):\n",
        "      df['tag'] = df['tag'].replace(['B','I'],['B-DISEASE','I-DISEASE'])\n",
        "    elif (dir == 'BC2GM' or dir == 'JNLPBA'):\n",
        "      df['tag'] = df['tag'].replace(['B','I'],['B-DRUG_PROTEIN','I-DRUG_PROTEIN'])\n",
        "    else:\n",
        "      df['tag'] = df['tag'].replace(['B','I'],['B-CHEMICALS','I-CHEMICALS'])\n",
        "\n",
        "    df.dropna(inplace=True)\n",
        "\n",
        "    df_iob_devel = df_iob_devel.append(df)\n",
        "\n",
        "df_iob_devel.to_csv('NERdata/iob_devel.tsv', sep='\\t', index=False, header=False)  "
      ],
      "execution_count": 17,
      "outputs": []
    },
    {
      "cell_type": "code",
      "metadata": {
        "colab": {
          "base_uri": "https://localhost:8080/"
        },
        "id": "dT8tpIgEcuuB",
        "outputId": "412aaf81-2344-43dc-89a6-c22cd1003ed6"
      },
      "source": [
        "df_iob_devel.tag.value_counts(dropna=False)"
      ],
      "execution_count": 18,
      "outputs": [
        {
          "output_type": "execute_result",
          "data": {
            "text/plain": [
              "O                 1335891\n",
              "I-CHEMICALS         36611\n",
              "B-CHEMICALS         34833\n",
              "I-DRUG_PROTEIN      21210\n",
              "B-DRUG_PROTEIN      11636\n",
              "B-DISEASE            5033\n",
              "I-DISEASE            3813\n",
              "B-SPECIES            1095\n",
              "I-SPECIES             838\n",
              "Name: tag, dtype: int64"
            ]
          },
          "metadata": {
            "tags": []
          },
          "execution_count": 18
        }
      ]
    }
  ]
}