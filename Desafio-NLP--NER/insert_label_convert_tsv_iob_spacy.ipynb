{
  "nbformat": 4,
  "nbformat_minor": 0,
  "metadata": {
    "colab": {
      "name": "insert_label_iob_convert_spacy_arquivos_separados.ipynb",
      "provenance": [],
      "collapsed_sections": [],
      "machine_shape": "hm",
      "include_colab_link": true
    },
    "kernelspec": {
      "display_name": "Python 3.8.3 64-bit ('base': conda)",
      "name": "python383jvsc74a57bd0b3ba2566441a7c06988d0923437866b63cedc61552a5af99d1f4fb67d367b25f"
    },
    "language_info": {
      "codemirror_mode": {
        "name": "ipython",
        "version": 3
      },
      "file_extension": ".py",
      "mimetype": "text/x-python",
      "name": "python",
      "nbconvert_exporter": "python",
      "pygments_lexer": "ipython3",
      "version": "3.8.3"
    },
    "accelerator": "GPU",
    "widgets": {
      "application/vnd.jupyter.widget-state+json": {
        "186e97dbdc4048dd838ee778874898ed": {
          "model_module": "@jupyter-widgets/controls",
          "model_name": "HBoxModel",
          "state": {
            "_view_name": "HBoxView",
            "_dom_classes": [],
            "_model_name": "HBoxModel",
            "_view_module": "@jupyter-widgets/controls",
            "_model_module_version": "1.5.0",
            "_view_count": null,
            "_view_module_version": "1.5.0",
            "box_style": "",
            "layout": "IPY_MODEL_fb4dcec0034749da8bd2596c55aa6870",
            "_model_module": "@jupyter-widgets/controls",
            "children": [
              "IPY_MODEL_7222c3bfd5934bf198d29f92b2642f9a",
              "IPY_MODEL_d726ea96ab194783a2b7cb3dfd54e262"
            ]
          }
        },
        "fb4dcec0034749da8bd2596c55aa6870": {
          "model_module": "@jupyter-widgets/base",
          "model_name": "LayoutModel",
          "state": {
            "_view_name": "LayoutView",
            "grid_template_rows": null,
            "right": null,
            "justify_content": null,
            "_view_module": "@jupyter-widgets/base",
            "overflow": null,
            "_model_module_version": "1.2.0",
            "_view_count": null,
            "flex_flow": null,
            "width": null,
            "min_width": null,
            "border": null,
            "align_items": null,
            "bottom": null,
            "_model_module": "@jupyter-widgets/base",
            "top": null,
            "grid_column": null,
            "overflow_y": null,
            "overflow_x": null,
            "grid_auto_flow": null,
            "grid_area": null,
            "grid_template_columns": null,
            "flex": null,
            "_model_name": "LayoutModel",
            "justify_items": null,
            "grid_row": null,
            "max_height": null,
            "align_content": null,
            "visibility": null,
            "align_self": null,
            "height": null,
            "min_height": null,
            "padding": null,
            "grid_auto_rows": null,
            "grid_gap": null,
            "max_width": null,
            "order": null,
            "_view_module_version": "1.2.0",
            "grid_template_areas": null,
            "object_position": null,
            "object_fit": null,
            "grid_auto_columns": null,
            "margin": null,
            "display": null,
            "left": null
          }
        },
        "7222c3bfd5934bf198d29f92b2642f9a": {
          "model_module": "@jupyter-widgets/controls",
          "model_name": "FloatProgressModel",
          "state": {
            "_view_name": "ProgressView",
            "style": "IPY_MODEL_cb605fad39614cf2b02b7b555a87b0d1",
            "_dom_classes": [],
            "description": "100%",
            "_model_name": "FloatProgressModel",
            "bar_style": "success",
            "max": 8,
            "_view_module": "@jupyter-widgets/controls",
            "_model_module_version": "1.5.0",
            "value": 8,
            "_view_count": null,
            "_view_module_version": "1.5.0",
            "orientation": "horizontal",
            "min": 0,
            "description_tooltip": null,
            "_model_module": "@jupyter-widgets/controls",
            "layout": "IPY_MODEL_80ae0e7615b641388ce91420d7436122"
          }
        },
        "d726ea96ab194783a2b7cb3dfd54e262": {
          "model_module": "@jupyter-widgets/controls",
          "model_name": "HTMLModel",
          "state": {
            "_view_name": "HTMLView",
            "style": "IPY_MODEL_78b6fd689bbe425eafa9935d01ec4389",
            "_dom_classes": [],
            "description": "",
            "_model_name": "HTMLModel",
            "placeholder": "​",
            "_view_module": "@jupyter-widgets/controls",
            "_model_module_version": "1.5.0",
            "value": " 8/8 [01:00&lt;00:00,  7.60s/it]",
            "_view_count": null,
            "_view_module_version": "1.5.0",
            "description_tooltip": null,
            "_model_module": "@jupyter-widgets/controls",
            "layout": "IPY_MODEL_78a0a11d6fd9499e8c067fbb0b198220"
          }
        },
        "cb605fad39614cf2b02b7b555a87b0d1": {
          "model_module": "@jupyter-widgets/controls",
          "model_name": "ProgressStyleModel",
          "state": {
            "_view_name": "StyleView",
            "_model_name": "ProgressStyleModel",
            "description_width": "initial",
            "_view_module": "@jupyter-widgets/base",
            "_model_module_version": "1.5.0",
            "_view_count": null,
            "_view_module_version": "1.2.0",
            "bar_color": null,
            "_model_module": "@jupyter-widgets/controls"
          }
        },
        "80ae0e7615b641388ce91420d7436122": {
          "model_module": "@jupyter-widgets/base",
          "model_name": "LayoutModel",
          "state": {
            "_view_name": "LayoutView",
            "grid_template_rows": null,
            "right": null,
            "justify_content": null,
            "_view_module": "@jupyter-widgets/base",
            "overflow": null,
            "_model_module_version": "1.2.0",
            "_view_count": null,
            "flex_flow": null,
            "width": null,
            "min_width": null,
            "border": null,
            "align_items": null,
            "bottom": null,
            "_model_module": "@jupyter-widgets/base",
            "top": null,
            "grid_column": null,
            "overflow_y": null,
            "overflow_x": null,
            "grid_auto_flow": null,
            "grid_area": null,
            "grid_template_columns": null,
            "flex": null,
            "_model_name": "LayoutModel",
            "justify_items": null,
            "grid_row": null,
            "max_height": null,
            "align_content": null,
            "visibility": null,
            "align_self": null,
            "height": null,
            "min_height": null,
            "padding": null,
            "grid_auto_rows": null,
            "grid_gap": null,
            "max_width": null,
            "order": null,
            "_view_module_version": "1.2.0",
            "grid_template_areas": null,
            "object_position": null,
            "object_fit": null,
            "grid_auto_columns": null,
            "margin": null,
            "display": null,
            "left": null
          }
        },
        "78b6fd689bbe425eafa9935d01ec4389": {
          "model_module": "@jupyter-widgets/controls",
          "model_name": "DescriptionStyleModel",
          "state": {
            "_view_name": "StyleView",
            "_model_name": "DescriptionStyleModel",
            "description_width": "",
            "_view_module": "@jupyter-widgets/base",
            "_model_module_version": "1.5.0",
            "_view_count": null,
            "_view_module_version": "1.2.0",
            "_model_module": "@jupyter-widgets/controls"
          }
        },
        "78a0a11d6fd9499e8c067fbb0b198220": {
          "model_module": "@jupyter-widgets/base",
          "model_name": "LayoutModel",
          "state": {
            "_view_name": "LayoutView",
            "grid_template_rows": null,
            "right": null,
            "justify_content": null,
            "_view_module": "@jupyter-widgets/base",
            "overflow": null,
            "_model_module_version": "1.2.0",
            "_view_count": null,
            "flex_flow": null,
            "width": null,
            "min_width": null,
            "border": null,
            "align_items": null,
            "bottom": null,
            "_model_module": "@jupyter-widgets/base",
            "top": null,
            "grid_column": null,
            "overflow_y": null,
            "overflow_x": null,
            "grid_auto_flow": null,
            "grid_area": null,
            "grid_template_columns": null,
            "flex": null,
            "_model_name": "LayoutModel",
            "justify_items": null,
            "grid_row": null,
            "max_height": null,
            "align_content": null,
            "visibility": null,
            "align_self": null,
            "height": null,
            "min_height": null,
            "padding": null,
            "grid_auto_rows": null,
            "grid_gap": null,
            "max_width": null,
            "order": null,
            "_view_module_version": "1.2.0",
            "grid_template_areas": null,
            "object_position": null,
            "object_fit": null,
            "grid_auto_columns": null,
            "margin": null,
            "display": null,
            "left": null
          }
        },
        "e221aede9ca649949bba2328e53546ea": {
          "model_module": "@jupyter-widgets/controls",
          "model_name": "HBoxModel",
          "state": {
            "_view_name": "HBoxView",
            "_dom_classes": [],
            "_model_name": "HBoxModel",
            "_view_module": "@jupyter-widgets/controls",
            "_model_module_version": "1.5.0",
            "_view_count": null,
            "_view_module_version": "1.5.0",
            "box_style": "",
            "layout": "IPY_MODEL_c94ef1ca0f5c4679bac0ce4895075065",
            "_model_module": "@jupyter-widgets/controls",
            "children": [
              "IPY_MODEL_356b1c84e2094425ab50f369632fc5d9",
              "IPY_MODEL_c678d6d2ff8e40a0a36febf4e73f5d34"
            ]
          }
        },
        "c94ef1ca0f5c4679bac0ce4895075065": {
          "model_module": "@jupyter-widgets/base",
          "model_name": "LayoutModel",
          "state": {
            "_view_name": "LayoutView",
            "grid_template_rows": null,
            "right": null,
            "justify_content": null,
            "_view_module": "@jupyter-widgets/base",
            "overflow": null,
            "_model_module_version": "1.2.0",
            "_view_count": null,
            "flex_flow": null,
            "width": null,
            "min_width": null,
            "border": null,
            "align_items": null,
            "bottom": null,
            "_model_module": "@jupyter-widgets/base",
            "top": null,
            "grid_column": null,
            "overflow_y": null,
            "overflow_x": null,
            "grid_auto_flow": null,
            "grid_area": null,
            "grid_template_columns": null,
            "flex": null,
            "_model_name": "LayoutModel",
            "justify_items": null,
            "grid_row": null,
            "max_height": null,
            "align_content": null,
            "visibility": null,
            "align_self": null,
            "height": null,
            "min_height": null,
            "padding": null,
            "grid_auto_rows": null,
            "grid_gap": null,
            "max_width": null,
            "order": null,
            "_view_module_version": "1.2.0",
            "grid_template_areas": null,
            "object_position": null,
            "object_fit": null,
            "grid_auto_columns": null,
            "margin": null,
            "display": null,
            "left": null
          }
        },
        "356b1c84e2094425ab50f369632fc5d9": {
          "model_module": "@jupyter-widgets/controls",
          "model_name": "FloatProgressModel",
          "state": {
            "_view_name": "ProgressView",
            "style": "IPY_MODEL_fa4f9e9753c94483932efe30a571a3dd",
            "_dom_classes": [],
            "description": "100%",
            "_model_name": "FloatProgressModel",
            "bar_style": "success",
            "max": 8,
            "_view_module": "@jupyter-widgets/controls",
            "_model_module_version": "1.5.0",
            "value": 8,
            "_view_count": null,
            "_view_module_version": "1.5.0",
            "orientation": "horizontal",
            "min": 0,
            "description_tooltip": null,
            "_model_module": "@jupyter-widgets/controls",
            "layout": "IPY_MODEL_3e921264bb694e8c8561e918cb585f73"
          }
        },
        "c678d6d2ff8e40a0a36febf4e73f5d34": {
          "model_module": "@jupyter-widgets/controls",
          "model_name": "HTMLModel",
          "state": {
            "_view_name": "HTMLView",
            "style": "IPY_MODEL_609ebe67bf4d4f1fbc7ad90fa6fce93d",
            "_dom_classes": [],
            "description": "",
            "_model_name": "HTMLModel",
            "placeholder": "​",
            "_view_module": "@jupyter-widgets/controls",
            "_model_module_version": "1.5.0",
            "value": " 8/8 [00:49&lt;00:00,  6.13s/it]",
            "_view_count": null,
            "_view_module_version": "1.5.0",
            "description_tooltip": null,
            "_model_module": "@jupyter-widgets/controls",
            "layout": "IPY_MODEL_25bc93b0cfd94c8988a5ff6d421dd3fa"
          }
        },
        "fa4f9e9753c94483932efe30a571a3dd": {
          "model_module": "@jupyter-widgets/controls",
          "model_name": "ProgressStyleModel",
          "state": {
            "_view_name": "StyleView",
            "_model_name": "ProgressStyleModel",
            "description_width": "initial",
            "_view_module": "@jupyter-widgets/base",
            "_model_module_version": "1.5.0",
            "_view_count": null,
            "_view_module_version": "1.2.0",
            "bar_color": null,
            "_model_module": "@jupyter-widgets/controls"
          }
        },
        "3e921264bb694e8c8561e918cb585f73": {
          "model_module": "@jupyter-widgets/base",
          "model_name": "LayoutModel",
          "state": {
            "_view_name": "LayoutView",
            "grid_template_rows": null,
            "right": null,
            "justify_content": null,
            "_view_module": "@jupyter-widgets/base",
            "overflow": null,
            "_model_module_version": "1.2.0",
            "_view_count": null,
            "flex_flow": null,
            "width": null,
            "min_width": null,
            "border": null,
            "align_items": null,
            "bottom": null,
            "_model_module": "@jupyter-widgets/base",
            "top": null,
            "grid_column": null,
            "overflow_y": null,
            "overflow_x": null,
            "grid_auto_flow": null,
            "grid_area": null,
            "grid_template_columns": null,
            "flex": null,
            "_model_name": "LayoutModel",
            "justify_items": null,
            "grid_row": null,
            "max_height": null,
            "align_content": null,
            "visibility": null,
            "align_self": null,
            "height": null,
            "min_height": null,
            "padding": null,
            "grid_auto_rows": null,
            "grid_gap": null,
            "max_width": null,
            "order": null,
            "_view_module_version": "1.2.0",
            "grid_template_areas": null,
            "object_position": null,
            "object_fit": null,
            "grid_auto_columns": null,
            "margin": null,
            "display": null,
            "left": null
          }
        },
        "609ebe67bf4d4f1fbc7ad90fa6fce93d": {
          "model_module": "@jupyter-widgets/controls",
          "model_name": "DescriptionStyleModel",
          "state": {
            "_view_name": "StyleView",
            "_model_name": "DescriptionStyleModel",
            "description_width": "",
            "_view_module": "@jupyter-widgets/base",
            "_model_module_version": "1.5.0",
            "_view_count": null,
            "_view_module_version": "1.2.0",
            "_model_module": "@jupyter-widgets/controls"
          }
        },
        "25bc93b0cfd94c8988a5ff6d421dd3fa": {
          "model_module": "@jupyter-widgets/base",
          "model_name": "LayoutModel",
          "state": {
            "_view_name": "LayoutView",
            "grid_template_rows": null,
            "right": null,
            "justify_content": null,
            "_view_module": "@jupyter-widgets/base",
            "overflow": null,
            "_model_module_version": "1.2.0",
            "_view_count": null,
            "flex_flow": null,
            "width": null,
            "min_width": null,
            "border": null,
            "align_items": null,
            "bottom": null,
            "_model_module": "@jupyter-widgets/base",
            "top": null,
            "grid_column": null,
            "overflow_y": null,
            "overflow_x": null,
            "grid_auto_flow": null,
            "grid_area": null,
            "grid_template_columns": null,
            "flex": null,
            "_model_name": "LayoutModel",
            "justify_items": null,
            "grid_row": null,
            "max_height": null,
            "align_content": null,
            "visibility": null,
            "align_self": null,
            "height": null,
            "min_height": null,
            "padding": null,
            "grid_auto_rows": null,
            "grid_gap": null,
            "max_width": null,
            "order": null,
            "_view_module_version": "1.2.0",
            "grid_template_areas": null,
            "object_position": null,
            "object_fit": null,
            "grid_auto_columns": null,
            "margin": null,
            "display": null,
            "left": null
          }
        },
        "7ba99691e82f49428f2a7ee2a07cc3fd": {
          "model_module": "@jupyter-widgets/controls",
          "model_name": "HBoxModel",
          "state": {
            "_view_name": "HBoxView",
            "_dom_classes": [],
            "_model_name": "HBoxModel",
            "_view_module": "@jupyter-widgets/controls",
            "_model_module_version": "1.5.0",
            "_view_count": null,
            "_view_module_version": "1.5.0",
            "box_style": "",
            "layout": "IPY_MODEL_6b2ddd8f17904994bd80354e1f3fe839",
            "_model_module": "@jupyter-widgets/controls",
            "children": [
              "IPY_MODEL_99479a2b8b2043538e2e515e54871004",
              "IPY_MODEL_8cfadfc81ca043f3af5437cf37018702"
            ]
          }
        },
        "6b2ddd8f17904994bd80354e1f3fe839": {
          "model_module": "@jupyter-widgets/base",
          "model_name": "LayoutModel",
          "state": {
            "_view_name": "LayoutView",
            "grid_template_rows": null,
            "right": null,
            "justify_content": null,
            "_view_module": "@jupyter-widgets/base",
            "overflow": null,
            "_model_module_version": "1.2.0",
            "_view_count": null,
            "flex_flow": null,
            "width": null,
            "min_width": null,
            "border": null,
            "align_items": null,
            "bottom": null,
            "_model_module": "@jupyter-widgets/base",
            "top": null,
            "grid_column": null,
            "overflow_y": null,
            "overflow_x": null,
            "grid_auto_flow": null,
            "grid_area": null,
            "grid_template_columns": null,
            "flex": null,
            "_model_name": "LayoutModel",
            "justify_items": null,
            "grid_row": null,
            "max_height": null,
            "align_content": null,
            "visibility": null,
            "align_self": null,
            "height": null,
            "min_height": null,
            "padding": null,
            "grid_auto_rows": null,
            "grid_gap": null,
            "max_width": null,
            "order": null,
            "_view_module_version": "1.2.0",
            "grid_template_areas": null,
            "object_position": null,
            "object_fit": null,
            "grid_auto_columns": null,
            "margin": null,
            "display": null,
            "left": null
          }
        },
        "99479a2b8b2043538e2e515e54871004": {
          "model_module": "@jupyter-widgets/controls",
          "model_name": "FloatProgressModel",
          "state": {
            "_view_name": "ProgressView",
            "style": "IPY_MODEL_6a478cf76db44c43b555bebba3c8055a",
            "_dom_classes": [],
            "description": "100%",
            "_model_name": "FloatProgressModel",
            "bar_style": "success",
            "max": 8,
            "_view_module": "@jupyter-widgets/controls",
            "_model_module_version": "1.5.0",
            "value": 8,
            "_view_count": null,
            "_view_module_version": "1.5.0",
            "orientation": "horizontal",
            "min": 0,
            "description_tooltip": null,
            "_model_module": "@jupyter-widgets/controls",
            "layout": "IPY_MODEL_c8d6328cdaaf4ca0ae0e83e48b8279b3"
          }
        },
        "8cfadfc81ca043f3af5437cf37018702": {
          "model_module": "@jupyter-widgets/controls",
          "model_name": "HTMLModel",
          "state": {
            "_view_name": "HTMLView",
            "style": "IPY_MODEL_c8c425e063774a70aa9be1d584d5f94c",
            "_dom_classes": [],
            "description": "",
            "_model_name": "HTMLModel",
            "placeholder": "​",
            "_view_module": "@jupyter-widgets/controls",
            "_model_module_version": "1.5.0",
            "value": " 8/8 [00:47&lt;00:00,  5.92s/it]",
            "_view_count": null,
            "_view_module_version": "1.5.0",
            "description_tooltip": null,
            "_model_module": "@jupyter-widgets/controls",
            "layout": "IPY_MODEL_cccb4c77045548caba4ffb64f47ff970"
          }
        },
        "6a478cf76db44c43b555bebba3c8055a": {
          "model_module": "@jupyter-widgets/controls",
          "model_name": "ProgressStyleModel",
          "state": {
            "_view_name": "StyleView",
            "_model_name": "ProgressStyleModel",
            "description_width": "initial",
            "_view_module": "@jupyter-widgets/base",
            "_model_module_version": "1.5.0",
            "_view_count": null,
            "_view_module_version": "1.2.0",
            "bar_color": null,
            "_model_module": "@jupyter-widgets/controls"
          }
        },
        "c8d6328cdaaf4ca0ae0e83e48b8279b3": {
          "model_module": "@jupyter-widgets/base",
          "model_name": "LayoutModel",
          "state": {
            "_view_name": "LayoutView",
            "grid_template_rows": null,
            "right": null,
            "justify_content": null,
            "_view_module": "@jupyter-widgets/base",
            "overflow": null,
            "_model_module_version": "1.2.0",
            "_view_count": null,
            "flex_flow": null,
            "width": null,
            "min_width": null,
            "border": null,
            "align_items": null,
            "bottom": null,
            "_model_module": "@jupyter-widgets/base",
            "top": null,
            "grid_column": null,
            "overflow_y": null,
            "overflow_x": null,
            "grid_auto_flow": null,
            "grid_area": null,
            "grid_template_columns": null,
            "flex": null,
            "_model_name": "LayoutModel",
            "justify_items": null,
            "grid_row": null,
            "max_height": null,
            "align_content": null,
            "visibility": null,
            "align_self": null,
            "height": null,
            "min_height": null,
            "padding": null,
            "grid_auto_rows": null,
            "grid_gap": null,
            "max_width": null,
            "order": null,
            "_view_module_version": "1.2.0",
            "grid_template_areas": null,
            "object_position": null,
            "object_fit": null,
            "grid_auto_columns": null,
            "margin": null,
            "display": null,
            "left": null
          }
        },
        "c8c425e063774a70aa9be1d584d5f94c": {
          "model_module": "@jupyter-widgets/controls",
          "model_name": "DescriptionStyleModel",
          "state": {
            "_view_name": "StyleView",
            "_model_name": "DescriptionStyleModel",
            "description_width": "",
            "_view_module": "@jupyter-widgets/base",
            "_model_module_version": "1.5.0",
            "_view_count": null,
            "_view_module_version": "1.2.0",
            "_model_module": "@jupyter-widgets/controls"
          }
        },
        "cccb4c77045548caba4ffb64f47ff970": {
          "model_module": "@jupyter-widgets/base",
          "model_name": "LayoutModel",
          "state": {
            "_view_name": "LayoutView",
            "grid_template_rows": null,
            "right": null,
            "justify_content": null,
            "_view_module": "@jupyter-widgets/base",
            "overflow": null,
            "_model_module_version": "1.2.0",
            "_view_count": null,
            "flex_flow": null,
            "width": null,
            "min_width": null,
            "border": null,
            "align_items": null,
            "bottom": null,
            "_model_module": "@jupyter-widgets/base",
            "top": null,
            "grid_column": null,
            "overflow_y": null,
            "overflow_x": null,
            "grid_auto_flow": null,
            "grid_area": null,
            "grid_template_columns": null,
            "flex": null,
            "_model_name": "LayoutModel",
            "justify_items": null,
            "grid_row": null,
            "max_height": null,
            "align_content": null,
            "visibility": null,
            "align_self": null,
            "height": null,
            "min_height": null,
            "padding": null,
            "grid_auto_rows": null,
            "grid_gap": null,
            "max_width": null,
            "order": null,
            "_view_module_version": "1.2.0",
            "grid_template_areas": null,
            "object_position": null,
            "object_fit": null,
            "grid_auto_columns": null,
            "margin": null,
            "display": null,
            "left": null
          }
        }
      }
    }
  },
  "cells": [
    {
      "cell_type": "markdown",
      "metadata": {
        "id": "view-in-github",
        "colab_type": "text"
      },
      "source": [
        "<a href=\"https://colab.research.google.com/github/rrfsantos/Desafios-NLP/blob/main/Desafio-NLP--NER/insert_label_convert_tsv_iob_spacy.ipynb\" target=\"_parent\"><img src=\"https://colab.research.google.com/assets/colab-badge.svg\" alt=\"Open In Colab\"/></a>"
      ]
    },
    {
      "cell_type": "code",
      "metadata": {
        "id": "6_1p-iVITiIY"
      },
      "source": [
        "!python -m pip uninstall -y spacy\n",
        "!python -m pip install pip setuptools wheel\n",
        "!python -m pip install spacy[transformers,lookups]\n",
        "!python -m spacy download en_core_web_sm  ### o colab não suportou executar a conversão com en_core_web_md e en_core_web_lg"
      ],
      "execution_count": null,
      "outputs": []
    },
    {
      "cell_type": "code",
      "metadata": {
        "id": "rJHBgCZSTiIb"
      },
      "source": [
        "import pandas as pd\n",
        "import warnings\n",
        "import csv\n",
        "import spacy\n",
        "from os import system\n",
        "from tqdm import tqdm_notebook\n",
        "\n",
        "warnings.filterwarnings(\"ignore\")"
      ],
      "execution_count": null,
      "outputs": []
    },
    {
      "cell_type": "code",
      "metadata": {
        "id": "4rD2uXZDJV2S",
        "colab": {
          "base_uri": "https://localhost:8080/"
        },
        "outputId": "48500c02-7c74-47ac-846c-e8332fdf89f3"
      },
      "source": [
        "!python -m spacy info"
      ],
      "execution_count": null,
      "outputs": [
        {
          "output_type": "stream",
          "text": [
            "2021-04-27 23:51:09.691353: I tensorflow/stream_executor/platform/default/dso_loader.cc:49] Successfully opened dynamic library libcudart.so.11.0\n",
            "\u001b[1m\n",
            "============================== Info about spaCy ==============================\u001b[0m\n",
            "\n",
            "spaCy version    3.0.6                         \n",
            "Location         /usr/local/lib/python3.7/dist-packages/spacy\n",
            "Platform         Linux-4.19.112+-x86_64-with-Ubuntu-18.04-bionic\n",
            "Python version   3.7.10                        \n",
            "Pipelines        en_core_web_sm (3.0.0)        \n",
            "\n"
          ],
          "name": "stdout"
        }
      ]
    },
    {
      "cell_type": "code",
      "metadata": {
        "id": "0nEs3PC4KxEP",
        "colab": {
          "base_uri": "https://localhost:8080/"
        },
        "outputId": "a3ea9c99-7625-4a4d-b12f-d7c153a021b1"
      },
      "source": [
        "from google.colab import drive\n",
        "drive.mount('/content/drive')\n",
        "\n",
        "import os\n",
        "workdir_path = '/content/drive/My Drive/desafio 2/'\n",
        "os.chdir(workdir_path)"
      ],
      "execution_count": null,
      "outputs": [
        {
          "output_type": "stream",
          "text": [
            "Mounted at /content/drive\n"
          ],
          "name": "stdout"
        }
      ]
    },
    {
      "cell_type": "code",
      "metadata": {
        "id": "sYx9Di2-rgOU"
      },
      "source": [
        "dirs = ['BC4CHEMD','BC5CDR-chem','s800','linnaeus','BC5CDR-disease','NCBI-disease','BC2GM','JNLPBA']"
      ],
      "execution_count": null,
      "outputs": []
    },
    {
      "cell_type": "markdown",
      "metadata": {
        "id": "SyZkeIlgcHvk"
      },
      "source": [
        "### Arquivos de treino"
      ]
    },
    {
      "cell_type": "markdown",
      "metadata": {
        "id": "02cyco9mLkh2"
      },
      "source": [
        "##### Ler arquivos IOB e incluir o nome da classe à tag"
      ]
    },
    {
      "cell_type": "code",
      "metadata": {
        "id": "Qad8D8uaTiIe"
      },
      "source": [
        "for dir in dirs:\n",
        "    df = pd.read_csv('NERdata/' + dir + '/train.tsv', sep='\\t', header=None, names=['token','tag'],\n",
        "                         quoting=csv.QUOTE_NONE, error_bad_lines=False, skipinitialspace = True)\n",
        "       \n",
        "    if (dir == 's800' or dir == 'linnaeus'):\n",
        "      df['tag'] = df['tag'].replace(['B','I'],['B-SPECIES','I-SPECIES'])\n",
        "    elif (dir == 'BC5CDR-disease' or dir == 'NCBI-disease'):\n",
        "      df['tag'] = df['tag'].replace(['B','I'],['B-DISEASE','I-DISEASE'])\n",
        "    elif (dir == 'BC2GM' or dir == 'JNLPBA'):\n",
        "      df['tag'] = df['tag'].replace(['B','I'],['B-DRUG_PROTEIN','I-DRUG_PROTEIN'])\n",
        "    else:\n",
        "      df['tag'] = df['tag'].replace(['B','I'],['B-CHEMICALS','I-CHEMICALS'])\n",
        "  \n",
        "    df.dropna(inplace=True)\n",
        "\n",
        "    df.to_csv('IOBdata/iob_train_' + dir + '.iob', sep='\\t', index=False, header=False)"
      ],
      "execution_count": null,
      "outputs": []
    },
    {
      "cell_type": "markdown",
      "metadata": {
        "id": "9qa4QVe7Luq2"
      },
      "source": [
        "##### Converter arquivos em formato IOB para o formato binário .spacy"
      ]
    },
    {
      "cell_type": "code",
      "metadata": {
        "id": "LojJppGiLfXR",
        "colab": {
          "base_uri": "https://localhost:8080/",
          "height": 202,
          "referenced_widgets": [
            "186e97dbdc4048dd838ee778874898ed",
            "fb4dcec0034749da8bd2596c55aa6870",
            "7222c3bfd5934bf198d29f92b2642f9a",
            "d726ea96ab194783a2b7cb3dfd54e262",
            "cb605fad39614cf2b02b7b555a87b0d1",
            "80ae0e7615b641388ce91420d7436122",
            "78b6fd689bbe425eafa9935d01ec4389",
            "78a0a11d6fd9499e8c067fbb0b198220"
          ]
        },
        "outputId": "1fc1b4e8-ad6d-4d99-90b0-0312cdeedf87"
      },
      "source": [
        "for dir in tqdm_notebook(dirs, total=len(dirs)):  \n",
        "  \n",
        "  iob_file = 'IOBdata/iob_train_' + dir + '.iob'\n",
        "  \n",
        "  print(iob_file)\n",
        "\n",
        "  folder_path = 'SPACYdata/train'\n",
        "      \n",
        "  system(f'python -m spacy convert -c ner -s -n 10 {iob_file} {folder_path}')"
      ],
      "execution_count": null,
      "outputs": [
        {
          "output_type": "display_data",
          "data": {
            "application/vnd.jupyter.widget-view+json": {
              "model_id": "186e97dbdc4048dd838ee778874898ed",
              "version_minor": 0,
              "version_major": 2
            },
            "text/plain": [
              "HBox(children=(FloatProgress(value=0.0, max=8.0), HTML(value='')))"
            ]
          },
          "metadata": {
            "tags": []
          }
        },
        {
          "output_type": "stream",
          "text": [
            "IOBdata/iob_train_BC4CHEMD.iob\n",
            "IOBdata/iob_train_BC5CDR-chem.iob\n",
            "IOBdata/iob_train_s800.iob\n",
            "IOBdata/iob_train_linnaeus.iob\n",
            "IOBdata/iob_train_BC5CDR-disease.iob\n",
            "IOBdata/iob_train_NCBI-disease.iob\n",
            "IOBdata/iob_train_BC2GM.iob\n",
            "IOBdata/iob_train_JNLPBA.iob\n",
            "\n"
          ],
          "name": "stdout"
        }
      ]
    },
    {
      "cell_type": "markdown",
      "metadata": {
        "id": "BuTm4aHkiLfJ"
      },
      "source": [
        "### Arquivos de Teste"
      ]
    },
    {
      "cell_type": "markdown",
      "metadata": {
        "id": "azwLcyQpNmqU"
      },
      "source": [
        "##### Ler arquivos IOB e incluir o nome da classe à tag"
      ]
    },
    {
      "cell_type": "code",
      "metadata": {
        "id": "oDMVr8ti4Xjj"
      },
      "source": [
        "for dir in dirs:\n",
        "    df = pd.read_csv('NERdata/' + dir + '/test.tsv', sep='\\t', header=None, names=['token','tag'],\n",
        "                         quoting=csv.QUOTE_NONE, error_bad_lines=False, skipinitialspace = True)\n",
        "     \n",
        "\n",
        "    if (dir == 's800' or dir == 'linnaeus'):\n",
        "      df['tag'] = df['tag'].replace(['B','I'],['B-SPECIES','I-SPECIES'])\n",
        "    elif (dir == 'BC5CDR-disease' or dir == 'NCBI-disease'):\n",
        "      df['tag'] = df['tag'].replace(['B','I'],['B-DISEASE','I-DISEASE'])\n",
        "    elif (dir == 'BC2GM' or dir == 'JNLPBA'):\n",
        "      df['tag'] = df['tag'].replace(['B','I'],['B-DRUG_PROTEIN','I-DRUG_PROTEIN'])\n",
        "    else:\n",
        "      df['tag'] = df['tag'].replace(['B','I'],['B-CHEMICALS','I-CHEMICALS'])\n",
        "\n",
        "    df.dropna(inplace=True)\n",
        "\n",
        "    df.to_csv('IOBdata/iob_test_' + dir + '.iob', sep='\\t', index=False, header=False)  "
      ],
      "execution_count": null,
      "outputs": []
    },
    {
      "cell_type": "markdown",
      "metadata": {
        "id": "5CltR1zuNsl2"
      },
      "source": [
        "##### Converter arquivos em formato IOB para o formato binário .spacy"
      ]
    },
    {
      "cell_type": "code",
      "metadata": {
        "id": "QGRh8mQsNar2",
        "colab": {
          "base_uri": "https://localhost:8080/",
          "height": 202,
          "referenced_widgets": [
            "e221aede9ca649949bba2328e53546ea",
            "c94ef1ca0f5c4679bac0ce4895075065",
            "356b1c84e2094425ab50f369632fc5d9",
            "c678d6d2ff8e40a0a36febf4e73f5d34",
            "fa4f9e9753c94483932efe30a571a3dd",
            "3e921264bb694e8c8561e918cb585f73",
            "609ebe67bf4d4f1fbc7ad90fa6fce93d",
            "25bc93b0cfd94c8988a5ff6d421dd3fa"
          ]
        },
        "outputId": "f9f93aaa-8542-4283-86e3-e29a16ba6d79"
      },
      "source": [
        "for dir in tqdm_notebook(dirs, total=len(dirs)):\n",
        "\n",
        "  iob_file = 'IOBdata/iob_test_' + dir + '.iob'\n",
        "\n",
        "  print(iob_file)\n",
        "\n",
        "  folder_path = 'SPACYdata/test'\n",
        "      \n",
        "  system(f'python -m spacy convert -c ner -s -n 10 {iob_file} {folder_path}')"
      ],
      "execution_count": null,
      "outputs": [
        {
          "output_type": "display_data",
          "data": {
            "application/vnd.jupyter.widget-view+json": {
              "model_id": "e221aede9ca649949bba2328e53546ea",
              "version_minor": 0,
              "version_major": 2
            },
            "text/plain": [
              "HBox(children=(FloatProgress(value=0.0, max=8.0), HTML(value='')))"
            ]
          },
          "metadata": {
            "tags": []
          }
        },
        {
          "output_type": "stream",
          "text": [
            "IOBdata/iob_test_BC4CHEMD.iob\n",
            "IOBdata/iob_test_BC5CDR-chem.iob\n",
            "IOBdata/iob_test_s800.iob\n",
            "IOBdata/iob_test_linnaeus.iob\n",
            "IOBdata/iob_test_BC5CDR-disease.iob\n",
            "IOBdata/iob_test_NCBI-disease.iob\n",
            "IOBdata/iob_test_BC2GM.iob\n",
            "IOBdata/iob_test_JNLPBA.iob\n",
            "\n"
          ],
          "name": "stdout"
        }
      ]
    },
    {
      "cell_type": "markdown",
      "metadata": {
        "id": "diaf35tosjxz"
      },
      "source": [
        "### Arquivos de Validação"
      ]
    },
    {
      "cell_type": "markdown",
      "metadata": {
        "id": "Wq5yW5MvsNpw"
      },
      "source": [
        "##### Ler arquivos IOB e incluir o nome da classe à tag"
      ]
    },
    {
      "cell_type": "code",
      "metadata": {
        "id": "P_dn3mJHsOQi"
      },
      "source": [
        "for dir in dirs:\n",
        "    df = pd.read_csv('NERdata/' + dir + '/devel.tsv', sep='\\t', header=None, names=['token','tag'],\n",
        "                         quoting=csv.QUOTE_NONE, error_bad_lines=False, skipinitialspace = True)\n",
        "     \n",
        "\n",
        "    if (dir == 's800' or dir == 'linnaeus'):\n",
        "      df['tag'] = df['tag'].replace(['B','I'],['B-SPECIES','I-SPECIES'])\n",
        "    elif (dir == 'BC5CDR-disease' or dir == 'NCBI-disease'):\n",
        "      df['tag'] = df['tag'].replace(['B','I'],['B-DISEASE','I-DISEASE'])\n",
        "    elif (dir == 'BC2GM' or dir == 'JNLPBA'):\n",
        "      df['tag'] = df['tag'].replace(['B','I'],['B-DRUG_PROTEIN','I-DRUG_PROTEIN'])\n",
        "    else:\n",
        "      df['tag'] = df['tag'].replace(['B','I'],['B-CHEMICALS','I-CHEMICALS'])\n",
        "\n",
        "    df.dropna(inplace=True)\n",
        "\n",
        "    df.to_csv('IOBdata/iob_devel_' + dir + '.iob', sep='\\t', index=False, header=False)  "
      ],
      "execution_count": null,
      "outputs": []
    },
    {
      "cell_type": "markdown",
      "metadata": {
        "id": "Nq65DtC4sR4_"
      },
      "source": [
        "##### Converter arquivos em formato IOB para o formato binário .spacy"
      ]
    },
    {
      "cell_type": "code",
      "metadata": {
        "colab": {
          "base_uri": "https://localhost:8080/",
          "height": 202,
          "referenced_widgets": [
            "7ba99691e82f49428f2a7ee2a07cc3fd",
            "6b2ddd8f17904994bd80354e1f3fe839",
            "99479a2b8b2043538e2e515e54871004",
            "8cfadfc81ca043f3af5437cf37018702",
            "6a478cf76db44c43b555bebba3c8055a",
            "c8d6328cdaaf4ca0ae0e83e48b8279b3",
            "c8c425e063774a70aa9be1d584d5f94c",
            "cccb4c77045548caba4ffb64f47ff970"
          ]
        },
        "id": "MD3vhiMMsSL8",
        "outputId": "cf5b409a-e314-4ed0-c45a-1324ec5f7394"
      },
      "source": [
        "for dir in tqdm_notebook(dirs, total=len(dirs)):\n",
        "\n",
        "  iob_file = 'IOBdata/iob_devel_' + dir + '.iob'\n",
        "\n",
        "  print(iob_file)\n",
        "\n",
        "  folder_path = 'SPACYdata/devel'\n",
        "      \n",
        "  system(f'python -m spacy convert -c ner -s -n 10 {iob_file} {folder_path}')"
      ],
      "execution_count": null,
      "outputs": [
        {
          "output_type": "display_data",
          "data": {
            "application/vnd.jupyter.widget-view+json": {
              "model_id": "7ba99691e82f49428f2a7ee2a07cc3fd",
              "version_minor": 0,
              "version_major": 2
            },
            "text/plain": [
              "HBox(children=(FloatProgress(value=0.0, max=8.0), HTML(value='')))"
            ]
          },
          "metadata": {
            "tags": []
          }
        },
        {
          "output_type": "stream",
          "text": [
            "IOBdata/iob_devel_BC4CHEMD.iob\n",
            "IOBdata/iob_devel_BC5CDR-chem.iob\n",
            "IOBdata/iob_devel_s800.iob\n",
            "IOBdata/iob_devel_linnaeus.iob\n",
            "IOBdata/iob_devel_BC5CDR-disease.iob\n",
            "IOBdata/iob_devel_NCBI-disease.iob\n",
            "IOBdata/iob_devel_BC2GM.iob\n",
            "IOBdata/iob_devel_JNLPBA.iob\n",
            "\n"
          ],
          "name": "stdout"
        }
      ]
    }
  ]
}