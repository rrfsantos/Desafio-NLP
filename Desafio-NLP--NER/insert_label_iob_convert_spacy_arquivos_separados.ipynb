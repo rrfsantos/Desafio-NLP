{
  "nbformat": 4,
  "nbformat_minor": 0,
  "metadata": {
    "language_info": {
      "codemirror_mode": {
        "name": "ipython",
        "version": 3
      },
      "file_extension": ".py",
      "mimetype": "text/x-python",
      "name": "python",
      "nbconvert_exporter": "python",
      "pygments_lexer": "ipython3",
      "version": "3.8.3"
    },
    "orig_nbformat": 2,
    "kernelspec": {
      "name": "python383jvsc74a57bd0b3ba2566441a7c06988d0923437866b63cedc61552a5af99d1f4fb67d367b25f",
      "display_name": "Python 3.8.3 64-bit ('base': conda)"
    },
    "colab": {
      "name": "insert_label_iob_convert_spacy_arquivos_separados.ipynb",
      "provenance": [],
      "include_colab_link": true
    }
  },
  "cells": [
    {
      "cell_type": "markdown",
      "metadata": {
        "id": "view-in-github",
        "colab_type": "text"
      },
      "source": [
        "<a href=\"https://colab.research.google.com/github/rrfsantos/Desafios-NLP/blob/main/Desafio-NLP--NER/insert_label_iob_convert_spacy_arquivos_separados.ipynb\" target=\"_parent\"><img src=\"https://colab.research.google.com/assets/colab-badge.svg\" alt=\"Open In Colab\"/></a>"
      ]
    },
    {
      "cell_type": "code",
      "metadata": {
        "id": "6_1p-iVITiIY"
      },
      "source": [
        "#!pip install --user spacy==3.0.0"
      ],
      "execution_count": null,
      "outputs": []
    },
    {
      "cell_type": "code",
      "metadata": {
        "id": "rJHBgCZSTiIb"
      },
      "source": [
        "import pandas as pd\n",
        "import warnings\n",
        "import glob\n",
        "import csv\n",
        "\n",
        "import spacy\n",
        "\n",
        "warnings.filterwarnings(\"ignore\")\n",
        "print(spacy.__version__)"
      ],
      "execution_count": null,
      "outputs": []
    },
    {
      "cell_type": "markdown",
      "metadata": {
        "id": "fheoC1OOSqSY"
      },
      "source": [
        "## Ler arquivos IOB e incluir o nome da classe à tag"
      ]
    },
    {
      "cell_type": "code",
      "metadata": {
        "id": "sYx9Di2-rgOU"
      },
      "source": [
        "dirs = ['s800','linnaeus','BC5CDR-disease','NCBI-disease','BC2GM','JNLPBA','BC4CHEMD','BC5CDR-chem']"
      ],
      "execution_count": null,
      "outputs": []
    },
    {
      "cell_type": "markdown",
      "metadata": {
        "id": "SyZkeIlgcHvk"
      },
      "source": [
        "### Arquivos de treino"
      ]
    },
    {
      "cell_type": "code",
      "metadata": {
        "id": "Qad8D8uaTiIe"
      },
      "source": [
        "for dir in dirs:\n",
        "    df = pd.read_csv('NERdata/' + dir + '/train.tsv', sep='\\t', header=None, names=['token','tag'],\n",
        "                         quoting=csv.QUOTE_NONE, error_bad_lines=False, skipinitialspace = True)\n",
        "    if (dir == 's800' or dir == 'linnaeus'):\n",
        "      df['tag'] = df['tag'].replace(['B','I'],['B-SPECIES','I-SPECIES'])\n",
        "    elif (dir == 'BC5CDR-disease' or dir == 'NCBI-disease'):\n",
        "      df['tag'] = df['tag'].replace(['B','I'],['B-DISEASE','I-DISEASE'])\n",
        "    elif (dir == 'BC2GM' or dir == 'JNLPBA'):\n",
        "      df['tag'] = df['tag'].replace(['B','I'],['B-DRUG_PROTEIN','I-DRUG_PROTEIN'])\n",
        "    else:\n",
        "      df['tag'] = df['tag'].replace(['B','I'],['B-CHEMICALS','I-CHEMICALS'])\n",
        "\n",
        "    df.dropna(inplace=True)\n",
        "\n",
        "    df.to_csv('IOBdata/iob_train_' + dir + '.iob', sep='\\t', index=False, header=False)  "
      ],
      "execution_count": null,
      "outputs": []
    },
    {
      "cell_type": "markdown",
      "metadata": {
        "id": "M9bexxofIOP5"
      },
      "source": [
        "### Arquivos de Teste"
      ]
    },
    {
      "cell_type": "code",
      "metadata": {
        "id": "oDMVr8ti4Xjj"
      },
      "source": [
        "for dir in dirs:\n",
        "    df = pd.read_csv('NERdata/' + dir + '/test.tsv', sep='\\t', header=None, names=['token','tag'],\n",
        "                         quoting=csv.QUOTE_NONE, error_bad_lines=False, skipinitialspace = True)\n",
        "    if (dir == 's800' or dir == 'linnaeus'):\n",
        "      df['tag'] = df['tag'].replace(['B','I'],['B-SPECIES','I-SPECIES'])\n",
        "    elif (dir == 'BC5CDR-disease' or dir == 'NCBI-disease'):\n",
        "      df['tag'] = df['tag'].replace(['B','I'],['B-DISEASE','I-DISEASE'])\n",
        "    elif (dir == 'BC2GM' or dir == 'JNLPBA'):\n",
        "      df['tag'] = df['tag'].replace(['B','I'],['B-DRUG_PROTEIN','I-DRUG_PROTEIN'])\n",
        "    else:\n",
        "      df['tag'] = df['tag'].replace(['B','I'],['B-CHEMICALS','I-CHEMICALS'])\n",
        "\n",
        "    df.dropna(inplace=True)\n",
        "\n",
        "    df.to_csv('IOBdata/iob_test_' + dir + '.iob', sep='\\t', index=False, header=False)  "
      ],
      "execution_count": null,
      "outputs": []
    },
    {
      "cell_type": "markdown",
      "metadata": {
        "id": "WVNaCJ_BIOP7"
      },
      "source": [
        "### Arquivos de Validação"
      ]
    },
    {
      "cell_type": "code",
      "metadata": {
        "id": "5YUD4XhKqV4G"
      },
      "source": [
        "for dir in dirs:\n",
        "    df = pd.read_csv('NERdata/' + dir + '/devel.tsv', sep='\\t', header=None, names=['token','tag'],\n",
        "                         quoting=csv.QUOTE_NONE, error_bad_lines=False, skipinitialspace = True)\n",
        "    if (dir == 's800' or dir == 'linnaeus'):\n",
        "      df['tag'] = df['tag'].replace(['B','I'],['B-SPECIES','I-SPECIES'])\n",
        "    elif (dir == 'BC5CDR-disease' or dir == 'NCBI-disease'):\n",
        "      df['tag'] = df['tag'].replace(['B','I'],['B-DISEASE','I-DISEASE'])\n",
        "    elif (dir == 'BC2GM' or dir == 'JNLPBA'):\n",
        "      df['tag'] = df['tag'].replace(['B','I'],['B-DRUG_PROTEIN','I-DRUG_PROTEIN'])\n",
        "    else:\n",
        "      df['tag'] = df['tag'].replace(['B','I'],['B-CHEMICALS','I-CHEMICALS'])\n",
        "\n",
        "    df.dropna(inplace=True)\n",
        "\n",
        "    df.to_csv('IOBdata/iob_devel_' + dir + '.iob', sep='\\t', index=False, header=False)  "
      ],
      "execution_count": null,
      "outputs": []
    },
    {
      "cell_type": "markdown",
      "metadata": {
        "id": "ghwfpwKMIOP9"
      },
      "source": [
        "## Converter arquivos em formato IOB para o formato binário .spacy"
      ]
    },
    {
      "cell_type": "markdown",
      "metadata": {
        "id": "O3kg71jMIOP-"
      },
      "source": [
        "### Arquivos de Treino"
      ]
    },
    {
      "cell_type": "code",
      "metadata": {
        "id": "rssPRsByIOP-",
        "outputId": "2f45ff61-11cf-4008-8ff5-b2364f0823ce"
      },
      "source": [
        "!python -m spacy convert -c iob -s -n 10 IOBdata/iob_train_s800.iob ./SPACYdata"
      ],
      "execution_count": null,
      "outputs": [
        {
          "output_type": "stream",
          "text": [
            "ℹ Auto-detected token-per-line NER format2021-04-10 16:14:08.215209: W tensorflow/stream_executor/platform/default/dso_loader.cc:55] Could not load dynamic library 'cudart64_101.dll'; dlerror: cudart64_101.dll not found\n",
            "2021-04-10 16:14:08.215508: I tensorflow/stream_executor/cuda/cudart_stub.cc:29] Ignore above cudart dlerror if you do not have a GPU set up on your machine.\n",
            "\n",
            "ℹ Grouping every 10 sentences into a document.\n",
            "ℹ Segmenting sentences with sentencizer. (Use `-b model` for improved\n",
            "parser-based sentence segmentation.)\n",
            "✔ Generated output file (685 documents): SPACYdata\\iob_train_s800.spacy\n"
          ],
          "name": "stdout"
        }
      ]
    },
    {
      "cell_type": "code",
      "metadata": {
        "id": "N44jzqfxIOQA",
        "outputId": "d068d09f-8844-45bd-b43c-f60d3353fec6"
      },
      "source": [
        "!python -m spacy convert -c iob -s -n 10 IOBdata/iob_train_linnaeus.iob ./SPACYdata"
      ],
      "execution_count": null,
      "outputs": [
        {
          "output_type": "stream",
          "text": [
            "ℹ Auto-detected token-per-line NER format2021-04-10 16:30:10.000363: W tensorflow/stream_executor/platform/default/dso_loader.cc:55] Could not load dynamic library 'cudart64_101.dll'; dlerror: cudart64_101.dll not found\n",
            "2021-04-10 16:30:10.000748: I tensorflow/stream_executor/cuda/cudart_stub.cc:29] Ignore above cudart dlerror if you do not have a GPU set up on your machine.\n",
            "\n",
            "ℹ Grouping every 10 sentences into a document.\n",
            "ℹ Segmenting sentences with sentencizer. (Use `-b model` for improved\n",
            "parser-based sentence segmentation.)\n",
            "✔ Generated output file (1335 documents): SPACYdata\\iob_train_linnaeus.spacy\n"
          ],
          "name": "stdout"
        }
      ]
    },
    {
      "cell_type": "code",
      "metadata": {
        "id": "Qm3wFflAIOQB",
        "outputId": "ba72de07-3cf3-48f6-ed1c-c63bdacc3864"
      },
      "source": [
        "!python -m spacy convert -c iob -s -n 10 IOBdata/iob_train_BC5CDR-disease.iob ./SPACYdata"
      ],
      "execution_count": null,
      "outputs": [
        {
          "output_type": "stream",
          "text": [
            "ℹ Auto-detected token-per-line NER format2021-04-11 03:50:28.766192: W tensorflow/stream_executor/platform/default/dso_loader.cc:55] Could not load dynamic library 'cudart64_101.dll'; dlerror: cudart64_101.dll not found\n",
            "2021-04-11 03:50:28.766501: I tensorflow/stream_executor/cuda/cudart_stub.cc:29] Ignore above cudart dlerror if you do not have a GPU set up on your machine.\n",
            "\n",
            "ℹ Grouping every 10 sentences into a document.\n",
            "ℹ Segmenting sentences with sentencizer. (Use `-b model` for improved\n",
            "parser-based sentence segmentation.)\n",
            "✔ Generated output file (582 documents):\n",
            "SPACYdata\\iob_train_BC5CDR-disease.spacy\n"
          ],
          "name": "stdout"
        }
      ]
    },
    {
      "cell_type": "code",
      "metadata": {
        "id": "oNWRLf06IOQC",
        "outputId": "c327bdb1-d77b-41da-e3ac-638cadd79224"
      },
      "source": [
        "!python -m spacy convert -c iob -s -n 10 IOBdata/iob_train_NCBI-disease.iob ./SPACYdata"
      ],
      "execution_count": null,
      "outputs": [
        {
          "output_type": "stream",
          "text": [
            "ℹ Auto-detected token-per-line NER format2021-04-11 03:56:47.757050: W tensorflow/stream_executor/platform/default/dso_loader.cc:55] Could not load dynamic library 'cudart64_101.dll'; dlerror: cudart64_101.dll not found\n",
            "2021-04-11 03:56:47.757296: I tensorflow/stream_executor/cuda/cudart_stub.cc:29] Ignore above cudart dlerror if you do not have a GPU set up on your machine.\n",
            "\n",
            "ℹ Grouping every 10 sentences into a document.\n",
            "ℹ Segmenting sentences with sentencizer. (Use `-b model` for improved\n",
            "parser-based sentence segmentation.)\n",
            "✔ Generated output file (590 documents): SPACYdata\\iob_train_NCBI-disease.spacy\n"
          ],
          "name": "stdout"
        }
      ]
    },
    {
      "cell_type": "code",
      "metadata": {
        "id": "PKKphadeIOQE",
        "outputId": "c9dd63f0-54fe-436c-97ea-f5c7b205d8fe"
      },
      "source": [
        "!python -m spacy convert -c iob -s -n 10 IOBdata/iob_train_BC2GM.iob ./SPACYdata"
      ],
      "execution_count": null,
      "outputs": [
        {
          "output_type": "stream",
          "text": [
            "ℹ Auto-detected token-per-line NER format2021-04-10 17:15:34.461089: W tensorflow/stream_executor/platform/default/dso_loader.cc:55] Could not load dynamic library 'cudart64_101.dll'; dlerror: cudart64_101.dll not found\n",
            "2021-04-10 17:15:34.461438: I tensorflow/stream_executor/cuda/cudart_stub.cc:29] Ignore above cudart dlerror if you do not have a GPU set up on your machine.\n",
            "\n",
            "ℹ Grouping every 10 sentences into a document.\n",
            "ℹ Segmenting sentences with sentencizer. (Use `-b model` for improved\n",
            "parser-based sentence segmentation.)\n",
            "✔ Generated output file (1510 documents): SPACYdata\\iob_train_BC2GM.spacy\n"
          ],
          "name": "stdout"
        }
      ]
    },
    {
      "cell_type": "code",
      "metadata": {
        "id": "dm2eUwGbIOQE",
        "outputId": "ae8b0ab6-06e3-4c56-c402-dfe83c1255b8"
      },
      "source": [
        "!python -m spacy convert -c iob -s -n 10 IOBdata/iob_train_JNLPBA.iob ./SPACYdata"
      ],
      "execution_count": null,
      "outputs": [
        {
          "output_type": "stream",
          "text": [
            "ℹ Auto-detected token-per-line NER format2021-04-10 20:22:26.988199: W tensorflow/stream_executor/platform/default/dso_loader.cc:55] Could not load dynamic library 'cudart64_101.dll'; dlerror: cudart64_101.dll not found\n",
            "2021-04-10 20:22:26.988416: I tensorflow/stream_executor/cuda/cudart_stub.cc:29] Ignore above cudart dlerror if you do not have a GPU set up on your machine.\n",
            "\n",
            "ℹ Grouping every 10 sentences into a document.\n",
            "ℹ Segmenting sentences with sentencizer. (Use `-b model` for improved\n",
            "parser-based sentence segmentation.)\n",
            "✔ Generated output file (1610 documents): SPACYdata\\iob_train_JNLPBA.spacy\n"
          ],
          "name": "stdout"
        }
      ]
    },
    {
      "cell_type": "code",
      "metadata": {
        "id": "f6VTRe65IOQF",
        "outputId": "fc019071-fdd8-4aa1-8f11-94383e3bedd6"
      },
      "source": [
        "!python -m spacy convert -c iob -s -n 10 IOBdata/iob_train_BC5CDR-chem.iob ./SPACYdata"
      ],
      "execution_count": null,
      "outputs": [
        {
          "output_type": "stream",
          "text": [
            "ℹ Auto-detected token-per-line NER format2021-04-10 22:04:46.313897: W tensorflow/stream_executor/platform/default/dso_loader.cc:55] Could not load dynamic library 'cudart64_101.dll'; dlerror: cudart64_101.dll not found\n",
            "2021-04-10 22:04:46.314211: I tensorflow/stream_executor/cuda/cudart_stub.cc:29] Ignore above cudart dlerror if you do not have a GPU set up on your machine.\n",
            "\n",
            "ℹ Grouping every 10 sentences into a document.\n",
            "ℹ Segmenting sentences with sentencizer. (Use `-b model` for improved\n",
            "parser-based sentence segmentation.)\n",
            "✔ Generated output file (582 documents): SPACYdata\\iob_train_BC5CDR-chem.spacy\n"
          ],
          "name": "stdout"
        }
      ]
    },
    {
      "cell_type": "code",
      "metadata": {
        "id": "0G0OjpWHIOQG",
        "outputId": "84e6588f-81dd-4235-bf57-ee131e0c9119"
      },
      "source": [
        "!python -m spacy convert -c iob -s -n 10 IOBdata/iob_train_BC4CHEMD.iob ./SPACYdata"
      ],
      "execution_count": null,
      "outputs": [
        {
          "output_type": "stream",
          "text": [
            "ℹ Auto-detected token-per-line NER format2021-04-10 22:11:01.133482: W tensorflow/stream_executor/platform/default/dso_loader.cc:55] Could not load dynamic library 'cudart64_101.dll'; dlerror: cudart64_101.dll not found\n",
            "2021-04-10 22:11:01.133701: I tensorflow/stream_executor/cuda/cudart_stub.cc:29] Ignore above cudart dlerror if you do not have a GPU set up on your machine.\n",
            "\n",
            "ℹ Grouping every 10 sentences into a document.\n",
            "ℹ Segmenting sentences with sentencizer. (Use `-b model` for improved\n",
            "parser-based sentence segmentation.)\n",
            "✔ Generated output file (3732 documents): SPACYdata\\iob_train_BC4CHEMD.spacy\n"
          ],
          "name": "stdout"
        }
      ]
    },
    {
      "cell_type": "markdown",
      "metadata": {
        "id": "H2k7UIn2-BLj"
      },
      "source": [
        "### Arquivos de teste"
      ]
    },
    {
      "cell_type": "code",
      "metadata": {
        "id": "EIhPu2NXIOQH",
        "outputId": "0815fa31-ecc1-4b6b-bedb-7af91e2c083d"
      },
      "source": [
        "!python -m spacy convert -c iob -s -n 10 IOBdata/iob_test_s800.iob ./SPACYdata"
      ],
      "execution_count": null,
      "outputs": [
        {
          "output_type": "stream",
          "text": [
            "ℹ Auto-detected token-per-line NER format2021-04-11 04:04:56.648856: W tensorflow/stream_executor/platform/default/dso_loader.cc:55] Could not load dynamic library 'cudart64_101.dll'; dlerror: cudart64_101.dll not found\n",
            "2021-04-11 04:04:56.649178: I tensorflow/stream_executor/cuda/cudart_stub.cc:29] Ignore above cudart dlerror if you do not have a GPU set up on your machine.\n",
            "\n",
            "ℹ Grouping every 10 sentences into a document.\n",
            "ℹ Segmenting sentences with sentencizer. (Use `-b model` for improved\n",
            "parser-based sentence segmentation.)\n",
            "✔ Generated output file (202 documents): SPACYdata\\iob_test_s800.spacy\n"
          ],
          "name": "stdout"
        }
      ]
    },
    {
      "cell_type": "code",
      "metadata": {
        "id": "-Mr-Y3zIIOQH",
        "outputId": "e5b97a20-372a-4d59-cd61-10f85f0263d3"
      },
      "source": [
        "!python -m spacy convert -c iob -s -n 10 IOBdata/iob_test_linnaeus.iob ./SPACYdata"
      ],
      "execution_count": null,
      "outputs": [
        {
          "output_type": "stream",
          "text": [
            "ℹ Auto-detected token-per-line NER format2021-04-11 04:05:52.967773: W tensorflow/stream_executor/platform/default/dso_loader.cc:55] Could not load dynamic library 'cudart64_101.dll'; dlerror: cudart64_101.dll not found\n",
            "2021-04-11 04:05:52.968228: I tensorflow/stream_executor/cuda/cudart_stub.cc:29] Ignore above cudart dlerror if you do not have a GPU set up on your machine.\n",
            "\n",
            "ℹ Grouping every 10 sentences into a document.\n",
            "ℹ Segmenting sentences with sentencizer. (Use `-b model` for improved\n",
            "parser-based sentence segmentation.)\n",
            "✔ Generated output file (801 documents): SPACYdata\\iob_test_linnaeus.spacy\n"
          ],
          "name": "stdout"
        }
      ]
    },
    {
      "cell_type": "code",
      "metadata": {
        "id": "LNqzJ7m2IOQI",
        "outputId": "03580765-d914-4cf9-8425-f587ed9a1b09"
      },
      "source": [
        "!python -m spacy convert -c iob -s -n 10 IOBdata/iob_test_BC5CDR-disease.iob ./SPACYdata"
      ],
      "execution_count": null,
      "outputs": [
        {
          "output_type": "stream",
          "text": [
            "ℹ Auto-detected token-per-line NER format2021-04-11 04:17:37.228820: W tensorflow/stream_executor/platform/default/dso_loader.cc:55] Could not load dynamic library 'cudart64_101.dll'; dlerror: cudart64_101.dll not found\n",
            "2021-04-11 04:17:37.229624: I tensorflow/stream_executor/cuda/cudart_stub.cc:29] Ignore above cudart dlerror if you do not have a GPU set up on your machine.\n",
            "\n",
            "ℹ Grouping every 10 sentences into a document.\n",
            "ℹ Segmenting sentences with sentencizer. (Use `-b model` for improved\n",
            "parser-based sentence segmentation.)\n",
            "✔ Generated output file (650 documents): SPACYdata\\iob_test_BC5CDR-disease.spacy\n"
          ],
          "name": "stdout"
        }
      ]
    },
    {
      "cell_type": "code",
      "metadata": {
        "id": "ihE5Rjh0IOQI",
        "outputId": "87124800-5a9b-4085-ff33-831cf79d091c"
      },
      "source": [
        "!python -m spacy convert -c iob -s -n 10 IOBdata/iob_test_NCBI-disease.iob ./SPACYdata"
      ],
      "execution_count": null,
      "outputs": [
        {
          "output_type": "stream",
          "text": [
            "ℹ Auto-detected token-per-line NER format2021-04-11 04:24:26.974206: W tensorflow/stream_executor/platform/default/dso_loader.cc:55] Could not load dynamic library 'cudart64_101.dll'; dlerror: cudart64_101.dll not found\n",
            "2021-04-11 04:24:26.974469: I tensorflow/stream_executor/cuda/cudart_stub.cc:29] Ignore above cudart dlerror if you do not have a GPU set up on your machine.\n",
            "\n",
            "ℹ Grouping every 10 sentences into a document.\n",
            "ℹ Segmenting sentences with sentencizer. (Use `-b model` for improved\n",
            "parser-based sentence segmentation.)\n",
            "✔ Generated output file (98 documents): SPACYdata\\iob_test_NCBI-disease.spacy\n"
          ],
          "name": "stdout"
        }
      ]
    },
    {
      "cell_type": "code",
      "metadata": {
        "id": "kMb1v6ZGIOQJ",
        "outputId": "037e1af4-1cf8-4caa-fb7a-3614332aa872"
      },
      "source": [
        "!python -m spacy convert -c iob -s -n 10 IOBdata/iob_test_BC2GM.iob ./SPACYdata"
      ],
      "execution_count": null,
      "outputs": [
        {
          "output_type": "stream",
          "text": [
            "ℹ Auto-detected token-per-line NER format2021-04-11 04:24:50.553678: W tensorflow/stream_executor/platform/default/dso_loader.cc:55] Could not load dynamic library 'cudart64_101.dll'; dlerror: cudart64_101.dll not found\n",
            "2021-04-11 04:24:50.554005: I tensorflow/stream_executor/cuda/cudart_stub.cc:29] Ignore above cudart dlerror if you do not have a GPU set up on your machine.\n",
            "\n",
            "ℹ Grouping every 10 sentences into a document.\n",
            "ℹ Segmenting sentences with sentencizer. (Use `-b model` for improved\n",
            "parser-based sentence segmentation.)\n",
            "✔ Generated output file (611 documents): SPACYdata\\iob_test_BC2GM.spacy\n"
          ],
          "name": "stdout"
        }
      ]
    },
    {
      "cell_type": "code",
      "metadata": {
        "id": "pCrwEICwIOQK",
        "outputId": "a312b0cf-f251-479a-b545-955fa5fe1eef"
      },
      "source": [
        "!python -m spacy convert -c iob -s -n 10 IOBdata/iob_test_JNLPBA.iob ./SPACYdata"
      ],
      "execution_count": null,
      "outputs": [
        {
          "output_type": "stream",
          "text": [
            "ℹ Auto-detected token-per-line NER format2021-04-11 04:33:55.428361: W tensorflow/stream_executor/platform/default/dso_loader.cc:55] Could not load dynamic library 'cudart64_101.dll'; dlerror: cudart64_101.dll not found\n",
            "2021-04-11 04:33:55.428684: I tensorflow/stream_executor/cuda/cudart_stub.cc:29] Ignore above cudart dlerror if you do not have a GPU set up on your machine.\n",
            "\n",
            "ℹ Grouping every 10 sentences into a document.\n",
            "ℹ Segmenting sentences with sentencizer. (Use `-b model` for improved\n",
            "parser-based sentence segmentation.)\n",
            "✔ Generated output file (429 documents): SPACYdata\\iob_test_JNLPBA.spacy\n"
          ],
          "name": "stdout"
        }
      ]
    },
    {
      "cell_type": "code",
      "metadata": {
        "id": "t08J04wcIOQL",
        "outputId": "f8516583-5f79-45a1-e021-0aeeda95e092"
      },
      "source": [
        "!python -m spacy convert -c iob -s -n 10 IOBdata/iob_test_BC5CDR-chem.iob ./SPACYdata"
      ],
      "execution_count": null,
      "outputs": [
        {
          "output_type": "stream",
          "text": [
            "ℹ Auto-detected token-per-line NER format2021-04-11 04:39:38.785204: W tensorflow/stream_executor/platform/default/dso_loader.cc:55] Could not load dynamic library 'cudart64_101.dll'; dlerror: cudart64_101.dll not found\n",
            "2021-04-11 04:39:38.785606: I tensorflow/stream_executor/cuda/cudart_stub.cc:29] Ignore above cudart dlerror if you do not have a GPU set up on your machine.\n",
            "\n",
            "ℹ Grouping every 10 sentences into a document.\n",
            "ℹ Segmenting sentences with sentencizer. (Use `-b model` for improved\n",
            "parser-based sentence segmentation.)\n",
            "✔ Generated output file (650 documents): SPACYdata\\iob_test_BC5CDR-chem.spacy\n"
          ],
          "name": "stdout"
        }
      ]
    },
    {
      "cell_type": "code",
      "metadata": {
        "id": "LoRgDZtjIOQL",
        "outputId": "034d84fe-bfbe-4d4e-9c15-36c62d7aed73"
      },
      "source": [
        "!python -m spacy convert -c iob -s -n 10 IOBdata/iob_test_BC4CHEMD.iob ./SPACYdata"
      ],
      "execution_count": null,
      "outputs": [
        {
          "output_type": "stream",
          "text": [
            "2021-04-11 04:46:28.555833: W tensorflow/stream_executor/platform/default/dso_loader.cc:55] Could not load dynamic library 'cudart64_101.dll'; dlerror: cudart64_101.dll not found\n",
            "2021-04-11 04:46:28.556264: I tensorflow/stream_executor/cuda/cudart_stub.cc:29] Ignore above cudart dlerror if you do not have a GPU set up on your machine.\n",
            "ℹ Auto-detected token-per-line NER format\n",
            "ℹ Grouping every 10 sentences into a document.\n",
            "ℹ Segmenting sentences with sentencizer. (Use `-b model` for improved\n",
            "parser-based sentence segmentation.)\n",
            "✔ Generated output file (3238 documents): SPACYdata\\iob_test_BC4CHEMD.spacy\n"
          ],
          "name": "stderr"
        }
      ]
    },
    {
      "cell_type": "markdown",
      "metadata": {
        "id": "1dZL57igqO44"
      },
      "source": [
        "### Arquivos de Validação"
      ]
    },
    {
      "cell_type": "code",
      "metadata": {
        "id": "A21YSCugIOQM",
        "outputId": "c9f1dc11-26a5-44dc-bb39-bc2ffa493198"
      },
      "source": [
        "!python -m spacy convert -c iob -s -n 10 IOBdata/iob_devel_s800.iob ./SPACYdata"
      ],
      "execution_count": null,
      "outputs": [
        {
          "output_type": "stream",
          "text": [
            "2021-04-11 09:01:41.449335: W tensorflow/stream_executor/platform/default/dso_loader.cc:55] Could not load dynamic library 'cudart64_101.dll'; dlerror: cudart64_101.dll not found\n",
            "2021-04-11 09:01:41.449818: I tensorflow/stream_executor/cuda/cudart_stub.cc:29] Ignore above cudart dlerror if you do not have a GPU set up on your machine.\n",
            "ℹ Auto-detected token-per-line NER format\n",
            "ℹ Grouping every 10 sentences into a document.\n",
            "ℹ Segmenting sentences with sentencizer. (Use `-b model` for improved\n",
            "parser-based sentence segmentation.)\n",
            "✔ Generated output file (101 documents): SPACYdata\\iob_devel_s800.spacy\n"
          ],
          "name": "stderr"
        }
      ]
    },
    {
      "cell_type": "code",
      "metadata": {
        "id": "sVxHtheiIOQN",
        "outputId": "36f19116-3df2-41cf-b42f-a9cbe5324162"
      },
      "source": [
        "!python -m spacy convert -c iob -s -n 10 IOBdata/iob_devel_linnaeus.iob ./SPACYdata"
      ],
      "execution_count": null,
      "outputs": [
        {
          "output_type": "stream",
          "text": [
            "ℹ Auto-detected token-per-line NER format2021-04-11 09:02:29.147024: W tensorflow/stream_executor/platform/default/dso_loader.cc:55] Could not load dynamic library 'cudart64_101.dll'; dlerror: cudart64_101.dll not found\n",
            "2021-04-11 09:02:29.147898: I tensorflow/stream_executor/cuda/cudart_stub.cc:29] Ignore above cudart dlerror if you do not have a GPU set up on your machine.\n",
            "\n",
            "ℹ Grouping every 10 sentences into a document.\n",
            "ℹ Segmenting sentences with sentencizer. (Use `-b model` for improved\n",
            "parser-based sentence segmentation.)\n",
            "✔ Generated output file (485 documents): SPACYdata\\iob_devel_linnaeus.spacy\n"
          ],
          "name": "stdout"
        }
      ]
    },
    {
      "cell_type": "code",
      "metadata": {
        "id": "ucQV5E89IOQO",
        "outputId": "5771181c-2869-4581-fb64-4fa334ce7741"
      },
      "source": [
        "!python -m spacy convert -c iob -s -n 10 IOBdata/iob_devel_BC5CDR-disease.iob ./SPACYdata"
      ],
      "execution_count": null,
      "outputs": [
        {
          "output_type": "stream",
          "text": [
            "ℹ Auto-detected token-per-line NER format2021-04-11 09:07:35.706545: W tensorflow/stream_executor/platform/default/dso_loader.cc:55] Could not load dynamic library 'cudart64_101.dll'; dlerror: cudart64_101.dll not found\n",
            "2021-04-11 09:07:35.706966: I tensorflow/stream_executor/cuda/cudart_stub.cc:29] Ignore above cudart dlerror if you do not have a GPU set up on your machine.\n",
            "\n",
            "ℹ Grouping every 10 sentences into a document.\n",
            "ℹ Segmenting sentences with sentencizer. (Use `-b model` for improved\n",
            "parser-based sentence segmentation.)\n",
            "✔ Generated output file (592 documents):\n",
            "SPACYdata\\iob_devel_BC5CDR-disease.spacy\n"
          ],
          "name": "stdout"
        }
      ]
    },
    {
      "cell_type": "code",
      "metadata": {
        "id": "zlpFAAITIOQP",
        "outputId": "3dc69d96-7318-45e4-b624-757bbe02fa71"
      },
      "source": [
        "!python -m spacy convert -c iob -s -n 10 IOBdata/iob_devel_NCBI-disease.iob ./SPACYdata"
      ],
      "execution_count": null,
      "outputs": [
        {
          "output_type": "stream",
          "text": [
            "ℹ Auto-detected token-per-line NER format2021-04-11 09:14:27.779452: W tensorflow/stream_executor/platform/default/dso_loader.cc:55] Could not load dynamic library 'cudart64_101.dll'; dlerror: cudart64_101.dll not found\n",
            "2021-04-11 09:14:27.779855: I tensorflow/stream_executor/cuda/cudart_stub.cc:29] Ignore above cudart dlerror if you do not have a GPU set up on your machine.\n",
            "\n",
            "ℹ Grouping every 10 sentences into a document.\n",
            "ℹ Segmenting sentences with sentencizer. (Use `-b model` for improved\n",
            "parser-based sentence segmentation.)\n",
            "✔ Generated output file (96 documents): SPACYdata\\iob_devel_NCBI-disease.spacy\n"
          ],
          "name": "stdout"
        }
      ]
    },
    {
      "cell_type": "code",
      "metadata": {
        "id": "QA55zvNZIOQQ",
        "outputId": "ff799a6b-a74f-4e1f-c2c2-53d5a51244f3"
      },
      "source": [
        "!python -m spacy convert -c iob -s -n 10 IOBdata/iob_devel_BC2GM.iob ./SPACYdata"
      ],
      "execution_count": null,
      "outputs": [
        {
          "output_type": "stream",
          "text": [
            "ℹ Auto-detected token-per-line NER format2021-04-11 09:15:00.293805: W tensorflow/stream_executor/platform/default/dso_loader.cc:55] Could not load dynamic library 'cudart64_101.dll'; dlerror: cudart64_101.dll not found\n",
            "2021-04-11 09:15:00.294265: I tensorflow/stream_executor/cuda/cudart_stub.cc:29] Ignore above cudart dlerror if you do not have a GPU set up on your machine.\n",
            "\n",
            "ℹ Grouping every 10 sentences into a document.\n",
            "ℹ Segmenting sentences with sentencizer. (Use `-b model` for improved\n",
            "parser-based sentence segmentation.)\n",
            "✔ Generated output file (313 documents): SPACYdata\\iob_devel_BC2GM.spacy\n"
          ],
          "name": "stdout"
        }
      ]
    },
    {
      "cell_type": "code",
      "metadata": {
        "id": "0iC2EWQ5IOQQ",
        "outputId": "f52f9cd3-f4af-4611-e6a7-2200455a793a"
      },
      "source": [
        "!python -m spacy convert -c iob -s -n 10 IOBdata/iob_devel_JNLPBA.iob ./SPACYdata"
      ],
      "execution_count": null,
      "outputs": [
        {
          "output_type": "stream",
          "text": [
            "ℹ Auto-detected token-per-line NER format2021-04-11 09:17:22.372071: W tensorflow/stream_executor/platform/default/dso_loader.cc:55] Could not load dynamic library 'cudart64_101.dll'; dlerror: cudart64_101.dll not found\n",
            "2021-04-11 09:17:22.372517: I tensorflow/stream_executor/cuda/cudart_stub.cc:29] Ignore above cudart dlerror if you do not have a GPU set up on your machine.\n",
            "\n",
            "ℹ Grouping every 10 sentences into a document.\n",
            "ℹ Segmenting sentences with sentencizer. (Use `-b model` for improved\n",
            "parser-based sentence segmentation.)\n",
            "✔ Generated output file (426 documents): SPACYdata\\iob_devel_JNLPBA.spacy\n"
          ],
          "name": "stdout"
        }
      ]
    },
    {
      "cell_type": "code",
      "metadata": {
        "id": "T62ZcAdxIOQR",
        "outputId": "3038bac8-af42-4766-9a37-73e1a9951b36"
      },
      "source": [
        "!python -m spacy convert -c iob -s -n 10 IOBdata/iob_devel_BC5CDR-chem.iob ./SPACYdata"
      ],
      "execution_count": null,
      "outputs": [
        {
          "output_type": "stream",
          "text": [
            "ℹ Auto-detected token-per-line NER format2021-04-11 09:23:21.104563: W tensorflow/stream_executor/platform/default/dso_loader.cc:55] Could not load dynamic library 'cudart64_101.dll'; dlerror: cudart64_101.dll not found\n",
            "2021-04-11 09:23:21.104859: I tensorflow/stream_executor/cuda/cudart_stub.cc:29] Ignore above cudart dlerror if you do not have a GPU set up on your machine.\n",
            "\n",
            "ℹ Grouping every 10 sentences into a document.\n",
            "ℹ Segmenting sentences with sentencizer. (Use `-b model` for improved\n",
            "parser-based sentence segmentation.)\n",
            "✔ Generated output file (592 documents): SPACYdata\\iob_devel_BC5CDR-chem.spacy\n"
          ],
          "name": "stdout"
        }
      ]
    },
    {
      "cell_type": "code",
      "metadata": {
        "id": "mUVBAWzIIOQS"
      },
      "source": [
        "!python -m spacy convert -c iob -s -n 10 IOBdata/iob_devel_BC4CHEMD.iob ./SPACYdata"
      ],
      "execution_count": null,
      "outputs": []
    },
    {
      "cell_type": "code",
      "metadata": {
        "id": "O5E-Rh9SIOQT"
      },
      "source": [
        ""
      ],
      "execution_count": null,
      "outputs": []
    }
  ]
}