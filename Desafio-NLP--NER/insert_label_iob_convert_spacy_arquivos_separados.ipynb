{
  "nbformat": 4,
  "nbformat_minor": 0,
  "metadata": {
    "colab": {
      "name": "insert_label_iob_convert_spacy_arquivos_separados.ipynb",
      "provenance": [],
      "collapsed_sections": [],
      "machine_shape": "hm",
      "include_colab_link": true
    },
    "kernelspec": {
      "display_name": "Python 3.8.3 64-bit ('base': conda)",
      "name": "python383jvsc74a57bd0b3ba2566441a7c06988d0923437866b63cedc61552a5af99d1f4fb67d367b25f"
    },
    "language_info": {
      "codemirror_mode": {
        "name": "ipython",
        "version": 3
      },
      "file_extension": ".py",
      "mimetype": "text/x-python",
      "name": "python",
      "nbconvert_exporter": "python",
      "pygments_lexer": "ipython3",
      "version": "3.8.3"
    },
    "accelerator": "GPU"
  },
  "cells": [
    {
      "cell_type": "markdown",
      "metadata": {
        "id": "view-in-github",
        "colab_type": "text"
      },
      "source": [
        "<a href=\"https://colab.research.google.com/github/rrfsantos/Desafios-NLP/blob/main/Desafio-NLP--NER/insert_label_iob_convert_spacy_arquivos_separados.ipynb\" target=\"_parent\"><img src=\"https://colab.research.google.com/assets/colab-badge.svg\" alt=\"Open In Colab\"/></a>"
      ]
    },
    {
      "cell_type": "code",
      "metadata": {
        "id": "6_1p-iVITiIY",
        "colab": {
          "base_uri": "https://localhost:8080/",
          "height": 1000
        },
        "outputId": "7b7eb74d-5f19-471d-9561-7986ef0cc29f"
      },
      "source": [
        "!pip install --user -U pip setuptools wheel\n",
        "!pip install --user -U spacy[transformers,lookups]\n",
        "!python -m spacy download en_core_web_lg"
      ],
      "execution_count": null,
      "outputs": [
        {
          "output_type": "stream",
          "text": [
            "Collecting pip\n",
            "\u001b[?25l  Downloading https://files.pythonhosted.org/packages/fe/ef/60d7ba03b5c442309ef42e7d69959f73aacccd0d86008362a681c4698e83/pip-21.0.1-py3-none-any.whl (1.5MB)\n",
            "\u001b[K     |████████████████████████████████| 1.5MB 13.5MB/s \n",
            "\u001b[?25hCollecting setuptools\n",
            "\u001b[?25l  Downloading https://files.pythonhosted.org/packages/ae/42/2876a3a136f8bfa9bd703518441c8db78ff1eeaddf174baa85c083c1fd15/setuptools-56.0.0-py3-none-any.whl (784kB)\n",
            "\u001b[K     |████████████████████████████████| 788kB 62.9MB/s \n",
            "\u001b[?25hRequirement already up-to-date: wheel in /usr/local/lib/python3.7/dist-packages (0.36.2)\n",
            "\u001b[31mERROR: datascience 0.10.6 has requirement folium==0.2.1, but you'll have folium 0.8.3 which is incompatible.\u001b[0m\n",
            "Installing collected packages: pip, setuptools\n",
            "\u001b[33m  WARNING: The scripts pip, pip3 and pip3.7 are installed in '/root/.local/bin' which is not on PATH.\n",
            "  Consider adding this directory to PATH or, if you prefer to suppress this warning, use --no-warn-script-location.\u001b[0m\n",
            "Successfully installed pip-21.0.1 setuptools-56.0.0\n"
          ],
          "name": "stdout"
        },
        {
          "output_type": "display_data",
          "data": {
            "application/vnd.colab-display-data+json": {
              "pip_warning": {
                "packages": [
                  "pkg_resources"
                ]
              }
            }
          },
          "metadata": {
            "tags": []
          }
        },
        {
          "output_type": "stream",
          "text": [
            "WARNING: pip is being invoked by an old script wrapper. This will fail in a future version of pip.\n",
            "Please see https://github.com/pypa/pip/issues/5599 for advice on fixing the underlying issue.\n",
            "To avoid this problem you can invoke Python with '-m pip' instead of running pip directly.\n",
            "Requirement already satisfied: spacy[lookups,transformers] in /usr/local/lib/python3.7/dist-packages (2.2.4)\n",
            "Collecting spacy[lookups,transformers]\n",
            "  Downloading spacy-3.0.5-cp37-cp37m-manylinux2014_x86_64.whl (12.8 MB)\n",
            "\u001b[K     |████████████████████████████████| 12.8 MB 9.8 MB/s \n",
            "\u001b[?25hCollecting spacy-legacy<3.1.0,>=3.0.0\n",
            "  Downloading spacy_legacy-3.0.3-py2.py3-none-any.whl (12 kB)\n",
            "Requirement already satisfied: requests<3.0.0,>=2.13.0 in /usr/local/lib/python3.7/dist-packages (from spacy[lookups,transformers]) (2.23.0)\n",
            "Collecting srsly<3.0.0,>=2.4.0\n",
            "  Downloading srsly-2.4.1-cp37-cp37m-manylinux2014_x86_64.whl (456 kB)\n",
            "\u001b[K     |████████████████████████████████| 456 kB 66.3 MB/s \n",
            "\u001b[?25hRequirement already satisfied: tqdm<5.0.0,>=4.38.0 in /usr/local/lib/python3.7/dist-packages (from spacy[lookups,transformers]) (4.41.1)\n",
            "Collecting pydantic<1.8.0,>=1.7.1\n",
            "  Downloading pydantic-1.7.3-cp37-cp37m-manylinux2014_x86_64.whl (9.1 MB)\n",
            "\u001b[K     |████████████████████████████████| 9.1 MB 42.6 MB/s \n",
            "\u001b[?25hRequirement already satisfied: numpy>=1.15.0 in /usr/local/lib/python3.7/dist-packages (from spacy[lookups,transformers]) (1.19.5)\n",
            "Requirement already satisfied: setuptools in /root/.local/lib/python3.7/site-packages (from spacy[lookups,transformers]) (56.0.0)\n",
            "Requirement already satisfied: jinja2 in /usr/local/lib/python3.7/dist-packages (from spacy[lookups,transformers]) (2.11.3)\n",
            "Collecting typer<0.4.0,>=0.3.0\n",
            "  Downloading typer-0.3.2-py3-none-any.whl (21 kB)\n",
            "Requirement already satisfied: typing-extensions<4.0.0.0,>=3.7.4 in /usr/local/lib/python3.7/dist-packages (from spacy[lookups,transformers]) (3.7.4.3)\n",
            "Requirement already satisfied: preshed<3.1.0,>=3.0.2 in /usr/local/lib/python3.7/dist-packages (from spacy[lookups,transformers]) (3.0.5)\n",
            "Requirement already satisfied: wasabi<1.1.0,>=0.8.1 in /usr/local/lib/python3.7/dist-packages (from spacy[lookups,transformers]) (0.8.2)\n",
            "Collecting catalogue<2.1.0,>=2.0.1\n",
            "  Downloading catalogue-2.0.3-py3-none-any.whl (16 kB)\n",
            "Requirement already satisfied: blis<0.8.0,>=0.4.0 in /usr/local/lib/python3.7/dist-packages (from spacy[lookups,transformers]) (0.4.1)\n",
            "Collecting thinc<8.1.0,>=8.0.2\n",
            "  Downloading thinc-8.0.3-cp37-cp37m-manylinux2014_x86_64.whl (1.1 MB)\n",
            "\u001b[K     |████████████████████████████████| 1.1 MB 75.0 MB/s \n",
            "\u001b[?25hRequirement already satisfied: packaging>=20.0 in /usr/local/lib/python3.7/dist-packages (from spacy[lookups,transformers]) (20.9)\n",
            "Requirement already satisfied: murmurhash<1.1.0,>=0.28.0 in /usr/local/lib/python3.7/dist-packages (from spacy[lookups,transformers]) (1.0.5)\n",
            "Requirement already satisfied: importlib-metadata>=0.20 in /usr/local/lib/python3.7/dist-packages (from spacy[lookups,transformers]) (3.10.1)\n",
            "Collecting pathy>=0.3.5\n",
            "  Downloading pathy-0.4.0-py3-none-any.whl (36 kB)\n",
            "Requirement already satisfied: cymem<2.1.0,>=2.0.2 in /usr/local/lib/python3.7/dist-packages (from spacy[lookups,transformers]) (2.0.5)\n",
            "Collecting spacy-transformers<1.1.0,>=1.0.1\n",
            "  Downloading spacy_transformers-1.0.2-py2.py3-none-any.whl (39 kB)\n",
            "Collecting spacy-lookups-data<1.1.0,>=1.0.0\n",
            "  Downloading spacy_lookups_data-1.0.0-py2.py3-none-any.whl (93.4 MB)\n",
            "\u001b[K     |████████████████████████████████| 93.4 MB 1.9 MB/s eta 0:00:01"
          ],
          "name": "stdout"
        }
      ]
    },
    {
      "cell_type": "code",
      "metadata": {
        "id": "rJHBgCZSTiIb"
      },
      "source": [
        "import pandas as pd\n",
        "import json\n",
        "import warnings\n",
        "import csv\n",
        "import spacy\n",
        "import numpy as np\n",
        "import re\n",
        "\n",
        "from spacy.lang.en import English\n",
        "from spacy.pipeline import EntityRuler\n",
        "\n",
        "warnings.filterwarnings(\"ignore\")"
      ],
      "execution_count": null,
      "outputs": []
    },
    {
      "cell_type": "code",
      "metadata": {
        "id": "4rD2uXZDJV2S"
      },
      "source": [
        "!python -m spacy info"
      ],
      "execution_count": null,
      "outputs": []
    },
    {
      "cell_type": "code",
      "metadata": {
        "id": "0nEs3PC4KxEP"
      },
      "source": [
        "from google.colab import drive\n",
        "drive.mount('/content/drive')\n",
        "\n",
        "import os\n",
        "workdir_path = '/content/drive/My Drive/desafio 2/'\n",
        "os.chdir(workdir_path)"
      ],
      "execution_count": null,
      "outputs": []
    },
    {
      "cell_type": "markdown",
      "metadata": {
        "id": "fheoC1OOSqSY"
      },
      "source": [
        "## Ler arquivos IOB e incluir o nome da classe à tag"
      ]
    },
    {
      "cell_type": "code",
      "metadata": {
        "id": "sYx9Di2-rgOU"
      },
      "source": [
        "dirs = ['s800','linnaeus','BC5CDR-disease','NCBI-disease','BC2GM','JNLPBA','BC4CHEMD','BC5CDR-chem']"
      ],
      "execution_count": null,
      "outputs": []
    },
    {
      "cell_type": "markdown",
      "metadata": {
        "id": "SyZkeIlgcHvk"
      },
      "source": [
        "### Arquivos de treino"
      ]
    },
    {
      "cell_type": "code",
      "metadata": {
        "id": "Qad8D8uaTiIe"
      },
      "source": [
        "for dir in dirs:\n",
        "    df = pd.read_csv('NERdata/' + dir + '/train_dev.tsv', sep='\\t', header=None, names=['token','tag'],\n",
        "                         quoting=csv.QUOTE_NONE, error_bad_lines=False, skipinitialspace = True)\n",
        "       \n",
        "    if (dir == 's800' or dir == 'linnaeus'):\n",
        "      df['tag'] = df['tag'].replace(['B','I'],['B-SPECIES','I-SPECIES'])\n",
        "    elif (dir == 'BC5CDR-disease' or dir == 'NCBI-disease'):\n",
        "      df['tag'] = df['tag'].replace(['B','I'],['B-DISEASE','I-DISEASE'])\n",
        "    elif (dir == 'BC2GM' or dir == 'JNLPBA'):\n",
        "      df['tag'] = df['tag'].replace(['B','I'],['B-DRUG_PROTEIN','I-DRUG_PROTEIN'])\n",
        "    else:\n",
        "      df['tag'] = df['tag'].replace(['B','I'],['B-CHEMICALS','I-CHEMICALS'])\n",
        "  \n",
        "    df.dropna(inplace=True)\n",
        "\n",
        "    df.to_csv('IOBdata/iob_train_' + dir + '.iob', sep='\\t', index=False, header=False)  "
      ],
      "execution_count": null,
      "outputs": []
    },
    {
      "cell_type": "markdown",
      "metadata": {
        "id": "BuTm4aHkiLfJ"
      },
      "source": [
        "### Arquivos de Teste"
      ]
    },
    {
      "cell_type": "code",
      "metadata": {
        "id": "oDMVr8ti4Xjj"
      },
      "source": [
        "for dir in dirs:\n",
        "    df = pd.read_csv('NERdata/' + dir + '/test.tsv', sep='\\t', header=None, names=['token','tag'],\n",
        "                         quoting=csv.QUOTE_NONE, error_bad_lines=False, skipinitialspace = True)\n",
        "     \n",
        "\n",
        "    if (dir == 's800' or dir == 'linnaeus'):\n",
        "      df['tag'] = df['tag'].replace(['B','I'],['B-SPECIES','I-SPECIES'])\n",
        "    elif (dir == 'BC5CDR-disease' or dir == 'NCBI-disease'):\n",
        "      df['tag'] = df['tag'].replace(['B','I'],['B-DISEASE','I-DISEASE'])\n",
        "    elif (dir == 'BC2GM' or dir == 'JNLPBA'):\n",
        "      df['tag'] = df['tag'].replace(['B','I'],['B-DRUG_PROTEIN','I-DRUG_PROTEIN'])\n",
        "    else:\n",
        "      df['tag'] = df['tag'].replace(['B','I'],['B-CHEMICALS','I-CHEMICALS'])\n",
        "\n",
        "    df.dropna(inplace=True)\n",
        "\n",
        "    df.to_csv('IOBdata/iob_test_' + dir + '.iob', sep='\\t', index=False, header=False)  "
      ],
      "execution_count": null,
      "outputs": []
    },
    {
      "cell_type": "markdown",
      "metadata": {
        "id": "KE8WQ48giLfL"
      },
      "source": [
        "## Converter arquivos em formato IOB para o formato binário .spacy"
      ]
    },
    {
      "cell_type": "markdown",
      "metadata": {
        "id": "M6dw_5fhiLfL"
      },
      "source": [
        "### Arquivos de Treino"
      ]
    },
    {
      "cell_type": "code",
      "metadata": {
        "id": "enP4cwGliLfL"
      },
      "source": [
        "!python -m spacy convert -c iob -s -n 10 -t json IOBdata/iob_train_s800.iob ./SPACYdata/train\n",
        "!python -m spacy convert -c iob -s -n 10 IOBdata/iob_train_s800.iob ./SPACYdata/train"
      ],
      "execution_count": null,
      "outputs": []
    },
    {
      "cell_type": "code",
      "metadata": {
        "id": "WKz4ac08iLfM"
      },
      "source": [
        "!python -m spacy convert -c iob -s -n 10 -t json IOBdata/iob_train_linnaeus.iob ./SPACYdata/train\n",
        "!python -m spacy convert -c iob -s -n 10 IOBdata/iob_train_linnaeus.iob ./SPACYdata/train"
      ],
      "execution_count": null,
      "outputs": []
    },
    {
      "cell_type": "code",
      "metadata": {
        "id": "eEQk-Uu0iLfN"
      },
      "source": [
        "!python -m spacy convert -c iob -s -n 10 -t json IOBdata/iob_train_BC5CDR-disease.iob ./SPACYdata/train\n",
        "!python -m spacy convert -c iob -s -n 10 IOBdata/iob_train_BC5CDR-disease.iob ./SPACYdata/train"
      ],
      "execution_count": null,
      "outputs": []
    },
    {
      "cell_type": "code",
      "metadata": {
        "id": "Ca01CoFdiLfN"
      },
      "source": [
        "!python -m spacy convert -c iob -s -n 10 -t json IOBdata/iob_train_NCBI-disease.iob ./SPACYdata/train\n",
        "!python -m spacy convert -c iob -s -n 10 IOBdata/iob_train_NCBI-disease.iob ./SPACYdata/train"
      ],
      "execution_count": null,
      "outputs": []
    },
    {
      "cell_type": "code",
      "metadata": {
        "id": "dBg9gNPCiLfN"
      },
      "source": [
        "!python -m spacy convert -c iob -s -n 10 -t json IOBdata/iob_train_BC2GM.iob ./SPACYdata/train\n",
        "!python -m spacy convert -c iob -s -n 10 IOBdata/iob_train_BC2GM.iob ./SPACYdata/train"
      ],
      "execution_count": null,
      "outputs": []
    },
    {
      "cell_type": "code",
      "metadata": {
        "id": "gEFyXKs1iLfO"
      },
      "source": [
        "!python -m spacy convert -c iob -s -n 10 -t json IOBdata/iob_train_JNLPBA.iob ./SPACYdata/train\n",
        "!python -m spacy convert -c iob -s -n 10 IOBdata/iob_train_JNLPBA.iob ./SPACYdata/train"
      ],
      "execution_count": null,
      "outputs": []
    },
    {
      "cell_type": "code",
      "metadata": {
        "id": "7nOrGC_diLfO"
      },
      "source": [
        "!python -m spacy convert -c iob -s -n 10 -t json IOBdata/iob_train_BC5CDR-chem.iob ./SPACYdata/train\n",
        "!python -m spacy convert -c iob -s -n 10 IOBdata/iob_train_BC5CDR-chem.iob ./SPACYdata/train"
      ],
      "execution_count": null,
      "outputs": []
    },
    {
      "cell_type": "code",
      "metadata": {
        "id": "ZTN1KVT1iLfO"
      },
      "source": [
        "!python -m spacy convert -c iob -s -n 10 -t json IOBdata/iob_train_BC4CHEMD.iob ./SPACYdata/train\n",
        "!python -m spacy convert -c iob -s -n 10 IOBdata/iob_train_BC4CHEMD.iob ./SPACYdata/train"
      ],
      "execution_count": null,
      "outputs": []
    },
    {
      "cell_type": "markdown",
      "metadata": {
        "id": "H2k7UIn2-BLj"
      },
      "source": [
        "### Arquivos de teste"
      ]
    },
    {
      "cell_type": "code",
      "metadata": {
        "id": "x1zQ2kLLiLfP"
      },
      "source": [
        "!python -m spacy convert -c iob -s -n 10 -t json IOBdata/iob_test_s800.iob ./SPACYdata/test\n",
        "!python -m spacy convert -c iob -s -n 10 IOBdata/iob_test_s800.iob ./SPACYdata/test"
      ],
      "execution_count": null,
      "outputs": []
    },
    {
      "cell_type": "code",
      "metadata": {
        "id": "wX4vOk5EiLfP"
      },
      "source": [
        "!python -m spacy convert -c iob -s -n 10 -t json IOBdata/iob_test_linnaeus.iob ./SPACYdata/test\n",
        "!python -m spacy convert -c iob -s -n 10 IOBdata/iob_test_linnaeus.iob ./SPACYdata/test"
      ],
      "execution_count": null,
      "outputs": []
    },
    {
      "cell_type": "code",
      "metadata": {
        "id": "lYliyZbUiLfP"
      },
      "source": [
        "!python -m spacy convert -c iob -s -n 10 -t json IOBdata/iob_test_BC5CDR-disease.iob ./SPACYdata/test\n",
        "!python -m spacy convert -c iob -s -n 10 IOBdata/iob_test_BC5CDR-disease.iob ./SPACYdata/test"
      ],
      "execution_count": null,
      "outputs": []
    },
    {
      "cell_type": "code",
      "metadata": {
        "id": "MAiniwppiLfQ"
      },
      "source": [
        "!python -m spacy convert -c iob -s -n 10 -t json IOBdata/iob_test_NCBI-disease.iob ./SPACYdata/test\n",
        "!python -m spacy convert -c iob -s -n 10 IOBdata/iob_test_NCBI-disease.iob ./SPACYdata/test"
      ],
      "execution_count": null,
      "outputs": []
    },
    {
      "cell_type": "code",
      "metadata": {
        "id": "dG3VCx74iLfQ"
      },
      "source": [
        "!python -m spacy convert -c iob -s -n 10 -t json IOBdata/iob_test_BC2GM.iob ./SPACYdata/test\n",
        "!python -m spacy convert -c iob -s -n 10 IOBdata/iob_test_BC2GM.iob ./SPACYdata/test"
      ],
      "execution_count": null,
      "outputs": []
    },
    {
      "cell_type": "code",
      "metadata": {
        "id": "hN5QJButiLfQ"
      },
      "source": [
        "!python -m spacy convert -c iob -s -n 10 -t json IOBdata/iob_test_JNLPBA.iob ./SPACYdata/test\n",
        "!python -m spacy convert -c iob -s -n 10 IOBdata/iob_test_JNLPBA.iob ./SPACYdata/test"
      ],
      "execution_count": null,
      "outputs": []
    },
    {
      "cell_type": "code",
      "metadata": {
        "id": "82tb_IgqiLfQ"
      },
      "source": [
        "!python -m spacy convert -c iob -s -n 10 -t json IOBdata/iob_test_BC5CDR-chem.iob ./SPACYdata/test\n",
        "!python -m spacy convert -c iob -s -n 10 IOBdata/iob_test_BC5CDR-chem.iob ./SPACYdata/test"
      ],
      "execution_count": null,
      "outputs": []
    },
    {
      "cell_type": "code",
      "metadata": {
        "id": "CwaJUBZSiLfR"
      },
      "source": [
        "!python -m spacy convert -c iob -s -n 10 -t json IOBdata/iob_test_BC4CHEMD.iob ./SPACYdata/test\n",
        "!python -m spacy convert -c iob -s -n 10 IOBdata/iob_test_BC4CHEMD.iob ./SPACYdata/test"
      ],
      "execution_count": null,
      "outputs": []
    }
  ]
}